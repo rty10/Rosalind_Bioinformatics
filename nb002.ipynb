{
 "cells": [
  {
   "cell_type": "markdown",
   "metadata": {},
   "source": [
    "## 'Transcribing DNA into RNA'\n",
    "\n",
    "Given: A DNA string t having length at most 1000 nt.\n",
    "\n",
    "Return: The transcribed RNA string of t.\n"
   ]
  },
  {
   "cell_type": "code",
   "execution_count": 4,
   "metadata": {},
   "outputs": [],
   "source": [
    "sample = 'GATGGAACTTGACTACGTAAATT'"
   ]
  },
  {
   "cell_type": "code",
   "execution_count": 5,
   "metadata": {},
   "outputs": [],
   "source": [
    "def dna_rna_transcribe(dna_string):\n",
    "    '''text\n",
    "    Load in a string of DNA nucleotides and transcribe into RNA nucleotides,\n",
    "       replacing thymine 'T' with uracil 'U'\n",
    "    Result will be a output of the transcribed RNA string text\n",
    "    '''\n",
    "    rna_string = ''\n",
    "    for i in dna_string:\n",
    "        if i!='T':\n",
    "            rna_string += i\n",
    "        else:\n",
    "            rna_string += 'U'\n",
    "    print(rna_string)\n",
    "    #return rna_string"
   ]
  },
  {
   "cell_type": "code",
   "execution_count": 6,
   "metadata": {},
   "outputs": [
    {
     "name": "stdout",
     "output_type": "stream",
     "text": [
      "GATGGAACTTGACTACGTAAATT\n",
      "GAUGGAACUUGACUACGUAAAUU\n"
     ]
    }
   ],
   "source": [
    "print(sample)\n",
    "dna_rna_transcribe(sample)"
   ]
  },
  {
   "cell_type": "markdown",
   "metadata": {},
   "source": [
    "---"
   ]
  },
  {
   "cell_type": "code",
   "execution_count": 7,
   "metadata": {},
   "outputs": [
    {
     "name": "stdout",
     "output_type": "stream",
     "text": [
      "UCUUACGUUGACUGCUUCGUGAUCGGGACCCUAACUUCCCCAUUUGCACCUGACGAGCAGCUGCUUACCGCCUCUGCAUAUAUUAAGCUUAAACAACGUUGAGCUACCAAUUCUCCCACGCUUGCGUCCGAGGAAGAUUGGUUCGCUGGACCAGGCCUUGGUAUGCGUUAUGCAAGAUCGCUAUGUGGGAGCAACGGACUCUAGUCGGGAUGAUACCUCCUCUGUUCAGAUGGCUGUAACUCAGCUCACCGUCCCGCAGGGUGCUGGGUUCCGAUGGUGCGUCGCUGAGUUCCACAUGGUACAGGCUGACACUUAACACCCCGAGAUCUUCCGCUUCGGUCCCCUCAAAGGGAGAUCAUAAUGGCUGAUUCGCUCAGAGCGCCAUACACCACCGAGCAAACGUUCCCUUAGACGGCCACCACGUGCGUUAACGAUGAGUACCAAGAGCACUCUAUACUCAGGGAUAAUUUCUUAGUGUAGAGGACCUUCUGAGCACAUGCCACGGGAGAAUUCCGCCGUUGCUCACGUAUACGACCAUUAACCGAGAGCGCCCAACAGUUCGCACGUAUAAACUCUUCGUACCUCUGUGGAAAGUAACAUUAACUCCAACGUUUGAAGUCGCGAAUCGAUCGAUACGUAAUCUUCCUAUCCCUGGGGUGCUGGCACUCACAUAUUUGCUGAACCAAUGGUUCAGCAUCGGGACAGCGAGCCCCUCCCCUGCGGAACCGCCAAGCGUCCGGAAAGACCCACGGCUUACGGAGGCAGUGUUUGAACGCAUCGUCAAGAAUGGUGUGAGACUCAUCACUUCCCGCGUAGUGCCCGUAAGAUCGGCCCCGUGUAUCAACGGUAUAUUAGAUAAACUACCUAUGGUUAGUUGAAUUGGGACACUAAAGCGAGGAAUACCUAUGCAUUUUAUGUCGGCUUGUAACUCUUUCGGCAAAGACCCUGCUGAGUUA\n",
      "\n"
     ]
    }
   ],
   "source": [
    "infile = open('datasets/rosalind_rna.txt')\n",
    "text = infile.readline()\n",
    "infile.close()\n",
    "dna_rna_transcribe(text)\n",
    "del text"
   ]
  },
  {
   "cell_type": "code",
   "execution_count": null,
   "metadata": {},
   "outputs": [],
   "source": []
  }
 ],
 "metadata": {
  "kernelspec": {
   "display_name": "dnalab",
   "language": "python",
   "name": "python3"
  },
  "language_info": {
   "codemirror_mode": {
    "name": "ipython",
    "version": 3
   },
   "file_extension": ".py",
   "mimetype": "text/x-python",
   "name": "python",
   "nbconvert_exporter": "python",
   "pygments_lexer": "ipython3",
   "version": "3.10.9"
  }
 },
 "nbformat": 4,
 "nbformat_minor": 2
}
