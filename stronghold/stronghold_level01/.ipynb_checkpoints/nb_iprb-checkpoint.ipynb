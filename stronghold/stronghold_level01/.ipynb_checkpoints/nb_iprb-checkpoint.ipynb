{
 "cells": [
  {
   "cell_type": "markdown",
   "metadata": {},
   "source": [
    "## 'Mendel's First Law'\n",
    "\n",
    "**Given**: Three positive integers *k*, *m*, and *n*, representing a population containing *k*+*m*+*n* organisms:\n",
    "\n",
    "*k* individuals are homozygous dominant for a factor, \n",
    "\n",
    "*m* are heterozygous,\n",
    "\n",
    "and *n* are homozygous recessive.\n",
    "\n",
    "**Return**: The probability that two randomly selected mating organisms will produce an individual possessing a dominant allele (and thus displaying the dominant phenotype). Assume that any two organisms can mate.\n"
   ]
  },
  {
   "cell_type": "code",
   "execution_count": 1,
   "metadata": {},
   "outputs": [],
   "source": [
    "def dominant_progeny(k: int, m: int, n:int) -> float:\n",
    "    '''\n",
    "    Given genotypic information of a population, determine the probability \n",
    "       an offspring will display dominant phenotype.\n",
    "    Given: \n",
    "    _k_ is an integer count of homozygous dominant (e.g. XX) \n",
    "    _m_ is an integer count of heterozygous dominant (e.g. Xx) \n",
    "    _n_ is an integer count of homozygous recessive (e.g. xx) \n",
    "    \n",
    "    Total population is _k_ + _m_ + _n_\n",
    "    Condition: Randomly selecting two members of the population,\n",
    "        thus two different population sizes\n",
    "\n",
    "    Output: probability of offspring dominant phenotype (float)\n",
    "    '''\n",
    "    popA = k+m+n\n",
    "    popB = popA-1\n",
    "\n",
    "    prob_homdomA = k/popA\n",
    "    # Everything with AA will always have dominant progeny\n",
    "    prob_homdomB_homdomA = (k-1)/popB * prob_homdomA\n",
    "    prob_hetdomB_homdomA = (m)/popB   * prob_homdomA\n",
    "    prob_homrecB_homdomA = (n)/popB   * prob_homdomA\n",
    "\n",
    "    # Not everything with Aa will have dominant progeny\n",
    "    prob_hetdomA = m/popA\n",
    "    prob_homdomB_hetdomA = (k)/popB   * prob_hetdomA\n",
    "    # ... Aa and Bb will result in 75% dominant progeny\n",
    "    prob_hetdomB_hetdomA = (m-1)/popB * prob_hetdomA\n",
    "    p_hdBhdA_progD = prob_hetdomB_hetdomA * (3/4)\n",
    "    # ... Aa and bb will result in 50% dominant progeny\n",
    "    prob_homrecB_hetdomA = (n)/popB   * prob_hetdomA\n",
    "    p_hrBhdA_progD = prob_homrecB_hetdomA * (1/2)\n",
    "\n",
    "    # Not everything with aa will have dominant progeny\n",
    "    prob_homrecA = n/popA\n",
    "    prob_homdomB_homrecA = (k)/popB * prob_homrecA\n",
    "    # ... aa and Bb will result in 50% dominaty progeny\n",
    "    prob_hetdomB_homrecA = (m)/popB * prob_homrecA\n",
    "    p_hdBhrA_progD = prob_hetdomB_homrecA * (1/2)\n",
    "    \n",
    "    # Only 1 instance that will show 100% recessive progeny\n",
    "    #prob_homrecB_homrecA = (n-1)/popB  * prob_homrecA\n",
    "    \n",
    "    return round((prob_homdomB_homdomA\n",
    "            + prob_hetdomB_homdomA \n",
    "            + prob_homrecB_homdomA\n",
    "            + prob_homdomB_hetdomA\n",
    "            + p_hdBhdA_progD\n",
    "            + p_hrBhdA_progD\n",
    "            + prob_homdomB_homrecA\n",
    "            + p_hdBhrA_progD), 6\n",
    "    )\n"
   ]
  },
  {
   "cell_type": "code",
   "execution_count": 2,
   "metadata": {},
   "outputs": [
    {
     "name": "stdout",
     "output_type": "stream",
     "text": [
      "0.783333\n"
     ]
    }
   ],
   "source": [
    "# Test code\n",
    "\n",
    "with open('datasets/rosalind_sample_dataset.txt', 'r') as f:\n",
    "    k, m, n = f.read().split()\n",
    "    k = int(k)\n",
    "    m = int(m)\n",
    "    n = int(n)\n",
    "\n",
    "print(dominant_progeny(k, m, n))\n",
    "\n",
    "del k, m, n"
   ]
  },
  {
   "cell_type": "markdown",
   "metadata": {},
   "source": [
    "---"
   ]
  },
  {
   "cell_type": "code",
   "execution_count": 3,
   "metadata": {},
   "outputs": [
    {
     "name": "stdout",
     "output_type": "stream",
     "text": [
      "0.724454\n"
     ]
    }
   ],
   "source": [
    "with open('datasets/rosalind_iprb.txt', 'r') as f:\n",
    "    k, m, n = f.read().split()\n",
    "    k = int(k)\n",
    "    m = int(m)\n",
    "    n = int(n)\n",
    "\n",
    "print(dominant_progeny(k, m, n))\n",
    "\n",
    "del k, m, n"
   ]
  },
  {
   "cell_type": "code",
   "execution_count": null,
   "metadata": {},
   "outputs": [],
   "source": []
  }
 ],
 "metadata": {
  "kernelspec": {
   "display_name": "Python 3 (ipykernel)",
   "language": "python",
   "name": "python3"
  },
  "language_info": {
   "codemirror_mode": {
    "name": "ipython",
    "version": 3
   },
   "file_extension": ".py",
   "mimetype": "text/x-python",
   "name": "python",
   "nbconvert_exporter": "python",
   "pygments_lexer": "ipython3",
   "version": "3.10.13"
  }
 },
 "nbformat": 4,
 "nbformat_minor": 4
}
