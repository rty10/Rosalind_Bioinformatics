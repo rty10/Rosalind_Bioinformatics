{
 "cells": [
  {
   "cell_type": "markdown",
   "metadata": {},
   "source": [
    "## 'Counting Point Mutations'\n",
    "\n",
    "**Given**: Two DNA strings *s* and *t* of equal length (not exceeding 1 kbp).\n",
    "\n",
    "**Return**: The Hamming distance $d_H$(*s*,*t*).\n"
   ]
  },
  {
   "cell_type": "code",
   "execution_count": 9,
   "metadata": {},
   "outputs": [],
   "source": [
    "def hamming_distance(string1:str, string2:str) -> int:\n",
    "    '''\n",
    "    Comparing the two strings of nucleotides of equal length, determine \n",
    "        how many positions are not the same. This is called the Hamming distance.\n",
    "    Output: Hamming distance (integer)\n",
    "    '''\n",
    "    if len(string1) != len(string2):\n",
    "        return print(\"Error: String Lengths are Not Equal\")\n",
    "    else:\n",
    "        dh = 0\n",
    "        for i in range(len(string1)):\n",
    "            if string1[i] != string2[i]:\n",
    "                dh += 1\n",
    "    return dh\n",
    "\n"
   ]
  },
  {
   "cell_type": "code",
   "execution_count": 10,
   "metadata": {},
   "outputs": [
    {
     "name": "stdout",
     "output_type": "stream",
     "text": [
      "GAGCCTACTAACGGGAT\n",
      "CATCGTAATGACGGCCT\n",
      "7\n"
     ]
    }
   ],
   "source": [
    "with open(\"datasets/rosalind_sample_dataset.txt\", \"r\") as f:\n",
    "    text = f.readlines()\n",
    "    text = [t.rstrip('\\n') for t in text]\n",
    "\n",
    "print(text[0])\n",
    "print(text[1])\n",
    "print(hamming_distance(text[0], text[1]))\n"
   ]
  },
  {
   "cell_type": "markdown",
   "metadata": {},
   "source": [
    "---"
   ]
  },
  {
   "cell_type": "code",
   "execution_count": 11,
   "metadata": {},
   "outputs": [
    {
     "name": "stdout",
     "output_type": "stream",
     "text": [
      "480\n"
     ]
    }
   ],
   "source": [
    "with open(\"datasets/rosalind_hamm.txt\", \"r\") as f:\n",
    "    text = f.readlines()\n",
    "    text = [t.rstrip('\\n') for t in text]\n",
    "\n",
    "print(hamming_distance(text[0], text[1]))\n",
    "\n",
    "del text"
   ]
  },
  {
   "cell_type": "code",
   "execution_count": null,
   "metadata": {},
   "outputs": [],
   "source": []
  }
 ],
 "metadata": {
  "kernelspec": {
   "display_name": "Python 3 (ipykernel)",
   "language": "python",
   "name": "python3"
  },
  "language_info": {
   "codemirror_mode": {
    "name": "ipython",
    "version": 3
   },
   "file_extension": ".py",
   "mimetype": "text/x-python",
   "name": "python",
   "nbconvert_exporter": "python",
   "pygments_lexer": "ipython3",
   "version": "3.10.13"
  }
 },
 "nbformat": 4,
 "nbformat_minor": 4
}
