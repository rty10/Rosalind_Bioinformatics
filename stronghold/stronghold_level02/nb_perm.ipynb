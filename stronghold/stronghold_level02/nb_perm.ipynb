{
 "cells": [
  {
   "cell_type": "markdown",
   "metadata": {},
   "source": [
    "## 'Enumerating Gene Orders'\n",
    "\n",
    "**Connections**: `HAMM`\n",
    "\n",
    "---"
   ]
  },
  {
   "cell_type": "markdown",
   "metadata": {},
   "source": [
    "\n",
    "**Given**: A positive integer *n*≤7.\n",
    "\n",
    "**Return**: The total number of permutations of length *n*, followed by a list of all such permutations (in any order).\n",
    "\n",
    "\n",
    "*Notes*:\n"
   ]
  },
  {
   "cell_type": "code",
   "execution_count": 5,
   "metadata": {},
   "outputs": [],
   "source": [
    "# Libraries to load:\n",
    "import os\n",
    "import math\n",
    "import random\n"
   ]
  },
  {
   "cell_type": "code",
   "execution_count": 6,
   "metadata": {},
   "outputs": [],
   "source": [
    "def permutation(n: int):\n",
    "    '''\n",
    "    text\n",
    "    '''\n",
    "    sequence = ''.join( [str(i+1) for i in range(n)] )\n",
    "    perm_ct  = math.factorial(n)\n",
    "    perm_lst = []\n",
    "    val      = 0\n",
    "    print(n, perm_ct, sequence)\n",
    "    \n",
    "    while val < perm_ct:\n",
    "        gentext = ''.join( random.choice(sequence) for _ in range(n) )\n",
    "        \n",
    "        ct = 0\n",
    "        for g in gentext:\n",
    "            if gentext.count(g) == 1:\n",
    "                ct += 1\n",
    "        \n",
    "        if (ct == n)&(' '.join([g for g in gentext]) not in perm_lst):\n",
    "            perm_lst.append(' '.join([g for g in gentext]))\n",
    "            val += 1\n",
    "        \n",
    "        del gentext, ct\n",
    "    \n",
    "    del val, perm_ct, sequence\n",
    "    return sorted(perm_lst)\n",
    "            "
   ]
  },
  {
   "cell_type": "code",
   "execution_count": 7,
   "metadata": {},
   "outputs": [
    {
     "name": "stdout",
     "output_type": "stream",
     "text": [
      "7 5040 1234567\n"
     ]
    }
   ],
   "source": [
    "with open(os.getcwd()+'/datasets/rosalind_sample_dataset.txt','r') as infile:\n",
    "    n = infile.read().rstrip('\\n')\n",
    "    n = int(n)\n",
    "\n",
    "lst = permutation(n)\n",
    "\n",
    "with open(os.getcwd()+'/answer_submissions/rosalind_sample_dataset_answer.txt', 'w') as outfile:\n",
    "    outfile.write(str(len(lst))+'\\n')\n",
    "    for item in lst:\n",
    "        outfile.write(item+'\\n')\n",
    "\n",
    "infile.close()\n",
    "outfile.close()\n",
    "del lst"
   ]
  },
  {
   "cell_type": "markdown",
   "metadata": {},
   "source": [
    "---\n",
    "\n",
    "### Problem Attempt:"
   ]
  },
  {
   "cell_type": "code",
   "execution_count": 4,
   "metadata": {},
   "outputs": [
    {
     "name": "stdout",
     "output_type": "stream",
     "text": [
      "6 720 123456\n"
     ]
    }
   ],
   "source": [
    "with open(os.getcwd()+'/datasets/rosalind_perm.txt','r') as infile:\n",
    "    n = infile.read().rstrip('\\n')\n",
    "    n = int(n)\n",
    "\n",
    "lst = permutation(n)\n",
    "\n",
    "with open(os.getcwd()+'/answer_submissions/rosalind_perm_submission.txt', 'w') as outfile:\n",
    "    outfile.write(str(len(lst))+'\\n')\n",
    "    for item in lst:\n",
    "        outfile.write(item+'\\n')\n",
    "\n",
    "infile.close()\n",
    "outfile.close()\n",
    "del lst"
   ]
  },
  {
   "cell_type": "code",
   "execution_count": null,
   "metadata": {},
   "outputs": [],
   "source": []
  }
 ],
 "metadata": {
  "kernelspec": {
   "display_name": "Python 3 (ipykernel)",
   "language": "python",
   "name": "python3"
  },
  "language_info": {
   "codemirror_mode": {
    "name": "ipython",
    "version": 3
   },
   "file_extension": ".py",
   "mimetype": "text/x-python",
   "name": "python",
   "nbconvert_exporter": "python",
   "pygments_lexer": "ipython3",
   "version": "3.10.13"
  }
 },
 "nbformat": 4,
 "nbformat_minor": 4
}
