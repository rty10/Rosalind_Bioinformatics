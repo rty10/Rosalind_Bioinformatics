{
 "cells": [
  {
   "cell_type": "markdown",
   "metadata": {},
   "source": [
    "## 'Overlap Graphs'\n",
    "\n",
    "**Connections**: `GC`, `SUBS`\n",
    "\n",
    "*Graph Theory, one of my favorite subjects!*\n",
    "\n",
    "---"
   ]
  },
  {
   "cell_type": "markdown",
   "metadata": {},
   "source": [
    "\n",
    "**Given**: A collection of DNA strings in FASTA format having total length at most 10 kbp.\n",
    "\n",
    "**Return**: The adjacency list corresponding to $O_3$. You may return edges in any order.\n"
   ]
  },
  {
   "cell_type": "code",
   "execution_count": 1,
   "metadata": {},
   "outputs": [],
   "source": [
    "# Libraries to load\n",
    "\n"
   ]
  },
  {
   "cell_type": "code",
   "execution_count": 2,
   "metadata": {},
   "outputs": [],
   "source": [
    "# Previous defined functions\n",
    "\n",
    "def fasta_dictionary(path_to_filename):\n",
    "    '''\n",
    "    A more robust function that in the `nb_gc` notebook. Here, open a FASTA file and keep only the identifier and the sequence (ignoring any additional information).\n",
    "    Convert into a dictionary.\n",
    "    Output: a dictionary where the key-value pairs are sequence IDs and sequences, respectively\n",
    "    '''\n",
    "    with open(path_to_filename, 'r') as f:\n",
    "        lst  = f.readlines()\n",
    "    f.close()\n",
    "    for i in range(len(lst)):\n",
    "        if lst[i].startswith('>'):\n",
    "            lst[i] = lst[i].split(' ')[0]+'\\n'\n",
    "    lst  = [i.replace('\\n', ' ') for i in lst]\n",
    "    str1 = ''.join(lst)  \n",
    "    lst2 = str1.split('>')\n",
    "    lst2 = lst2[1:]\n",
    "    seq_dict = {lst2[i].split(' ')[0]:''.join(lst2[i].split(' ')[1:]) for i in range(len(lst2))}\n",
    "    del lst, lst2\n",
    "    return seq_dict\n",
    "\n"
   ]
  },
  {
   "cell_type": "code",
   "execution_count": 3,
   "metadata": {},
   "outputs": [
    {
     "data": {
      "text/plain": [
       "{'Rosalind_0498': 'AAATAAA',\n",
       " 'Rosalind_2391': 'AAATTTT',\n",
       " 'Rosalind_2323': 'TTTTCCC',\n",
       " 'Rosalind_0442': 'AAATCCC',\n",
       " 'Rosalind_5013': 'GGGTGGG'}"
      ]
     },
     "execution_count": 3,
     "metadata": {},
     "output_type": "execute_result"
    }
   ],
   "source": [
    "sd = fasta_dictionary('datasets/rosalind_sample_dataset.txt')\n",
    "\n",
    "sd"
   ]
  },
  {
   "cell_type": "code",
   "execution_count": 4,
   "metadata": {},
   "outputs": [
    {
     "data": {
      "text/plain": [
       "'TTT'"
      ]
     },
     "execution_count": 4,
     "metadata": {},
     "output_type": "execute_result"
    }
   ],
   "source": [
    "sd['Rosalind_2323'][:3]"
   ]
  },
  {
   "cell_type": "code",
   "execution_count": 5,
   "metadata": {},
   "outputs": [
    {
     "data": {
      "text/plain": [
       "'CCC'"
      ]
     },
     "execution_count": 5,
     "metadata": {},
     "output_type": "execute_result"
    }
   ],
   "source": [
    "sd['Rosalind_2323'][-3:]"
   ]
  },
  {
   "cell_type": "code",
   "execution_count": 6,
   "metadata": {},
   "outputs": [
    {
     "name": "stdout",
     "output_type": "stream",
     "text": [
      "['Rosalind_0498', 'Rosalind_2391', 'Rosalind_2323', 'Rosalind_0442', 'Rosalind_5013']\n"
     ]
    }
   ],
   "source": [
    "l = list(sd.keys())\n",
    "print(l)\n",
    "del l"
   ]
  },
  {
   "cell_type": "code",
   "execution_count": 7,
   "metadata": {},
   "outputs": [
    {
     "name": "stdout",
     "output_type": "stream",
     "text": [
      "Rosalind_0498 Rosalind_2391\n",
      "Rosalind_0498 Rosalind_0442\n",
      "Rosalind_2391 Rosalind_2323\n"
     ]
    }
   ],
   "source": [
    "sd_keys = list(sd.keys())\n",
    "\n",
    "for k1 in sd_keys:\n",
    "    suff   = sd[k1][-3:]\n",
    "    n_keys = [i for i in sd_keys if i != k1]\n",
    "    for k2 in n_keys:\n",
    "        if suff == sd[k2][:3]:\n",
    "            print(k1+' '+k2)\n",
    "    del suff, n_keys\n",
    "del sd_keys\n"
   ]
  },
  {
   "cell_type": "code",
   "execution_count": 8,
   "metadata": {},
   "outputs": [],
   "source": [
    "def overlap_graph(sequence_dict, overlap_size:int):\n",
    "    '''\n",
    "    Load in a sequence dictionary from a FASTA-formatted file.\n",
    "    Extract a suffix of size __overlap_size__ from one sequence and compare to all prefixes of the remaining sequences.\n",
    "    Output: Print statement of the two keys in suffix-prefix order.\n",
    "      Optional: this can be converted such that the output can be an adjacency list as a list-of-tuples\n",
    "    '''\n",
    "    adj_list = []\n",
    "    sd_keys = list(sequence_dict.keys())\n",
    "    for k1 in sd_keys:\n",
    "        suff   = sequence_dict[k1][-overlap_size:]\n",
    "        n_keys = [i for i in sd_keys if i != k1]\n",
    "        for k2 in n_keys:\n",
    "            if suff == sequence_dict[k2][:overlap_size]:\n",
    "                adj_list.append(k1+' '+k2)\n",
    "        del suff, n_keys\n",
    "    del sd_keys\n",
    "    for i in adj_list:\n",
    "        print(i)\n",
    "    del adj_list\n",
    "    return\n",
    "\n"
   ]
  },
  {
   "cell_type": "code",
   "execution_count": 9,
   "metadata": {},
   "outputs": [
    {
     "name": "stdout",
     "output_type": "stream",
     "text": [
      "Rosalind_0498 Rosalind_2391\n",
      "Rosalind_0498 Rosalind_0442\n",
      "Rosalind_2391 Rosalind_2323\n"
     ]
    }
   ],
   "source": [
    "overlap_graph(sd, 3)"
   ]
  },
  {
   "cell_type": "code",
   "execution_count": 10,
   "metadata": {},
   "outputs": [],
   "source": [
    "del sd"
   ]
  },
  {
   "cell_type": "code",
   "execution_count": 11,
   "metadata": {},
   "outputs": [
    {
     "name": "stdout",
     "output_type": "stream",
     "text": [
      "dict_keys(['Rosalind_2351', 'Rosalind_6581', 'Rosalind_3806', 'Rosalind_3430', 'Rosalind_6890', 'Rosalind_3696'])\n",
      "-------------------------\n"
     ]
    }
   ],
   "source": [
    "sd = fasta_dictionary('datasets/rosalind_gc.txt')\n",
    "\n",
    "print(sd.keys()) \n",
    "print('-'*25)\n",
    "\n",
    "overlap_graph(sd, 3)\n",
    "\n",
    "del sd"
   ]
  },
  {
   "cell_type": "markdown",
   "metadata": {},
   "source": [
    "---\n",
    "\n",
    "### Problem Attempt:"
   ]
  },
  {
   "cell_type": "code",
   "execution_count": 12,
   "metadata": {},
   "outputs": [
    {
     "name": "stdout",
     "output_type": "stream",
     "text": [
      "Rosalind_8529 Rosalind_8412\n",
      "Rosalind_8719 Rosalind_0533\n",
      "Rosalind_7377 Rosalind_1483\n",
      "Rosalind_0952 Rosalind_4252\n",
      "Rosalind_0952 Rosalind_8629\n",
      "Rosalind_6010 Rosalind_0533\n",
      "Rosalind_2981 Rosalind_8961\n",
      "Rosalind_2981 Rosalind_2935\n",
      "Rosalind_2981 Rosalind_6705\n",
      "Rosalind_4216 Rosalind_2736\n",
      "Rosalind_5376 Rosalind_8863\n",
      "Rosalind_5376 Rosalind_7474\n",
      "Rosalind_5376 Rosalind_9405\n",
      "Rosalind_8215 Rosalind_0044\n",
      "Rosalind_8215 Rosalind_1127\n",
      "Rosalind_8215 Rosalind_7659\n",
      "Rosalind_8215 Rosalind_1880\n",
      "Rosalind_8992 Rosalind_2660\n",
      "Rosalind_1679 Rosalind_6462\n",
      "Rosalind_1679 Rosalind_0151\n",
      "Rosalind_1953 Rosalind_0533\n",
      "Rosalind_6808 Rosalind_0437\n",
      "Rosalind_6808 Rosalind_2981\n",
      "Rosalind_6808 Rosalind_7337\n",
      "Rosalind_6808 Rosalind_8893\n",
      "Rosalind_7337 Rosalind_8529\n",
      "Rosalind_4566 Rosalind_8194\n",
      "Rosalind_4566 Rosalind_6765\n",
      "Rosalind_4566 Rosalind_9053\n",
      "Rosalind_3055 Rosalind_8719\n",
      "Rosalind_3055 Rosalind_4648\n",
      "Rosalind_2644 Rosalind_1553\n",
      "Rosalind_2644 Rosalind_4133\n",
      "Rosalind_3114 Rosalind_0193\n",
      "Rosalind_8961 Rosalind_2162\n",
      "Rosalind_2588 Rosalind_1483\n",
      "Rosalind_3757 Rosalind_2162\n",
      "Rosalind_4252 Rosalind_9888\n",
      "Rosalind_4252 Rosalind_0778\n",
      "Rosalind_1389 Rosalind_0952\n",
      "Rosalind_1389 Rosalind_3368\n",
      "Rosalind_1389 Rosalind_6151\n",
      "Rosalind_6313 Rosalind_0437\n",
      "Rosalind_6313 Rosalind_2981\n",
      "Rosalind_6313 Rosalind_7337\n",
      "Rosalind_6313 Rosalind_8893\n",
      "Rosalind_8863 Rosalind_8412\n",
      "Rosalind_1622 Rosalind_6143\n",
      "Rosalind_1622 Rosalind_3217\n",
      "Rosalind_1622 Rosalind_5683\n",
      "Rosalind_1622 Rosalind_0192\n",
      "Rosalind_9226 Rosalind_4216\n",
      "Rosalind_9226 Rosalind_2736\n",
      "Rosalind_0899 Rosalind_7377\n",
      "Rosalind_0899 Rosalind_5222\n",
      "Rosalind_8180 Rosalind_8961\n",
      "Rosalind_8180 Rosalind_2935\n",
      "Rosalind_8180 Rosalind_6705\n",
      "Rosalind_7779 Rosalind_6462\n",
      "Rosalind_7779 Rosalind_0151\n",
      "Rosalind_9888 Rosalind_8194\n",
      "Rosalind_9888 Rosalind_6765\n",
      "Rosalind_9888 Rosalind_9053\n",
      "Rosalind_0778 Rosalind_1107\n",
      "Rosalind_0533 Rosalind_3055\n",
      "Rosalind_0533 Rosalind_7165\n",
      "Rosalind_0533 Rosalind_6839\n",
      "Rosalind_8629 Rosalind_7377\n",
      "Rosalind_8629 Rosalind_5222\n",
      "Rosalind_0044 Rosalind_4728\n",
      "Rosalind_0044 Rosalind_1401\n",
      "Rosalind_5605 Rosalind_8529\n",
      "Rosalind_1553 Rosalind_0044\n",
      "Rosalind_1553 Rosalind_1127\n",
      "Rosalind_1553 Rosalind_7659\n",
      "Rosalind_1553 Rosalind_1880\n",
      "Rosalind_5954 Rosalind_0044\n",
      "Rosalind_5954 Rosalind_1127\n",
      "Rosalind_5954 Rosalind_7659\n",
      "Rosalind_5954 Rosalind_1880\n",
      "Rosalind_7799 Rosalind_1553\n",
      "Rosalind_7799 Rosalind_4133\n",
      "Rosalind_2935 Rosalind_4728\n",
      "Rosalind_2935 Rosalind_1401\n",
      "Rosalind_3802 Rosalind_8992\n",
      "Rosalind_3802 Rosalind_4566\n",
      "Rosalind_3802 Rosalind_7779\n",
      "Rosalind_3802 Rosalind_2037\n",
      "Rosalind_3802 Rosalind_2024\n",
      "Rosalind_8194 Rosalind_2162\n",
      "Rosalind_5222 Rosalind_6808\n",
      "Rosalind_1401 Rosalind_3802\n",
      "Rosalind_1401 Rosalind_2438\n",
      "Rosalind_1401 Rosalind_6792\n",
      "Rosalind_4133 Rosalind_6143\n",
      "Rosalind_4133 Rosalind_3217\n",
      "Rosalind_4133 Rosalind_5683\n",
      "Rosalind_4133 Rosalind_0192\n",
      "Rosalind_2660 Rosalind_0193\n",
      "Rosalind_8893 Rosalind_1523\n",
      "Rosalind_2438 Rosalind_1483\n",
      "Rosalind_3217 Rosalind_8863\n",
      "Rosalind_3217 Rosalind_7474\n",
      "Rosalind_3217 Rosalind_9405\n",
      "Rosalind_9940 Rosalind_6462\n",
      "Rosalind_9940 Rosalind_0151\n",
      "Rosalind_9053 Rosalind_8807\n",
      "Rosalind_9053 Rosalind_4746\n",
      "Rosalind_4351 Rosalind_0515\n",
      "Rosalind_8412 Rosalind_2519\n",
      "Rosalind_5683 Rosalind_1953\n",
      "Rosalind_1107 Rosalind_0193\n",
      "Rosalind_6151 Rosalind_0533\n",
      "Rosalind_1127 Rosalind_1679\n",
      "Rosalind_1127 Rosalind_1389\n",
      "Rosalind_1127 Rosalind_5605\n",
      "Rosalind_0192 Rosalind_8529\n",
      "Rosalind_2657 Rosalind_4252\n",
      "Rosalind_2657 Rosalind_8629\n",
      "Rosalind_0515 Rosalind_0899\n",
      "Rosalind_5219 Rosalind_0549\n",
      "Rosalind_5219 Rosalind_7724\n",
      "Rosalind_7474 Rosalind_2519\n",
      "Rosalind_0265 Rosalind_1622\n",
      "Rosalind_0265 Rosalind_9226\n",
      "Rosalind_0265 Rosalind_7799\n",
      "Rosalind_0265 Rosalind_7243\n",
      "Rosalind_7142 Rosalind_5202\n",
      "Rosalind_7142 Rosalind_4351\n",
      "Rosalind_2037 Rosalind_1553\n",
      "Rosalind_2037 Rosalind_4133\n",
      "Rosalind_2024 Rosalind_6808\n",
      "Rosalind_6792 Rosalind_7142\n",
      "Rosalind_2162 Rosalind_0533\n",
      "Rosalind_7659 Rosalind_2588\n",
      "Rosalind_9405 Rosalind_1019\n",
      "Rosalind_1880 Rosalind_7377\n",
      "Rosalind_1880 Rosalind_5222\n",
      "Rosalind_7243 Rosalind_8992\n",
      "Rosalind_7243 Rosalind_4566\n",
      "Rosalind_7243 Rosalind_7779\n",
      "Rosalind_7243 Rosalind_2037\n",
      "Rosalind_7243 Rosalind_2024\n",
      "Rosalind_0549 Rosalind_1445\n",
      "Rosalind_1445 Rosalind_8719\n",
      "Rosalind_1445 Rosalind_4648\n",
      "Rosalind_1019 Rosalind_8992\n",
      "Rosalind_1019 Rosalind_4566\n",
      "Rosalind_1019 Rosalind_7779\n",
      "Rosalind_1019 Rosalind_2037\n",
      "Rosalind_1019 Rosalind_2024\n",
      "Rosalind_6705 Rosalind_0437\n",
      "Rosalind_6705 Rosalind_2981\n",
      "Rosalind_6705 Rosalind_7337\n",
      "Rosalind_6705 Rosalind_8893\n",
      "Rosalind_6839 Rosalind_7377\n",
      "Rosalind_6839 Rosalind_5222\n"
     ]
    }
   ],
   "source": [
    "overlap_graph(fasta_dictionary('datasets/rosalind_grph.txt'), 3)\n"
   ]
  },
  {
   "cell_type": "code",
   "execution_count": null,
   "metadata": {},
   "outputs": [],
   "source": []
  }
 ],
 "metadata": {
  "kernelspec": {
   "display_name": "Python 3 (ipykernel)",
   "language": "python",
   "name": "python3"
  },
  "language_info": {
   "codemirror_mode": {
    "name": "ipython",
    "version": 3
   },
   "file_extension": ".py",
   "mimetype": "text/x-python",
   "name": "python",
   "nbconvert_exporter": "python",
   "pygments_lexer": "ipython3",
   "version": "3.10.13"
  }
 },
 "nbformat": 4,
 "nbformat_minor": 4
}
