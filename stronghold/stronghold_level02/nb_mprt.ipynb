{
 "cells": [
  {
   "cell_type": "markdown",
   "metadata": {},
   "source": [
    "## 'Finding a Protein Motif'\n",
    "\n",
    "**Connections**: `PROT`, `SUBS`\n",
    "\n",
    "---"
   ]
  },
  {
   "cell_type": "markdown",
   "metadata": {},
   "source": [
    "\n",
    "**Given**: At most 15 UniProt Protein Database access IDs.\n",
    "\n",
    "**Return**: For each protein possessing the N-glycosylation motif, output its given access ID followed by a list of locations in the protein string where the motif can be found.\n",
    "\n",
    "\n",
    "\n",
    "*Notes*:\n",
    "\n",
    "a protein motif is represented by a shorthand as follows: \n",
    "- [XY] means \"either X or Y\" and {X} means \"any amino acid except X.\"\n",
    "    - example: N-glycosylation motif is written as N{P}[ST]{P}.\n"
   ]
  },
  {
   "cell_type": "code",
   "execution_count": 52,
   "metadata": {},
   "outputs": [],
   "source": [
    "# Libraries to load:\n",
    "\n",
    "import os\n",
    "import urllib.request, shutil, tempfile\n",
    "from Bio import SeqIO\n"
   ]
  },
  {
   "cell_type": "code",
   "execution_count": null,
   "metadata": {},
   "outputs": [],
   "source": [
    "# Previous functions generated\n"
   ]
  },
  {
   "cell_type": "code",
   "execution_count": 3,
   "metadata": {},
   "outputs": [],
   "source": [
    "dna_nt_list     = ['A','C','G','T']\n",
    "rna_nt_list     = ['A','C','G','U']\n",
    "aa_residue_list = ['A','R','N','D','C',\n",
    "                   'Q','E','G','H','I',\n",
    "                   'L','K','M','F','P',\n",
    "                   'S','T','W','Y','V']\n"
   ]
  },
  {
   "cell_type": "code",
   "execution_count": 77,
   "metadata": {},
   "outputs": [],
   "source": [
    "def protein_motif_locator_uniprot(uniprot_id_list, protein_motif_targets_list, outfile_filename):\n",
    "    '''\n",
    "    Input: list of UniProt Database IDs, list of all possible protein motifs\n",
    "    -!- Dependencies: URLLIB\n",
    "    Output: an output file with the Uniprot ID's listed and the subsequent motif locations\n",
    "    '''\n",
    "    mainpath = 'http://www.uniprot.org/uniprot/'\n",
    "    output = open(os.getcwd()+\"/\"+outfile_filename+\".txt\", \"w\")\n",
    "    for UID in uniprot_id_list:\n",
    "        uid = UID.split('_')[0]\n",
    "        dataloc  = mainpath + uid +'.fasta'\n",
    "        with urllib.request.urlopen(dataloc) as request:\n",
    "            body = request.read().decode('utf-8')\n",
    "            #if uid not in body.split('\\n')[0].split(' ')[0].lstrip('>'):\n",
    "            #    continue\n",
    "            record_seq = ''.join(body.split('\\n')[1:])\n",
    "    \n",
    "            target_hits = []\n",
    "            for target in target_motifs:\n",
    "                for i in range(len(record_seq)-len(target)):\n",
    "                    if target in record_seq[i:i+len(target)]:\n",
    "                        \n",
    "                        print('HIT: ', UID, target)\n",
    "                        \n",
    "                        target_hits.append(i+1)\n",
    "            if len(target_hits)>=1:\n",
    "                output.write(UID+'\\n')\n",
    "                output.write(' '.join([str(i) for i in sorted(target_hits)])+'\\n')\n",
    "            del target_hits, record_seq, body\n",
    "        del dataloc, uid\n",
    "    output.truncate(output.tell() - 1)\n",
    "    output.close()\n",
    "    del mainpath\n",
    "    return\n",
    "\n"
   ]
  },
  {
   "cell_type": "code",
   "execution_count": 71,
   "metadata": {},
   "outputs": [
    {
     "name": "stdout",
     "output_type": "stream",
     "text": [
      "HIT:  B5ZC00 NISA\n",
      "HIT:  B5ZC00 NLSK\n",
      "HIT:  B5ZC00 NFSD\n",
      "HIT:  B5ZC00 NSSN\n",
      "HIT:  B5ZC00 NWTE\n",
      "HIT:  P07204_TRBM_HUMAN NASQ\n",
      "HIT:  P07204_TRBM_HUMAN NTSY\n",
      "HIT:  P07204_TRBM_HUMAN NNTS\n",
      "HIT:  P07204_TRBM_HUMAN NQTA\n",
      "HIT:  P07204_TRBM_HUMAN NQTS\n",
      "HIT:  P20840_SAG1_YEAST NFSD\n",
      "HIT:  P20840_SAG1_YEAST NSSQ\n",
      "HIT:  P20840_SAG1_YEAST NTSA\n",
      "HIT:  P20840_SAG1_YEAST NATR\n",
      "HIT:  P20840_SAG1_YEAST NRTT\n",
      "HIT:  P20840_SAG1_YEAST NDTN\n",
      "HIT:  P20840_SAG1_YEAST NITN\n",
      "HIT:  P20840_SAG1_YEAST NITV\n",
      "HIT:  P20840_SAG1_YEAST NFTS\n",
      "HIT:  P20840_SAG1_YEAST NTTF\n",
      "HIT:  P20840_SAG1_YEAST NTTY\n"
     ]
    }
   ],
   "source": [
    "with open(os.getcwd()+'/datasets/rosalind_sample_dataset.txt', 'r') as infile:\n",
    "    uniprot_id_list = infile.readlines()\n",
    "    uniprot_id_list = [i.strip('\\n') for i in uniprot_id_list]\n",
    "\n",
    "\n",
    "# Motif Target: N{P}[ST]{P}\n",
    "target_motifs = ['N'+i+'S'+j \n",
    "                 for i in aa_residue_list if i!='P' \n",
    "                 for j in aa_residue_list if j!='P'] + ['N'+i+'T'+j \n",
    "                                                        for i in aa_residue_list if i!='P' \n",
    "                                                        for j in aa_residue_list if j!='P']\n",
    "\n",
    "protein_motif_locator_uniprot(uniprot_id_list,\n",
    "                             target_motifs,\n",
    "                             'answer_submissions/rosalind_sample_dataset_answer')\n",
    "\n",
    "del uniprot_id_list, target_motifs\n"
   ]
  },
  {
   "cell_type": "code",
   "execution_count": 78,
   "metadata": {},
   "outputs": [
    {
     "name": "stdout",
     "output_type": "stream",
     "text": [
      "['Q60960', 'Q55AB5', 'Q3Z2Z2', 'P01045_KNH2_BOVIN', 'P00740_FA9_HUMAN', 'P01047_KNL2_BOVIN', 'A9N9G8', 'Q5FTZ8', 'Q5FMJ3', 'Q924A4', 'A8F2D7', 'P02749_APOH_HUMAN', 'O08537_ESR2_MOUSE']\n",
      "\n",
      "HIT:  Q60960 NCSA\n",
      "HIT:  Q60960 NGSG\n",
      "HIT:  Q60960 NKSL\n",
      "HIT:  Q60960 NATS\n",
      "HIT:  Q60960 NCTL\n",
      "HIT:  Q60960 NITA\n",
      "HIT:  Q55AB5 NRTK\n",
      "HIT:  Q3Z2Z2 NVTL\n",
      "HIT:  P01045_KNH2_BOVIN NCSK\n",
      "HIT:  P01045_KNH2_BOVIN NHSI\n",
      "HIT:  P01045_KNH2_BOVIN NKSG\n",
      "HIT:  P01045_KNH2_BOVIN NTSH\n",
      "HIT:  P01045_KNH2_BOVIN NYSI\n",
      "HIT:  P01045_KNH2_BOVIN NNTS\n",
      "HIT:  P01045_KNH2_BOVIN NKTW\n",
      "HIT:  P00740_FA9_HUMAN NITQ\n",
      "HIT:  P00740_FA9_HUMAN NSTE\n",
      "HIT:  P01047_KNL2_BOVIN NCSK\n",
      "HIT:  P01047_KNL2_BOVIN NHSI\n",
      "HIT:  P01047_KNL2_BOVIN NKSG\n",
      "HIT:  P01047_KNL2_BOVIN NTSH\n",
      "HIT:  P01047_KNL2_BOVIN NYSI\n",
      "HIT:  P01047_KNL2_BOVIN NNTS\n",
      "HIT:  P01047_KNL2_BOVIN NKTW\n",
      "HIT:  Q5FTZ8 NVSV\n",
      "HIT:  Q5FTZ8 NWTM\n",
      "HIT:  Q5FMJ3 NISD\n",
      "HIT:  Q5FMJ3 NLSN\n",
      "HIT:  Q5FMJ3 NLSE\n",
      "HIT:  Q924A4 NQTH\n",
      "HIT:  P02749_APOH_HUMAN NNSL\n",
      "HIT:  P02749_APOH_HUMAN NWSA\n",
      "HIT:  P02749_APOH_HUMAN NDTI\n",
      "HIT:  P02749_APOH_HUMAN NWTK\n",
      "HIT:  O08537_ESR2_MOUSE NCSQ\n",
      "HIT:  O08537_ESR2_MOUSE NSSM\n",
      "HIT:  O08537_ESR2_MOUSE NYSV\n"
     ]
    }
   ],
   "source": [
    "with open(os.getcwd()+'/datasets/rosalind_mprt_attempt01.txt', 'r') as infile:\n",
    "    uniprot_id_list = infile.readlines()\n",
    "    uniprot_id_list = [i.strip('\\n') for i in uniprot_id_list]\n",
    "\n",
    "print(uniprot_id_list)\n",
    "print()\n",
    "\n",
    "# Motif Target: N{P}[ST]{P}\n",
    "target_motifs = ['N'+i+'S'+j \n",
    "                 for i in aa_residue_list if i!='P' \n",
    "                 for j in aa_residue_list if j!='P'] + ['N'+i+'T'+j \n",
    "                                                        for i in aa_residue_list if i!='P' \n",
    "                                                        for j in aa_residue_list if j!='P']\n",
    "\n",
    "protein_motif_locator_uniprot(uniprot_id_list,\n",
    "                             target_motifs,\n",
    "                             'answer_submissions/rosalind_mprt_submission_attempt01')\n",
    "\n",
    "#del uniprot_id_list, target_motifs\n"
   ]
  },
  {
   "cell_type": "code",
   "execution_count": null,
   "metadata": {},
   "outputs": [],
   "source": []
  },
  {
   "cell_type": "markdown",
   "metadata": {},
   "source": [
    "---\n",
    "\n",
    "### Problem Attempt:"
   ]
  },
  {
   "cell_type": "code",
   "execution_count": 79,
   "metadata": {},
   "outputs": [
    {
     "name": "stdout",
     "output_type": "stream",
     "text": [
      "HIT:  A5F5B4 NGSV\n",
      "HIT:  P01046_KNL1_BOVIN NCSK\n",
      "HIT:  P01046_KNL1_BOVIN NKSG\n",
      "HIT:  P01046_KNL1_BOVIN NTSH\n",
      "HIT:  P01046_KNL1_BOVIN NYSI\n",
      "HIT:  P01046_KNL1_BOVIN NNTS\n",
      "HIT:  P01046_KNL1_BOVIN NKTW\n",
      "HIT:  Q00001_RHGA_ASPAC NWSG\n",
      "HIT:  Q00001_RHGA_ASPAC NITV\n",
      "HIT:  Q00001_RHGA_ASPAC NSTD\n",
      "HIT:  P72173 NESE\n",
      "HIT:  P72173 NKSN\n",
      "HIT:  P72173 NYSN\n",
      "HIT:  P10153_RNKD_HUMAN NISN\n",
      "HIT:  P10153_RNKD_HUMAN NLTT\n",
      "HIT:  P10153_RNKD_HUMAN NKTR\n",
      "HIT:  P10153_RNKD_HUMAN NMTC\n",
      "HIT:  P10153_RNKD_HUMAN NMTS\n",
      "HIT:  Q16775 NLTV\n",
      "HIT:  P13473_LMP2_HUMAN NGSI\n",
      "HIT:  P13473_LMP2_HUMAN NGSV\n",
      "HIT:  P13473_LMP2_HUMAN NISM\n",
      "HIT:  P13473_LMP2_HUMAN NLSY\n",
      "HIT:  P13473_LMP2_HUMAN NSST\n",
      "HIT:  P13473_LMP2_HUMAN NATC\n",
      "HIT:  P13473_LMP2_HUMAN NDTC\n",
      "HIT:  P13473_LMP2_HUMAN NGTV\n",
      "HIT:  P13473_LMP2_HUMAN NITQ\n",
      "HIT:  P13473_LMP2_HUMAN NLTD\n",
      "HIT:  P13473_LMP2_HUMAN NKTY\n",
      "HIT:  P13473_LMP2_HUMAN NFTK\n",
      "HIT:  P13473_LMP2_HUMAN NFTV\n",
      "HIT:  P13473_LMP2_HUMAN NTTH\n",
      "HIT:  P13473_LMP2_HUMAN NTTF\n",
      "HIT:  P13473_LMP2_HUMAN NVTQ\n",
      "HIT:  P01189_COLI_HUMAN NSSS\n",
      "HIT:  P10493_NIDO_MOUSE NSSS\n",
      "HIT:  P10493_NIDO_MOUSE NYTG\n",
      "HIT:  Q68J42 NETG\n",
      "HIT:  Q68J42 NITE\n",
      "HIT:  Q50228 NDSA\n",
      "HIT:  Q50228 NLTK\n"
     ]
    }
   ],
   "source": [
    "with open(os.getcwd()+'/datasets/rosalind_mprt.txt', 'r') as infile:\n",
    "    uniprot_id_list = infile.readlines()\n",
    "    uniprot_id_list = [i.strip('\\n') for i in uniprot_id_list]\n",
    "\n",
    "\n",
    "# Motif Target: N{P}[ST]{P}\n",
    "target_motifs = ['N'+i+'S'+j \n",
    "                 for i in aa_residue_list if i!='P' \n",
    "                 for j in aa_residue_list if j!='P'] + ['N'+i+'T'+j \n",
    "                                                        for i in aa_residue_list if i!='P' \n",
    "                                                        for j in aa_residue_list if j!='P']\n",
    "\n",
    "protein_motif_locator_uniprot(uniprot_id_list,\n",
    "                             target_motifs,\n",
    "                             'answer_submissions/rosalind_mprt_submission')\n",
    "\n",
    "del uniprot_id_list, target_motifs\n"
   ]
  },
  {
   "cell_type": "code",
   "execution_count": null,
   "metadata": {},
   "outputs": [],
   "source": []
  }
 ],
 "metadata": {
  "kernelspec": {
   "display_name": "Python 3 (ipykernel)",
   "language": "python",
   "name": "python3"
  },
  "language_info": {
   "codemirror_mode": {
    "name": "ipython",
    "version": 3
   },
   "file_extension": ".py",
   "mimetype": "text/x-python",
   "name": "python",
   "nbconvert_exporter": "python",
   "pygments_lexer": "ipython3",
   "version": "3.10.13"
  }
 },
 "nbformat": 4,
 "nbformat_minor": 4
}
