{
 "cells": [
  {
   "cell_type": "markdown",
   "metadata": {},
   "source": [
    "## 'Mortal Fibonacci Rabbits'\n",
    "\n",
    "**Connections**: `FIB`\n",
    "\n",
    "---"
   ]
  },
  {
   "cell_type": "markdown",
   "metadata": {},
   "source": [
    "\n",
    "**Given**: Positive integers *n*≤100 and *m*≤20.\n",
    "\n",
    "**Return**: The total number of pairs of rabbits that will remain after the *n*-th month if all rabbits live for *m* months.\n"
   ]
  },
  {
   "cell_type": "code",
   "execution_count": 1,
   "metadata": {},
   "outputs": [],
   "source": [
    "# Libraries to load\n"
   ]
  },
  {
   "cell_type": "markdown",
   "metadata": {},
   "source": [
    "---\n",
    "Recall from FIB"
   ]
  },
  {
   "cell_type": "code",
   "execution_count": 41,
   "metadata": {},
   "outputs": [],
   "source": [
    "def rabbit_recurrence(months: int, pairs: int) -> int:\n",
    "    '''\n",
    "    Function that replicates the Fibonacci rabbit problem.\n",
    "    Given an integer number of _months_ (n) and an integer litter size for each mature _pairs_ (k),\n",
    "        determine population size after n-number of months\n",
    "    Formula: f_(n) = f_(n-1) + k*f_(n-2)\n",
    "    Output: integer-valued population size\n",
    "    '''\n",
    "    fib = [1,1]\n",
    "    for i in range(2, months):\n",
    "        fib.append( fib[i-1] + pairs*fib[i-2] )\n",
    "    return fib[months-1]\n",
    "\n"
   ]
  },
  {
   "cell_type": "code",
   "execution_count": 44,
   "metadata": {},
   "outputs": [
    {
     "name": "stdout",
     "output_type": "stream",
     "text": [
      "n = 5 , k = 3,\n",
      " output = 19\n",
      "----------\n",
      "n = 30 , k = 3,\n",
      " output = 20444528200\n"
     ]
    }
   ],
   "source": [
    "print(\"n = \"+str(5), \", k = \"+str(3)+\",\\n\", \n",
    "      \"output =\",rabbit_recurrence(int(5), int(3)))\n",
    "print('-'*10)\n",
    "\n",
    "#-----------------------------------------------------------------\n",
    "\n",
    "with open(\"datasets/rosalind_fib.txt\", \"r\") as infile:\n",
    "    text = infile.readline().rstrip('\\n')\n",
    "    n, k = text.split()\n",
    "infile.close()\n",
    "\n",
    "print(\"n = \"+str(n), \", k = \"+str(k)+\",\\n\", \n",
    "      \"output =\",rabbit_recurrence(int(n), int(k)))\n",
    "\n",
    "del n,k"
   ]
  },
  {
   "cell_type": "markdown",
   "metadata": {},
   "source": [
    "---"
   ]
  },
  {
   "cell_type": "markdown",
   "metadata": {},
   "source": [
    "Return to the recurrence relation with the addition that the bunnies live for only 3 months (or survive for only 3 cycles)\n",
    "\n",
    "- offspring -> mature, mature -> progeny, progeny -> death\n",
    "    - rabbits reproduce twice before death\n",
    "\n",
    "Sample values: *dataset* 6 3 ; *output* 4"
   ]
  },
  {
   "cell_type": "code",
   "execution_count": 87,
   "metadata": {},
   "outputs": [],
   "source": [
    "def rabbit_recurrence_mortality(months: int, life_cycle: int) -> int:\n",
    "    '''\n",
    "    Function that replicates the Fibonacci rabbit problem.\n",
    "    Given an integer number of _months_ (n) and an integer life cycle for each rabbit (m),\n",
    "        determine population size after n-number of months\n",
    "    Formula: f_(n) = f_(n-1) + f_(n-2)\n",
    "    Output: integer-valued population size\n",
    "    '''\n",
    "    f_0 = 1\n",
    "    fib = [1,1]\n",
    "    for n in range(2, months+1):\n",
    "        if n < (life_cycle):\n",
    "            fib.append( fib[n-1] + fib[n-2])\n",
    "        elif n == (life_cycle):\n",
    "            fib.append( fib[n-1] + fib[n-2] - f_0)\n",
    "        else:\n",
    "            fib.append( fib[n-1] + fib[n-2] - fib[n-(life_cycle+1)] )\n",
    "    return fib[months-1]"
   ]
  },
  {
   "cell_type": "code",
   "execution_count": 93,
   "metadata": {},
   "outputs": [
    {
     "name": "stdout",
     "output_type": "stream",
     "text": [
      "1\n",
      "1\n",
      "2\n",
      "2\n",
      "3\n",
      "4\n",
      "5\n",
      "7\n",
      "9\n",
      "12\n",
      "16\n",
      "21\n",
      "28\n",
      "37\n",
      "49\n",
      "65\n",
      "86\n",
      "114\n",
      "151\n"
     ]
    }
   ],
   "source": [
    "for i in range(1, 20):\n",
    "    print( rabbit_recurrence_mortality(int(i), int(3)) )"
   ]
  },
  {
   "cell_type": "markdown",
   "metadata": {},
   "source": [
    "---\n",
    "\n",
    "### Problem Attempt:"
   ]
  },
  {
   "cell_type": "code",
   "execution_count": 98,
   "metadata": {},
   "outputs": [
    {
     "name": "stdout",
     "output_type": "stream",
     "text": [
      "n = 81 , m = 19,\n",
      " output = 37773534761266700\n"
     ]
    }
   ],
   "source": [
    "with open(\"datasets/rosalind_fibd.txt\", \"r\") as infile:\n",
    "    text = infile.readline().rstrip('\\n')\n",
    "    n, m = text.split()\n",
    "infile.close()\n",
    "\n",
    "print(\"n = \"+str(n), \", m = \"+str(m)+\",\\n\", \n",
    "      \"output =\",rabbit_recurrence_mortality(int(n), int(m)))\n",
    "\n",
    "del n,m"
   ]
  },
  {
   "cell_type": "code",
   "execution_count": null,
   "metadata": {},
   "outputs": [],
   "source": []
  },
  {
   "cell_type": "code",
   "execution_count": null,
   "metadata": {},
   "outputs": [],
   "source": []
  }
 ],
 "metadata": {
  "kernelspec": {
   "display_name": "Python 3 (ipykernel)",
   "language": "python",
   "name": "python3"
  },
  "language_info": {
   "codemirror_mode": {
    "name": "ipython",
    "version": 3
   },
   "file_extension": ".py",
   "mimetype": "text/x-python",
   "name": "python",
   "nbconvert_exporter": "python",
   "pygments_lexer": "ipython3",
   "version": "3.10.13"
  }
 },
 "nbformat": 4,
 "nbformat_minor": 4
}
