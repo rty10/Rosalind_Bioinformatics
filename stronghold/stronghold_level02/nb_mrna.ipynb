{
 "cells": [
  {
   "cell_type": "markdown",
   "metadata": {},
   "source": [
    "## 'Inferring mRNA from Protein'\n",
    "\n",
    "**Connections**: `PROT`\n",
    "\n",
    "---"
   ]
  },
  {
   "cell_type": "markdown",
   "metadata": {},
   "source": [
    "\n",
    "**Given**: A protein string of length at most 1000 aa.\n",
    "\n",
    "**Return**: The total number of different RNA strings from which the protein could have been translated, modulo 1,000,000. (*Don't neglect the importance of the stop codon in protein translation*)\n",
    "\n",
    "\n",
    "**Notes**:\n",
    "- *Why did attempts 01-06 fail?* You initially multiplied the codon frequency count by the codon-to-aa frequency. Instead, you needed to raise codon-to-aa by the codon frequency count. For example, for aa residue 'D' in a sequence where it appears three times, 2^3=8 means that there are eight mRNA combinations, not 2*3=6 combinations. \n"
   ]
  },
  {
   "cell_type": "markdown",
   "metadata": {
    "jp-MarkdownHeadingCollapsed": true
   },
   "source": [
    "-----\n",
    "#### Look at: *modulo arithmetic*"
   ]
  },
  {
   "cell_type": "code",
   "execution_count": 1,
   "metadata": {},
   "outputs": [],
   "source": [
    "a, b, c, d, n = 29, 73, 10, 32, 11"
   ]
  },
  {
   "cell_type": "code",
   "execution_count": 2,
   "metadata": {},
   "outputs": [
    {
     "name": "stdout",
     "output_type": "stream",
     "text": [
      "29 mod 11 = 7\n",
      "divmod: 29 11 = (2, 7)\n",
      "73 mod 11 = 7\n",
      "divmod: 73 11 = (6, 7)\n",
      "10 mod 11 = 10\n",
      "divmod: 10 11 = (0, 10)\n",
      "32 mod 11 = 10\n",
      "divmod: 32 11 = (2, 10)\n"
     ]
    }
   ],
   "source": [
    "for x in [a,b,c,d]:\n",
    "    print( str(x), \"mod\", str(n), \"=\", str( int(x%n) ) )\n",
    "    print( \"divmod:\", str(x), str(n), \"=\", str( divmod(x,n) ) )"
   ]
  },
  {
   "cell_type": "code",
   "execution_count": 3,
   "metadata": {},
   "outputs": [
    {
     "name": "stdout",
     "output_type": "stream",
     "text": [
      "39\n",
      "6\n",
      "(3, 6)\n"
     ]
    }
   ],
   "source": [
    "print(a+c)\n",
    "print((a+c) % n)\n",
    "print(divmod(a+c, n))"
   ]
  },
  {
   "cell_type": "code",
   "execution_count": 4,
   "metadata": {},
   "outputs": [
    {
     "name": "stdout",
     "output_type": "stream",
     "text": [
      "19\n",
      "8\n",
      "(1, 8)\n"
     ]
    }
   ],
   "source": [
    "print(a-c)\n",
    "print((a-c) % n)\n",
    "print(divmod(a-c, n))"
   ]
  },
  {
   "cell_type": "code",
   "execution_count": 5,
   "metadata": {},
   "outputs": [
    {
     "name": "stdout",
     "output_type": "stream",
     "text": [
      "290\n",
      "4\n",
      "(26, 4)\n"
     ]
    }
   ],
   "source": [
    "print(a*c)\n",
    "print((a*c) % n)\n",
    "print(divmod(a*c, n))"
   ]
  },
  {
   "cell_type": "code",
   "execution_count": 6,
   "metadata": {},
   "outputs": [
    {
     "data": {
      "text/plain": [
       "True"
      ]
     },
     "execution_count": 6,
     "metadata": {},
     "output_type": "execute_result"
    }
   ],
   "source": [
    "((a+c) % n) == ((b+d) % n)"
   ]
  },
  {
   "cell_type": "code",
   "execution_count": 7,
   "metadata": {},
   "outputs": [
    {
     "data": {
      "text/plain": [
       "True"
      ]
     },
     "execution_count": 7,
     "metadata": {},
     "output_type": "execute_result"
    }
   ],
   "source": [
    "((a-c) % n) == ((b-d) % n)"
   ]
  },
  {
   "cell_type": "code",
   "execution_count": 8,
   "metadata": {},
   "outputs": [
    {
     "data": {
      "text/plain": [
       "True"
      ]
     },
     "execution_count": 8,
     "metadata": {},
     "output_type": "execute_result"
    }
   ],
   "source": [
    "((a*c) % n) == ((b*d) % n)"
   ]
  },
  {
   "cell_type": "code",
   "execution_count": 9,
   "metadata": {},
   "outputs": [],
   "source": [
    "del a,b,c,d,n"
   ]
  },
  {
   "cell_type": "code",
   "execution_count": 10,
   "metadata": {},
   "outputs": [
    {
     "name": "stdout",
     "output_type": "stream",
     "text": [
      "1024\n",
      "\n",
      "10 r 24\n",
      "\n",
      "24\n"
     ]
    }
   ],
   "source": [
    "def power_mod(base, exponent, modulus):\n",
    "    return pow(base, exponent, modulus)\n",
    "\n",
    "print(2**10)\n",
    "print()\n",
    "\n",
    "print(2**10 // 100, \"r\", 2**10 % 100)\n",
    "print()\n",
    "\n",
    "print(power_mod(2, 10, 100))\n"
   ]
  },
  {
   "cell_type": "code",
   "execution_count": 11,
   "metadata": {},
   "outputs": [
    {
     "name": "stdout",
     "output_type": "stream",
     "text": [
      "1024\n",
      "\n",
      "24\n"
     ]
    }
   ],
   "source": [
    "print(2**10)\n",
    "print()\n",
    "print(power_mod(2, 10, 100))"
   ]
  },
  {
   "cell_type": "markdown",
   "metadata": {},
   "source": [
    "----\n",
    "\n",
    "#### Modular Arthimetic with mRNA-protein sequence"
   ]
  },
  {
   "cell_type": "code",
   "execution_count": 12,
   "metadata": {},
   "outputs": [],
   "source": [
    "# Libraries to load:\n",
    "import os, time, random\n",
    "\n",
    "datapath = os.getcwd()\n",
    "std_path = datapath.replace('stronghold_level02','standards')\n",
    "\n",
    "sample_dataset_path = datapath + '/datasets/rosalind_sample_dataset_mrna.txt'\n",
    "submission_dataset  = datapath + '/datasets/rosalind_mrna.txt'\n"
   ]
  },
  {
   "cell_type": "code",
   "execution_count": 33,
   "metadata": {},
   "outputs": [],
   "source": [
    "def sequence_from_file(path_to_file) -> str:\n",
    "    '''\n",
    "    Load file with only one sequence\n",
    "    return sequence\n",
    "    '''\n",
    "    with open(path_to_file, \"r\") as infile:\n",
    "        return infile.read().rstrip('\\n')\n",
    "\n",
    "\n",
    "def mrna_codon_table(path_to_standards):\n",
    "    '''\n",
    "    Load standardf file that contains all unique 3-char mRNA codons for its AA-residue\n",
    "    Return dictionary- key:value = RNA:AA pairings, including Stop codons\n",
    "    '''\n",
    "    with open(path_to_standards + \"/rosalind_RNA_codon_table.txt\", \"r\") as infile:\n",
    "        rna_table      = infile.read().replace('\\n', ' ').split()\n",
    "        rna_codon_dict = {rna_table[i]:rna_table[i+1] for i in range(len(rna_table)) if i%2==0}\n",
    "        del rna_table\n",
    "    return rna_codon_dict\n",
    "\n",
    "\n",
    "def mrna_codon_frequency_table(dict_mrna_codon_table):\n",
    "    '''\n",
    "    Load dictionary that has each unique (3-char mRNA):(1-char AA-residue) pairing \n",
    "    Return frequency dictionary- key:value = AA-residue:freq, including Stop codons\n",
    "    '''\n",
    "    rna_codon_counter_dict = {i:0 for i in sorted(['A','R','N','D','C','Q','E','G','H','I','L','K','M','F','P','S','T','W','Y','V','Stop'])}\n",
    "    for codon, counter in rna_codon_counter_dict.items():\n",
    "        ct = 0\n",
    "        for key, val in dict_mrna_codon_table.items():\n",
    "            if val == codon:\n",
    "                ct += 1\n",
    "        rna_codon_counter_dict[codon] = ct\n",
    "        del ct\n",
    "    return rna_codon_counter_dict\n",
    "\n"
   ]
  },
  {
   "cell_type": "code",
   "execution_count": 61,
   "metadata": {},
   "outputs": [
    {
     "name": "stdout",
     "output_type": "stream",
     "text": [
      "METMSFNRALDFPIKKGCSYEINMDWRVMYTADCVCHIRST : 41 residues in length\n",
      "\n",
      "AACCCDDDEEFFGHIIIKKLMMMMNNPRRRSSSTTTVVWYY\n",
      "\n",
      "Frequency of each residue in sequence:\t {'A': 2, 'C': 3, 'D': 3, 'E': 2, 'F': 2, 'G': 1, 'H': 1, 'I': 3, 'K': 2, 'L': 1, 'M': 4, 'N': 2, 'P': 1, 'R': 3, 'S': 3, 'T': 3, 'V': 2, 'W': 1, 'Y': 2}\n",
      "Count of mRNA codons/aa-residue:\t {'A': 4, 'C': 2, 'D': 2, 'E': 2, 'F': 2, 'G': 4, 'H': 2, 'I': 3, 'K': 2, 'L': 6, 'M': 1, 'N': 2, 'P': 4, 'Q': 2, 'R': 6, 'S': 6, 'Stop': 3, 'T': 4, 'V': 4, 'W': 1, 'Y': 2}\n",
      "Frequency of potential mRNA codons in sequence:\t {'A': 16, 'C': 8, 'D': 8, 'E': 4, 'F': 4, 'G': 4, 'H': 2, 'I': 27, 'K': 4, 'L': 6, 'M': 1, 'N': 4, 'P': 4, 'R': 216, 'S': 216, 'T': 64, 'V': 16, 'W': 1, 'Y': 4, 'Stop': 3}\n",
      "\n",
      "The total number of possible mRNA combinations, incrementing by AA-residue:\n",
      "16 16 (0, 16)\n",
      "128 128 (0, 128)\n",
      "1024 1024 (0, 1024)\n",
      "4096 4096 (0, 4096)\n",
      "16384 16384 (0, 16384)\n",
      "65536 65536 (0, 65536)\n",
      "131072 131072 (0, 131072)\n",
      "3538944 538944 (3, 538944)\n",
      "14155776 155776 (14, 155776)\n",
      "84934656 934656 (84, 934656)\n",
      "84934656 934656 (84, 934656)\n",
      "339738624 738624 (339, 738624)\n",
      "1358954496 954496 (1358, 954496)\n",
      "293534171136 171136 (293534, 171136)\n",
      "63403380965376 965376 (63403380, 965376)\n",
      "4057816381784064 784064 (4057816381, 784064)\n",
      "64925062108545024 545024 (64925062108, 545024)\n",
      "64925062108545024 545024 (64925062108, 545024)\n",
      "259700248434180096 180096 (259700248434, 180096)\n",
      "779100745302540288 540288 (779100745302, 540288)\n",
      "Program execution time: 0.00689\n"
     ]
    }
   ],
   "source": [
    "starttime = time.time()\n",
    "\n",
    "rna_codon_counter_dict = mrna_codon_frequency_table( mrna_codon_table(std_path) )\n",
    "\n",
    "aa_residues      = sorted(['A','R','N','D','C','Q','E','G','H','I','L','K','M','F','P','S','T','W','Y','V'])\n",
    "protein_sequence = 'M'+''.join( [random.choice(aa_residues) for _ in range(40)] )\n",
    "aa_len = len(protein_sequence)\n",
    "\n",
    "print(protein_sequence,\": \"+str(aa_len)+' residues in length')\n",
    "print()\n",
    "print( ''.join(sorted(protein_sequence) ) )\n",
    "print()\n",
    "aa_res_counter = {i:0 for i in aa_residues}\n",
    "for i in range(aa_len):\n",
    "    aa_res_counter[protein_sequence[i]] += 1 \n",
    "\n",
    "if aa_len != sum(aa_res_counter.values()):\n",
    "    print('Error')\n",
    "aa_res_counter = {key:aa_res_counter[key] for key in aa_res_counter.keys() \n",
    "                  if aa_res_counter[key] != 0}\n",
    "\n",
    "mrna_seqs_counter = {i:0 for i in sorted(list(aa_res_counter.keys()))}\n",
    "mrna_seqs_counter['Stop'] = 3\n",
    "for key, val in aa_res_counter.items():\n",
    "    mrna_seqs_counter[key] = rna_codon_counter_dict[key] ** aa_res_counter[key]\n",
    "\n",
    "print(\"Frequency of each residue in sequence:\"+'\\t', aa_res_counter)\n",
    "print(\"Count of mRNA codons/aa-residue:\"+'\\t', rna_codon_counter_dict)\n",
    "print(\"Frequency of potential mRNA codons in sequence:\"+'\\t', mrna_seqs_counter)\n",
    "print()\n",
    "\n",
    "\n",
    "print(\"The total number of possible mRNA combinations, incrementing by AA-residue:\")\n",
    "rna_cts     = 1\n",
    "rna_mod_cts = 1\n",
    "\n",
    "for key, val in mrna_seqs_counter.items():\n",
    "    rna_mod_cts  = (rna_mod_cts*int(val))%1000000\n",
    "    rna_cts     *= int(val)\n",
    "    print(str(rna_cts), str(rna_mod_cts), str( divmod( rna_cts,1000000 )) )\n",
    "\n",
    "print(\"Program execution time:\", str( round(time.time() - starttime, 5)))\n",
    "\n",
    "del rna_cts, rna_mod_cts, mrna_seqs_counter, aa_res_counter, protein_sequence, aa_len, aa_residues, rna_codon_counter_dict, starttime"
   ]
  },
  {
   "cell_type": "code",
   "execution_count": 62,
   "metadata": {},
   "outputs": [
    {
     "name": "stdout",
     "output_type": "stream",
     "text": [
      "MFKECVDGWTKVRYHIPNTHKASTLHGQPMTMTAPESFPPD : 41 residues in length\n",
      "\n",
      "AACDDEEFFGGHHHIKKKLMMMNPPPPPQRSSTTTTTVVWY\n",
      "\n",
      "Frequency of each residue in sequence:\t {'A': 2, 'C': 1, 'D': 2, 'E': 2, 'F': 2, 'G': 2, 'H': 3, 'I': 1, 'K': 3, 'L': 1, 'M': 3, 'N': 1, 'P': 5, 'Q': 1, 'R': 1, 'S': 2, 'T': 5, 'V': 2, 'W': 1, 'Y': 1}\n",
      "Count of mRNA codons/aa-residue:\t {'A': 4, 'C': 2, 'D': 2, 'E': 2, 'F': 2, 'G': 4, 'H': 2, 'I': 3, 'K': 2, 'L': 6, 'M': 1, 'N': 2, 'P': 4, 'Q': 2, 'R': 6, 'S': 6, 'Stop': 3, 'T': 4, 'V': 4, 'W': 1, 'Y': 2}\n",
      "Frequency of potential mRNA codons in sequence:\t {'A': 16, 'C': 2, 'D': 4, 'E': 4, 'F': 4, 'G': 16, 'H': 8, 'I': 3, 'K': 8, 'L': 6, 'M': 1, 'N': 2, 'P': 1024, 'Q': 2, 'R': 6, 'S': 36, 'T': 1024, 'V': 16, 'W': 1, 'Y': 2, 'Stop': 3}\n",
      "\n",
      "The total number of possible mRNA combinations, incrementing by AA-residue:\n",
      "(0, 16) \n",
      " a mod m 1 \n",
      " b mod m 16 \n",
      " (axb) mod m 16 \n",
      " ((a mod m)x(b mod m)) mod m 16\n",
      "(0, 32) \n",
      " a mod m 16 \n",
      " b mod m 2 \n",
      " (axb) mod m 32 \n",
      " ((a mod m)x(b mod m)) mod m 32\n",
      "(0, 128) \n",
      " a mod m 32 \n",
      " b mod m 4 \n",
      " (axb) mod m 128 \n",
      " ((a mod m)x(b mod m)) mod m 128\n",
      "(0, 512) \n",
      " a mod m 128 \n",
      " b mod m 4 \n",
      " (axb) mod m 512 \n",
      " ((a mod m)x(b mod m)) mod m 512\n",
      "(0, 2048) \n",
      " a mod m 512 \n",
      " b mod m 4 \n",
      " (axb) mod m 2048 \n",
      " ((a mod m)x(b mod m)) mod m 2048\n",
      "(0, 32768) \n",
      " a mod m 2048 \n",
      " b mod m 16 \n",
      " (axb) mod m 32768 \n",
      " ((a mod m)x(b mod m)) mod m 32768\n",
      "(0, 262144) \n",
      " a mod m 32768 \n",
      " b mod m 8 \n",
      " (axb) mod m 262144 \n",
      " ((a mod m)x(b mod m)) mod m 262144\n",
      "(0, 786432) \n",
      " a mod m 262144 \n",
      " b mod m 3 \n",
      " (axb) mod m 786432 \n",
      " ((a mod m)x(b mod m)) mod m 786432\n",
      "(6, 291456) \n",
      " a mod m 786432 \n",
      " b mod m 8 \n",
      " (axb) mod m 291456 \n",
      " ((a mod m)x(b mod m)) mod m 291456\n",
      "(37, 748736) \n",
      " a mod m 291456 \n",
      " b mod m 6 \n",
      " (axb) mod m 748736 \n",
      " ((a mod m)x(b mod m)) mod m 748736\n",
      "(37, 748736) \n",
      " a mod m 748736 \n",
      " b mod m 1 \n",
      " (axb) mod m 748736 \n",
      " ((a mod m)x(b mod m)) mod m 748736\n",
      "(75, 497472) \n",
      " a mod m 748736 \n",
      " b mod m 2 \n",
      " (axb) mod m 497472 \n",
      " ((a mod m)x(b mod m)) mod m 497472\n",
      "(77309, 411328) \n",
      " a mod m 497472 \n",
      " b mod m 1024 \n",
      " (axb) mod m 411328 \n",
      " ((a mod m)x(b mod m)) mod m 411328\n",
      "(154618, 822656) \n",
      " a mod m 411328 \n",
      " b mod m 2 \n",
      " (axb) mod m 822656 \n",
      " ((a mod m)x(b mod m)) mod m 822656\n",
      "(927712, 935936) \n",
      " a mod m 822656 \n",
      " b mod m 6 \n",
      " (axb) mod m 935936 \n",
      " ((a mod m)x(b mod m)) mod m 935936\n",
      "(33397665, 693696) \n",
      " a mod m 935936 \n",
      " b mod m 36 \n",
      " (axb) mod m 693696 \n",
      " ((a mod m)x(b mod m)) mod m 693696\n",
      "(34199209670, 344704) \n",
      " a mod m 693696 \n",
      " b mod m 1024 \n",
      " (axb) mod m 344704 \n",
      " ((a mod m)x(b mod m)) mod m 344704\n",
      "(547187354725, 515264) \n",
      " a mod m 344704 \n",
      " b mod m 16 \n",
      " (axb) mod m 515264 \n",
      " ((a mod m)x(b mod m)) mod m 515264\n",
      "(547187354725, 515264) \n",
      " a mod m 515264 \n",
      " b mod m 1 \n",
      " (axb) mod m 515264 \n",
      " ((a mod m)x(b mod m)) mod m 515264\n",
      "(1094374709451, 30528) \n",
      " a mod m 515264 \n",
      " b mod m 2 \n",
      " (axb) mod m 30528 \n",
      " ((a mod m)x(b mod m)) mod m 30528\n",
      "(3283124128353, 91584) \n",
      " a mod m 30528 \n",
      " b mod m 3 \n",
      " (axb) mod m 91584 \n",
      " ((a mod m)x(b mod m)) mod m 91584\n",
      "Program execution time: 0.0092\n"
     ]
    }
   ],
   "source": [
    "# --------------------------------------------------------------------------------------------------------------\n",
    "# TRY: (a x b) mod m = ( (a mod m) x (b mod m) ) mod m\n",
    "# --------------------------------------------------------------------------------------------------------------\n",
    "\n",
    "starttime = time.time()\n",
    "\n",
    "# -!- Nothing changes in storing data\n",
    "rna_codon_counter_dict = mrna_codon_frequency_table( mrna_codon_table(std_path) )\n",
    "aa_residues      = sorted(['A','R','N','D','C','Q','E','G','H','I','L','K','M','F','P','S','T','W','Y','V'])\n",
    "protein_sequence = 'M'+''.join( [random.choice(aa_residues) for _ in range(40)] )\n",
    "aa_len = len(protein_sequence)\n",
    "print(protein_sequence,\": \"+str(aa_len)+' residues in length')\n",
    "print()\n",
    "print( ''.join(sorted(protein_sequence) ) )\n",
    "print()\n",
    "aa_res_counter = {i:0 for i in aa_residues}\n",
    "for i in range(aa_len):\n",
    "    aa_res_counter[protein_sequence[i]] += 1 \n",
    "if aa_len != sum(aa_res_counter.values()):\n",
    "    print('Error')\n",
    "aa_res_counter = {key:aa_res_counter[key] for key in aa_res_counter.keys() \n",
    "                  if aa_res_counter[key] != 0}\n",
    "mrna_seqs_counter = {i:0 for i in sorted(list(aa_res_counter.keys()))}\n",
    "mrna_seqs_counter['Stop'] = 3\n",
    "for key, val in aa_res_counter.items():\n",
    "    mrna_seqs_counter[key] = rna_codon_counter_dict[key] ** aa_res_counter[key]\n",
    "print(\"Frequency of each residue in sequence:\"+'\\t', aa_res_counter)\n",
    "print(\"Count of mRNA codons/aa-residue:\"+'\\t', rna_codon_counter_dict)\n",
    "print(\"Frequency of potential mRNA codons in sequence:\"+'\\t', mrna_seqs_counter)\n",
    "print()\n",
    "# ----------------------------------------------------------------------------------------------------------------------\n",
    "\n",
    "print(\"The total number of possible mRNA combinations, incrementing by AA-residue:\")\n",
    "rna_cts = 1\n",
    "\n",
    "for key, val in mrna_seqs_counter.items():\n",
    "    a = rna_cts\n",
    "    b = int(val)\n",
    "\n",
    "    print( str( divmod(a*b, 1000000) ),'\\n',\n",
    "    \"a mod m\", str((a%1000000)),'\\n',\n",
    "    \"b mod m\", str((b%1000000)),'\\n',\n",
    "    \"(axb) mod m\", str( (a*b)%1000000 ),'\\n',\n",
    "    \"((a mod m)x(b mod m)) mod m\", str( ( (a%1000000)*(b%1000000) )%1000000 )\n",
    "    )\n",
    "    \n",
    "    rna_cts *= int(val)\n",
    "    del a,b\n",
    "\n",
    "print(\"Program execution time:\", str( round(time.time() - starttime, 5)))\n",
    "\n",
    "#del rna_cts, pi_seq, mrna_seqs_counter, aa_res_counter, protein_sequence, aa_len, aa_residues, rna_codon_counter_dict, starttime"
   ]
  },
  {
   "cell_type": "code",
   "execution_count": 76,
   "metadata": {},
   "outputs": [],
   "source": [
    "def protein_mrna_combinations(protein_sequence: str,\n",
    "                              modulo: int,\n",
    "                              dict_mrna_codon_frequency,\n",
    "                              verbose=False) -> int:\n",
    "    '''\n",
    "    Load in the protein sequence string, the modulo value for modular arithmetic, and the standard mRNA codon frequency dictionary\n",
    "    Return is __verbose__-dependent:\n",
    "        - default: return the protein_sequence_combination mod __modulo__ integer value\n",
    "        - True: print outs of dictionaries, and the modular arithmetic value through each protein_sequence_combination iteration\n",
    "    '''\n",
    "    # Count frequency of each residue in sequence, compile into dictionary, then insert 'Stop':1    \n",
    "    aa_res_counter = {i:0 for i in sorted(['A','R','N','D','C','Q','E','G','H','I','L','K','M','F','P','S','T','W','Y','V'])}\n",
    "\n",
    "    for i in range(len(protein_sequence)):\n",
    "        aa_res_counter[protein_sequence[i]] += 1\n",
    "    \n",
    "    # -!- to save space, remove anything where the value is 0\n",
    "    aa_res_counter = {key:aa_res_counter[key]\n",
    "                      for key in aa_res_counter.keys()\n",
    "                      if aa_res_counter[key] != 0}\n",
    "    \n",
    "    # Compile dictionary of frequencies*(number of mRNA codon strings)\n",
    "    mrna_seqs_counter = {i:0 for i in sorted(list(aa_res_counter.keys()))}\n",
    "    mrna_seqs_counter['Stop'] = 3\n",
    "    for key, val in aa_res_counter.items():\n",
    "        mrna_seqs_counter[key] =  dict_mrna_codon_frequency[key] ** aa_res_counter[key]\n",
    "    \n",
    "    if verbose == True:\n",
    "        print(str(len(protein_sequence))+' residues in length')\n",
    "        print(protein_sequence)\n",
    "        print()\n",
    "        print(''.join(sorted(protein_sequence)))\n",
    "        print()\n",
    "        print(\"Frequency of each residue in sequence:\"+'\\t', aa_res_counter)\n",
    "        print(\"Count of mRNA codons/aa-residue:\"+'\\t', {key:dict_mrna_codon_frequency[key]\n",
    "                      for key in aa_res_counter.keys()\n",
    "                      if aa_res_counter[key] != 0})\n",
    "        print(\"Frequency of potential mRNA codons in sequence:\"+'\\t', mrna_seqs_counter)\n",
    "        print()\n",
    "\n",
    "    # Iteratively multiply the values in the previous dictionary to get total number of mRNA string combinations\n",
    "    #rna_cts = 1\n",
    "    #for key, val in mrna_seqs_counter.items():\n",
    "    #    rna_cts *= val\n",
    "    #    if verbose == True:\n",
    "    #        print(str(rna_cts)+\" mod \"+str(modulo)+\" =\", str( divmod(rna_cts, modulo) ))\n",
    "\n",
    "    # -!- try this for improved memory storage\n",
    "    rna_cts = 1\n",
    "    for key, val in mrna_seqs_counter.items():\n",
    "         if verbose == True:\n",
    "            print(\"(\"+str(rna_cts)+\" x \"+str(val)+\") mod \"+str(modulo)+\" =\", str( (rna_cts*val)%modulo ))\n",
    "         rna_cts = (rna_cts*val)%modulo\n",
    "            \n",
    "    del mrna_seqs_counter, aa_res_counter\n",
    "    \n",
    "    # Return the rna_cts mod modulo value\n",
    "    return (rna_cts % modulo)"
   ]
  },
  {
   "cell_type": "code",
   "execution_count": 77,
   "metadata": {},
   "outputs": [
    {
     "name": "stdout",
     "output_type": "stream",
     "text": [
      "2 residues in length\n",
      "MA\n",
      "\n",
      "AM\n",
      "\n",
      "Frequency of each residue in sequence:\t {'A': 1, 'M': 1}\n",
      "Count of mRNA codons/aa-residue:\t {'A': 4, 'M': 1}\n",
      "Frequency of potential mRNA codons in sequence:\t {'A': 4, 'M': 1, 'Stop': 3}\n",
      "\n",
      "(1 x 4) mod 1000000 = 4\n",
      "(4 x 1) mod 1000000 = 4\n",
      "(4 x 3) mod 1000000 = 12\n",
      "12\n",
      "Program execution time: 0.00557\n"
     ]
    }
   ],
   "source": [
    "starttime = time.time()\n",
    "\n",
    "protein_seq   = 'MA'\n",
    "\n",
    "print(protein_mrna_combinations(protein_seq, \n",
    "                                1000000, \n",
    "                                mrna_codon_frequency_table(mrna_codon_table(std_path)),\n",
    "                                verbose=True))\n",
    "\n",
    "print(\"Program execution time:\", str( round(time.time() - starttime, 5)))\n",
    "\n",
    "del starttime, protein_seq\n"
   ]
  },
  {
   "cell_type": "code",
   "execution_count": 78,
   "metadata": {},
   "outputs": [
    {
     "name": "stdout",
     "output_type": "stream",
     "text": [
      "36 residues in length\n",
      "MKRKKEVIANEDMQEWLFFQWYMYRMWSCTKSLIPG\n",
      "\n",
      "ACDEEEFFGIIKKKKLLMMMMNPQQRRSSTVWWWYY\n",
      "\n",
      "Frequency of each residue in sequence:\t {'A': 1, 'C': 1, 'D': 1, 'E': 3, 'F': 2, 'G': 1, 'I': 2, 'K': 4, 'L': 2, 'M': 4, 'N': 1, 'P': 1, 'Q': 2, 'R': 2, 'S': 2, 'T': 1, 'V': 1, 'W': 3, 'Y': 2}\n",
      "Count of mRNA codons/aa-residue:\t {'A': 4, 'C': 2, 'D': 2, 'E': 2, 'F': 2, 'G': 4, 'I': 3, 'K': 2, 'L': 6, 'M': 1, 'N': 2, 'P': 4, 'Q': 2, 'R': 6, 'S': 6, 'T': 4, 'V': 4, 'W': 1, 'Y': 2}\n",
      "Frequency of potential mRNA codons in sequence:\t {'A': 4, 'C': 2, 'D': 2, 'E': 8, 'F': 4, 'G': 4, 'I': 9, 'K': 16, 'L': 36, 'M': 1, 'N': 2, 'P': 4, 'Q': 4, 'R': 36, 'S': 36, 'T': 4, 'V': 4, 'W': 1, 'Y': 4, 'Stop': 3}\n",
      "\n",
      "(1 x 4) mod 1000000 = 4\n",
      "(4 x 2) mod 1000000 = 8\n",
      "(8 x 2) mod 1000000 = 16\n",
      "(16 x 8) mod 1000000 = 128\n",
      "(128 x 4) mod 1000000 = 512\n",
      "(512 x 4) mod 1000000 = 2048\n",
      "(2048 x 9) mod 1000000 = 18432\n",
      "(18432 x 16) mod 1000000 = 294912\n",
      "(294912 x 36) mod 1000000 = 616832\n",
      "(616832 x 1) mod 1000000 = 616832\n",
      "(616832 x 2) mod 1000000 = 233664\n",
      "(233664 x 4) mod 1000000 = 934656\n",
      "(934656 x 4) mod 1000000 = 738624\n",
      "(738624 x 36) mod 1000000 = 590464\n",
      "(590464 x 36) mod 1000000 = 256704\n",
      "(256704 x 4) mod 1000000 = 26816\n",
      "(26816 x 4) mod 1000000 = 107264\n",
      "(107264 x 1) mod 1000000 = 107264\n",
      "(107264 x 4) mod 1000000 = 429056\n",
      "(429056 x 3) mod 1000000 = 287168\n",
      "287168\n",
      "Program execution time: 0.00662\n"
     ]
    }
   ],
   "source": [
    "starttime = time.time()\n",
    "\n",
    "print(protein_mrna_combinations('M'+''.join( [random.choice(['A','R','N','D','C','Q','E','G','H','I','L','K','M','F','P','S','T','W','Y','V']) for _ in range(35)] ), \n",
    "                                1000000, \n",
    "                                mrna_codon_frequency_table(mrna_codon_table(std_path)),\n",
    "                                verbose=True))\n",
    "\n",
    "print(\"Program execution time:\", str( round(time.time() - starttime, 5)))\n",
    "\n",
    "del starttime\n"
   ]
  },
  {
   "cell_type": "markdown",
   "metadata": {},
   "source": [
    "---\n",
    "\n",
    "### Problem Attempt:"
   ]
  },
  {
   "cell_type": "code",
   "execution_count": 82,
   "metadata": {},
   "outputs": [
    {
     "name": "stdout",
     "output_type": "stream",
     "text": [
      "733504\n",
      "Program execution time: 0.01209\n"
     ]
    }
   ],
   "source": [
    "starttime = time.time()\n",
    "\n",
    "print(protein_mrna_combinations(sequence_from_file(submission_dataset), \n",
    "                                1000000,\n",
    "                                mrna_codon_frequency_table(mrna_codon_table(std_path)),\n",
    "                                verbose=False))\n",
    "\n",
    "print(\"Program execution time:\", str( round(time.time() - starttime, 5)))\n",
    "\n",
    "del starttime\n"
   ]
  },
  {
   "cell_type": "markdown",
   "metadata": {},
   "source": [
    "---\n",
    "\n",
    "### Scratch from incorrect attempts"
   ]
  },
  {
   "cell_type": "code",
   "execution_count": 19,
   "metadata": {},
   "outputs": [
    {
     "ename": "TypeError",
     "evalue": "protein_mrna_combinations() missing 1 required positional argument: 'dict_mrna_codon_frequency'",
     "output_type": "error",
     "traceback": [
      "\u001b[0;31m---------------------------------------------------------------------------\u001b[0m",
      "\u001b[0;31mTypeError\u001b[0m                                 Traceback (most recent call last)",
      "Cell \u001b[0;32mIn[19], line 4\u001b[0m\n\u001b[1;32m      1\u001b[0m starttime \u001b[38;5;241m=\u001b[39m time\u001b[38;5;241m.\u001b[39mtime()\n\u001b[1;32m      3\u001b[0m \u001b[38;5;66;03m#print(protein_mrna_combinations(submission_dataset, 1000000))\u001b[39;00m\n\u001b[0;32m----> 4\u001b[0m \u001b[38;5;28mprint\u001b[39m(\u001b[43mprotein_mrna_combinations\u001b[49m\u001b[43m(\u001b[49m\u001b[43mos\u001b[49m\u001b[38;5;241;43m.\u001b[39;49m\u001b[43mgetcwd\u001b[49m\u001b[43m(\u001b[49m\u001b[43m)\u001b[49m\u001b[43m \u001b[49m\u001b[38;5;241;43m+\u001b[39;49m\u001b[43m \u001b[49m\u001b[38;5;124;43m\"\u001b[39;49m\u001b[38;5;124;43m/datasets/rosalind_mrna_attempt05.txt\u001b[39;49m\u001b[38;5;124;43m\"\u001b[39;49m\u001b[43m,\u001b[49m\u001b[43m \u001b[49m\u001b[38;5;241;43m1000000\u001b[39;49m\u001b[43m)\u001b[49m)\n\u001b[1;32m      6\u001b[0m \u001b[38;5;28mprint\u001b[39m(\u001b[38;5;124m\"\u001b[39m\u001b[38;5;124mProgram execution time:\u001b[39m\u001b[38;5;124m\"\u001b[39m, \u001b[38;5;28mstr\u001b[39m( \u001b[38;5;28mround\u001b[39m(time\u001b[38;5;241m.\u001b[39mtime() \u001b[38;5;241m-\u001b[39m starttime, \u001b[38;5;241m5\u001b[39m)))\n\u001b[1;32m      8\u001b[0m \u001b[38;5;28;01mdel\u001b[39;00m starttime\n",
      "\u001b[0;31mTypeError\u001b[0m: protein_mrna_combinations() missing 1 required positional argument: 'dict_mrna_codon_frequency'"
     ]
    }
   ],
   "source": [
    "starttime = time.time()\n",
    "\n",
    "#print(protein_mrna_combinations(submission_dataset, 1000000))\n",
    "print(protein_mrna_combinations(os.getcwd() + \"/datasets/rosalind_mrna_attempt05.txt\", 1000000))\n",
    "\n",
    "print(\"Program execution time:\", str( round(time.time() - starttime, 5)))\n",
    "\n",
    "del starttime"
   ]
  },
  {
   "cell_type": "code",
   "execution_count": null,
   "metadata": {},
   "outputs": [],
   "source": [
    "starttime = time.time()\n",
    "\n",
    "#print(protein_mrna_combinations(submission_dataset, 1000000, verbose=True))\n",
    "print(protein_mrna_combinations(os.getcwd() + \"/datasets/rosalind_mrna_attempt05.txt\", 1000000, verbose=True))\n",
    "\n",
    "print(\"Program execution time:\", str( round(time.time() - starttime, 5)))\n",
    "\n",
    "del starttime"
   ]
  },
  {
   "cell_type": "markdown",
   "metadata": {},
   "source": [
    "#### Cycle through previous attempts"
   ]
  },
  {
   "cell_type": "code",
   "execution_count": 80,
   "metadata": {},
   "outputs": [
    {
     "name": "stdout",
     "output_type": "stream",
     "text": [
      "994624\n",
      "Program execution time: 0.01132\n",
      "--------------------------------------------------\n",
      "791488\n",
      "Program execution time: 0.00743\n",
      "--------------------------------------------------\n",
      "34624\n",
      "Program execution time: 0.00606\n",
      "--------------------------------------------------\n",
      "678464\n",
      "Program execution time: 0.00777\n",
      "--------------------------------------------------\n",
      "691072\n",
      "Program execution time: 0.00669\n",
      "--------------------------------------------------\n",
      "590592\n",
      "Program execution time: 0.0072\n",
      "--------------------------------------------------\n"
     ]
    }
   ],
   "source": [
    "for XX in ['01','02','03','04','05','06']:\n",
    "    starttime = time.time()\n",
    "    print(protein_mrna_combinations(sequence_from_file(datapath + \"/datasets/rosalind_mrna_attempt\"+XX+\".txt\"), \n",
    "                                    1000000,\n",
    "                                    mrna_codon_frequency_table(mrna_codon_table(std_path)),\n",
    "                                    verbose=False))\n",
    "    \n",
    "    print(\"Program execution time:\", str( round(time.time() - starttime, 5)))\n",
    "    print('-'*50)\n",
    "    del starttime\n"
   ]
  },
  {
   "cell_type": "code",
   "execution_count": 81,
   "metadata": {},
   "outputs": [
    {
     "name": "stdout",
     "output_type": "stream",
     "text": [
      "999 residues in length\n",
      "MFEDGCLIKDYDFAPVWTWHMRGSVFRFHWLTPTYAFEPPNLHQEKQTNLDDKLMKALPQLLNRVAYWNNWLDPQGKPCGVFVWDWTTCMGGADSNICSEPWQMYEHVMNKVSQREEDHRVMGQSCITWQRVNGYYYEISNPPINWQECRCNIECAHWKSQSPDCNIKISSDLTATRYRLMPVLRWMHCHTRPNPDCWPTQRMNFTAIVHDWVCDAHKNWYNCLGEAQLLIILEACMNHFEASYNWLWEKNCMSCAETGWRFLGYQWFLFWEGARMQYHEDECFVESYTMDLRLMWRTKNQQEGKAEFGWANWTTEFWGWRNEEGARYGWPIKEDYDVFEHRTYFKMWFPAWQWLPQYYEPNPPMECDLNIIWMCFYKVRNEWAPYQYKMMVAGAQWSCAQFFACFFCHCFYLWPYLPWLKDMIMLGDYSWIGREEIFEHCSIMFFGGAWAVVIERTGESCCLADNAKYIWMEQFAIRQQYATHPQWQAYEMIGRNNHFFKNDWGKGQNQGRAAAVRSNIFIKETLTIRGKNPITIAAQHVSYFTFIKDDDLPLPRPEWTVWKDRQTRNWHYDYIEHPHFRITAPRNCCWPYWFDHMLMSHYMIALESWMVRPPTFNETNGLLKTKVHVDIDAQNGYWTVRRCPEATDIHYGCTCQEVKCRFFDDLRGCQCGFNADPAALIGIIVGMLDYYWPCRRSMHTMQQARRFIVHYESMDLGEWHVQVEATVCWSGNHAYLTRAYTGWVMQVEMGQIKASWREVFKGHRMHDGWEWNKARDMMHEHCTGTCIKGKISRFSSDYAYPFIFTPTVFSQCETAQPADPQFYHHKWLWCHMFCTVMICFRETAETQQCKQILNWKMMNPAPVTMSLVCSSQQMLFPLCLFVRLFIHWWERWHSGHWDGQAGHLYYPAFELIMQPLQEPKVWFGFVNEDKDTKPAMVVVWCLFMYESSKTCGDNYTAICKKMASSLRHPYILEEQWGKPAHHYFYWITSLMSCSCRNGT\n",
      "\n",
      "AAAAAAAAAAAAAAAAAAAAAAAAAAAAAAAAAAAAAAAAAAAAAAAAAAAAAAAAAAACCCCCCCCCCCCCCCCCCCCCCCCCCCCCCCCCCCCCCCCCCCCCCCCCCDDDDDDDDDDDDDDDDDDDDDDDDDDDDDDDDDDDDDDDDDDDDDEEEEEEEEEEEEEEEEEEEEEEEEEEEEEEEEEEEEEEEEEEEEEEEEEEEEEEEEEEEEFFFFFFFFFFFFFFFFFFFFFFFFFFFFFFFFFFFFFFFFFFFFFFFFFFFFFFFGGGGGGGGGGGGGGGGGGGGGGGGGGGGGGGGGGGGGGGGGGGGGGGGGGHHHHHHHHHHHHHHHHHHHHHHHHHHHHHHHHHHHHHHHHHHHIIIIIIIIIIIIIIIIIIIIIIIIIIIIIIIIIIIIIIIIIIIIIIIIKKKKKKKKKKKKKKKKKKKKKKKKKKKKKKKKKKKKKKKKKKLLLLLLLLLLLLLLLLLLLLLLLLLLLLLLLLLLLLLLLLLLLLLLLLLLLLLLMMMMMMMMMMMMMMMMMMMMMMMMMMMMMMMMMMMMMMMMMMMMMMMMMNNNNNNNNNNNNNNNNNNNNNNNNNNNNNNNNNNNNNNNNNNNNNPPPPPPPPPPPPPPPPPPPPPPPPPPPPPPPPPPPPPPPPPPPPPPPPPPQQQQQQQQQQQQQQQQQQQQQQQQQQQQQQQQQQQQQQQQQQQQQQQQQQRRRRRRRRRRRRRRRRRRRRRRRRRRRRRRRRRRRRRRRRRRRRRRRRRRRSSSSSSSSSSSSSSSSSSSSSSSSSSSSSSSSSSSSSSSSTTTTTTTTTTTTTTTTTTTTTTTTTTTTTTTTTTTTTTTTTTTTTTTTTTTVVVVVVVVVVVVVVVVVVVVVVVVVVVVVVVVVVVVVVVVVVVVWWWWWWWWWWWWWWWWWWWWWWWWWWWWWWWWWWWWWWWWWWWWWWWWWWWWWWWWWWWWWWWWYYYYYYYYYYYYYYYYYYYYYYYYYYYYYYYYYYYYYYYYYYYYYYYYY\n",
      "\n",
      "Frequency of each residue in sequence:\t {'A': 59, 'C': 50, 'D': 45, 'E': 60, 'F': 55, 'G': 50, 'H': 43, 'I': 48, 'K': 42, 'L': 54, 'M': 49, 'N': 45, 'P': 50, 'Q': 50, 'R': 51, 'S': 40, 'T': 51, 'V': 44, 'W': 64, 'Y': 49}\n",
      "Count of mRNA codons/aa-residue:\t {'A': 4, 'C': 2, 'D': 2, 'E': 2, 'F': 2, 'G': 4, 'H': 2, 'I': 3, 'K': 2, 'L': 6, 'M': 1, 'N': 2, 'P': 4, 'Q': 2, 'R': 6, 'S': 6, 'T': 4, 'V': 4, 'W': 1, 'Y': 2}\n",
      "Frequency of potential mRNA codons in sequence:\t {'A': 332306998946228968225951765070086144, 'C': 1125899906842624, 'D': 35184372088832, 'E': 1152921504606846976, 'F': 36028797018963968, 'G': 1267650600228229401496703205376, 'H': 8796093022208, 'I': 79766443076872509863361, 'K': 4398046511104, 'L': 1047532535594334222593508922191671036215296, 'M': 1, 'N': 35184372088832, 'P': 1267650600228229401496703205376, 'Q': 1125899906842624, 'R': 4849687664788584363858837602739217760256, 'S': 13367494538843734067838845976576, 'T': 5070602400912917605986812821504, 'V': 309485009821345068724781056, 'W': 1, 'Y': 562949953421312, 'Stop': 3}\n",
      "\n",
      "(1 x 332306998946228968225951765070086144) mod 1000000 = 86144\n",
      "(86144 x 1125899906842624) mod 1000000 = 1856\n",
      "(1856 x 35184372088832) mod 1000000 = 872192\n",
      "(872192 x 1152921504606846976) mod 1000000 = 691392\n",
      "(691392 x 36028797018963968) mod 1000000 = 763456\n",
      "(763456 x 1267650600228229401496703205376) mod 1000000 = 539456\n",
      "(539456 x 8796093022208) mod 1000000 = 238848\n",
      "(238848 x 79766443076872509863361) mod 1000000 = 48128\n",
      "(48128 x 4398046511104) mod 1000000 = 413312\n",
      "(413312 x 1047532535594334222593508922191671036215296) mod 1000000 = 420352\n",
      "(420352 x 1) mod 1000000 = 420352\n",
      "(420352 x 35184372088832) mod 1000000 = 708864\n",
      "(708864 x 1267650600228229401496703205376) mod 1000000 = 652864\n",
      "(652864 x 1125899906842624) mod 1000000 = 875136\n",
      "(875136 x 4849687664788584363858837602739217760256) mod 1000000 = 394816\n",
      "(394816 x 13367494538843734067838845976576) mod 1000000 = 830016\n",
      "(830016 x 5070602400912917605986812821504) mod 1000000 = 464064\n",
      "(464064 x 309485009821345068724781056) mod 1000000 = 971584\n",
      "(971584 x 1) mod 1000000 = 971584\n",
      "(971584 x 562949953421312) mod 1000000 = 998208\n",
      "(998208 x 3) mod 1000000 = 994624\n",
      "994624\n",
      "Program execution time: 0.01075\n",
      "--------------------------------------------------\n",
      "999 residues in length\n",
      "MICGFVICMPECEGQTHWGDVGRYHPHYTHLRVEKLMMYWYTQRAAPIYHAYFIPPWSRENVMMSMCQHKKFCHPESKWQLTLKATNEQWTAHIHEIATPLMYCSEREQGSPWCWIGELLEANCCFAFQPYPPTKDPNSEDMVVNSACKNIWCSKFIARVMKWTWLIKDWWDQDDIMCCDRLTHTQFLDDCIWKEAIWAVHFGWEYLHDKPWMWWKAELVGLLWLCFFNCHEVSSQAVPEYFNGGYKHEQDWMTHWRCALWWEGNLFWHQLSNNYGSCEQENNWHCECWNSICDKQCDCPSTYATPFMTCSIMVPKARKHWYYGSVDNAAFRTAAPENLDFGMEPLTPWYMGSAVGFVTYWHVQDCEVSAVSAVHYPKDGIFQRTTNVWDAEDGTKHQMHHRDPGAMHCDSDAMLPNTDWQHWVLAICKNLDWKKGISLSSPTSYGGLKLTKMADSNWHENELYYQLICNTQWGIGNQLSGYSWNSAEEMCTAAVQILQRVNVDPSIHVPQPVLWPHLFNAKPHIIDFLRNIILPWVNSKNCKSVWHMKNPIKSGMGKLQEFKTKCQANSFWMYFTLMASNGSDKPIGSEDFDTYGIHDGGFSFLIVMMATLTYFKQRWFISQHWPIVDHWSGAMWTRFLLLGIRNWGMMMPTSIIETYMHEAMSCTPKSNKTNEYRRKIPNWYRDNHNVWNAFGSNNYHTDVGQSNDHLIYAEEIIHNRLDHESTGWYNNHPCIFQMCFFTSWKHINVPWRWYTIRTKYLRYCWTVKENNHHIPGLRRMPGGWWRTSRHDVTINEYWGINTKVPSLKQESFEKLPPSSWKTGCVFVDVPAHTKPNISHFKNCDPAAKHDLGKLYHSDMSWAQNVLCMHQWGCMTHQPVCQLYIYFLYIIEIMGVRRALHICFFMWYYDRQRNSGENAEWCWMSQEFNDQAIETWFKNFDRNNIVSAREFFQNLNTWRCKWGCWTHKSINMALLCGQPSGSNGFSGHGGGVISYMHIAS\n",
      "\n",
      "AAAAAAAAAAAAAAAAAAAAAAAAAAAAAAAAAAAAAAAAAAAAAAAAAACCCCCCCCCCCCCCCCCCCCCCCCCCCCCCCCCCCCCCCCCCCCCDDDDDDDDDDDDDDDDDDDDDDDDDDDDDDDDDDDDDDDDDDDDDEEEEEEEEEEEEEEEEEEEEEEEEEEEEEEEEEEEEEEEEEEEEEEEEFFFFFFFFFFFFFFFFFFFFFFFFFFFFFFFFFFFFFFFFFFFFGGGGGGGGGGGGGGGGGGGGGGGGGGGGGGGGGGGGGGGGGGGGGGGGGGGGGGGHHHHHHHHHHHHHHHHHHHHHHHHHHHHHHHHHHHHHHHHHHHHHHHHHHHHHHIIIIIIIIIIIIIIIIIIIIIIIIIIIIIIIIIIIIIIIIIIIIIIIIIIIIIIIIKKKKKKKKKKKKKKKKKKKKKKKKKKKKKKKKKKKKKKKKKKKKKKKKKKKLLLLLLLLLLLLLLLLLLLLLLLLLLLLLLLLLLLLLLLLLLLLLLLLLLLLLLLLMMMMMMMMMMMMMMMMMMMMMMMMMMMMMMMMMMMMMMMMMMMMNNNNNNNNNNNNNNNNNNNNNNNNNNNNNNNNNNNNNNNNNNNNNNNNNNNNNNNNNNNNNNNPPPPPPPPPPPPPPPPPPPPPPPPPPPPPPPPPPPPPPPPPPPPPPPPQQQQQQQQQQQQQQQQQQQQQQQQQQQQQQQQQQQQQQQQRRRRRRRRRRRRRRRRRRRRRRRRRRRRRRRRRRRSSSSSSSSSSSSSSSSSSSSSSSSSSSSSSSSSSSSSSSSSSSSSSSSSSSSSSSSSSSSSSSTTTTTTTTTTTTTTTTTTTTTTTTTTTTTTTTTTTTTTTTTTTTTTTTTTTVVVVVVVVVVVVVVVVVVVVVVVVVVVVVVVVVVVVVVVVVVVVWWWWWWWWWWWWWWWWWWWWWWWWWWWWWWWWWWWWWWWWWWWWWWWWWWWWWWWWWWWWWWWWWYYYYYYYYYYYYYYYYYYYYYYYYYYYYYYYYYYYYYYYYYY\n",
      "\n",
      "Frequency of each residue in sequence:\t {'A': 50, 'C': 45, 'D': 45, 'E': 48, 'F': 44, 'G': 55, 'H': 54, 'I': 56, 'K': 51, 'L': 56, 'M': 44, 'N': 63, 'P': 48, 'Q': 40, 'R': 35, 'S': 63, 'T': 51, 'V': 44, 'W': 65, 'Y': 42}\n",
      "Count of mRNA codons/aa-residue:\t {'A': 4, 'C': 2, 'D': 2, 'E': 2, 'F': 2, 'G': 4, 'H': 2, 'I': 3, 'K': 2, 'L': 6, 'M': 1, 'N': 2, 'P': 4, 'Q': 2, 'R': 6, 'S': 6, 'T': 4, 'V': 4, 'W': 1, 'Y': 2}\n",
      "Frequency of potential mRNA codons in sequence:\t {'A': 1267650600228229401496703205376, 'C': 35184372088832, 'D': 35184372088832, 'E': 281474976710656, 'F': 17592186044416, 'G': 1298074214633706907132624082305024, 'H': 18014398509481984, 'I': 523347633027360537213511521, 'K': 2251799813685248, 'L': 37711171281396032013366321198900157303750656, 'M': 1, 'N': 9223372036854775808, 'P': 79228162514264337593543950336, 'Q': 1099511627776, 'R': 1719070799748422591028658176, 'S': 10556714443828879617693714491135314434982743638016, 'T': 5070602400912917605986812821504, 'V': 309485009821345068724781056, 'W': 1, 'Y': 4398046511104, 'Stop': 3}\n",
      "\n",
      "(1 x 1267650600228229401496703205376) mod 1000000 = 205376\n",
      "(205376 x 35184372088832) mod 1000000 = 960832\n",
      "(960832 x 35184372088832) mod 1000000 = 628224\n",
      "(628224 x 281474976710656) mod 1000000 = 154944\n",
      "(154944 x 17592186044416) mod 1000000 = 992704\n",
      "(992704 x 1298074214633706907132624082305024) mod 1000000 = 544896\n",
      "(544896 x 18014398509481984) mod 1000000 = 153664\n",
      "(153664 x 523347633027360537213511521) mod 1000000 = 362944\n",
      "(362944 x 2251799813685248) mod 1000000 = 650112\n",
      "(650112 x 37711171281396032013366321198900157303750656) mod 1000000 = 473472\n",
      "(473472 x 1) mod 1000000 = 473472\n",
      "(473472 x 9223372036854775808) mod 1000000 = 365376\n",
      "(365376 x 79228162514264337593543950336) mod 1000000 = 966336\n",
      "(966336 x 1099511627776) mod 1000000 = 548736\n",
      "(548736 x 1719070799748422591028658176) mod 1000000 = 865536\n",
      "(865536 x 10556714443828879617693714491135314434982743638016) mod 1000000 = 816576\n",
      "(816576 x 5070602400912917605986812821504) mod 1000000 = 450304\n",
      "(450304 x 309485009821345068724781056) mod 1000000 = 641024\n",
      "(641024 x 1) mod 1000000 = 641024\n",
      "(641024 x 4398046511104) mod 1000000 = 930496\n",
      "(930496 x 3) mod 1000000 = 791488\n",
      "791488\n",
      "Program execution time: 0.00958\n",
      "--------------------------------------------------\n",
      "1000 residues in length\n",
      "MQHCIICNCKVFMIVMFRNRQKVDAKPGEVKGFDHTFHNTFSMHERNMQQGQKPKVAIHGKKGSSRTNWAHRLGDEKWTDRQLSGNTMKMDIGQHPKMKATDKWPGPPGGITAEGGGQQNTRLMVAQDLSDRGNRLELFLYLFSAYECFSCACGAGRIDFTQRQVFNCNNWEGFKRVTWLHKYFAGLRVTYKPQMTEINPQYHQEKADRTLLNGGQREAMCSMEKYLTQWIWRMAQPSQVCVMWPLFTAWIGTTASPCWYFKVTNCHKFKVRLRLSAPCKYCPGHICYTEIQCEDFMKICTNLQTFWVPPWAQWIFHICTQCFIDDNWIFWTRPLFMLNNKCSNPMKTTCSFGWDSDVKLKFIFQNPGEMTDKVHRKNQIRRSLVEWSERYVNSPVGLPNCFYQARSLLKRMNETRKSKKWILRQTNLFFDQAMWLDSHWVDAVTMGKAQNMMRENWRYTPTNWHCMWQMKYNWKCVRCVYCYTMEYQTQWRLPRCTHLFGHYRSRPDNIRLENKKCSQMLAELTDCAKKWYSKHRADAANRIQWHPMKAFYDNHPQPSIGQPEAYYSQNPQDYWMEAYCVHGDLCEEIKDQHWANTWDMGCEHLAARQIATCMHARCHAMVNQCCLACLKVSLWWKKMDEHMQRALDTWHETGFQIMQRQWEIWLIAACMEWFYLVGHICRRINIGFIPWYFLGNDIINEKTPGLGEVMKQDAWEVCACKQNFNDYKQHGMVSQTADHPCQVMSSQPHLHTTTNLPKRDHSLFYMAGNVLDDEPEKNPILTWWFHFSVNIRGWCQTKNAESHMRHGITNDCRGKERHALEADLEYVYSTFYSCQRHVCPQWDCFPQRLQSRKWESKLVTLTFRIMHSQFCYKNDRLYGATTTSWIAVNYQYFRIQVVQQMQCCEWLPKQPDVQVSCHDLSCNCAKYFPHLANEDQGWAYCRIKLSMSDRIMKWIAQQRIDMCTWMIHAWVAHSCWMQVEMCWIIYRVHTGSVQRTFDVK\n",
      "\n",
      "AAAAAAAAAAAAAAAAAAAAAAAAAAAAAAAAAAAAAAAAAAAAAAAAAAAAAACCCCCCCCCCCCCCCCCCCCCCCCCCCCCCCCCCCCCCCCCCCCCCCCCCCCCCCCDDDDDDDDDDDDDDDDDDDDDDDDDDDDDDDDDDDDDDDDDDDDDDEEEEEEEEEEEEEEEEEEEEEEEEEEEEEEEEEEEEEEEEEEEFFFFFFFFFFFFFFFFFFFFFFFFFFFFFFFFFFFFFFFFFFFFGGGGGGGGGGGGGGGGGGGGGGGGGGGGGGGGGGGGGGGGGGGGGHHHHHHHHHHHHHHHHHHHHHHHHHHHHHHHHHHHHHHHHHHHHIIIIIIIIIIIIIIIIIIIIIIIIIIIIIIIIIIIIIIIIIIIIIIIKKKKKKKKKKKKKKKKKKKKKKKKKKKKKKKKKKKKKKKKKKKKKKKKKKKKKKKKKKKKKKLLLLLLLLLLLLLLLLLLLLLLLLLLLLLLLLLLLLLLLLLLLLLLLLLLLLLLLLLMMMMMMMMMMMMMMMMMMMMMMMMMMMMMMMMMMMMMMMMMMMMMMMMMNNNNNNNNNNNNNNNNNNNNNNNNNNNNNNNNNNNNNNNNNNNNNNNNNNNPPPPPPPPPPPPPPPPPPPPPPPPPPPPPPPPPPPPPPPPQQQQQQQQQQQQQQQQQQQQQQQQQQQQQQQQQQQQQQQQQQQQQQQQQQQQQQQQQQQQQQQQQQQQQRRRRRRRRRRRRRRRRRRRRRRRRRRRRRRRRRRRRRRRRRRRRRRRRRRRRRRRRRRRSSSSSSSSSSSSSSSSSSSSSSSSSSSSSSSSSSSSSSSSSSSSTTTTTTTTTTTTTTTTTTTTTTTTTTTTTTTTTTTTTTTTTTTTTTTTTTTTTTTTVVVVVVVVVVVVVVVVVVVVVVVVVVVVVVVVVVVVVVVVVVVVVVWWWWWWWWWWWWWWWWWWWWWWWWWWWWWWWWWWWWWWWWWWWWWWWWWWWYYYYYYYYYYYYYYYYYYYYYYYYYYYYYYYYYYYYY\n",
      "\n",
      "Frequency of each residue in sequence:\t {'A': 54, 'C': 56, 'D': 46, 'E': 43, 'F': 44, 'G': 45, 'H': 44, 'I': 47, 'K': 62, 'L': 57, 'M': 49, 'N': 51, 'P': 40, 'Q': 69, 'R': 59, 'S': 44, 'T': 56, 'V': 46, 'W': 51, 'Y': 37}\n",
      "Count of mRNA codons/aa-residue:\t {'A': 4, 'C': 2, 'D': 2, 'E': 2, 'F': 2, 'G': 4, 'H': 2, 'I': 3, 'K': 2, 'L': 6, 'M': 1, 'N': 2, 'P': 4, 'Q': 2, 'R': 6, 'S': 6, 'T': 4, 'V': 4, 'W': 1, 'Y': 2}\n",
      "Frequency of potential mRNA codons in sequence:\t {'A': 324518553658426726783156020576256, 'C': 72057594037927936, 'D': 70368744177664, 'E': 8796093022208, 'F': 17592186044416, 'G': 1237940039285380274899124224, 'H': 17592186044416, 'I': 26588814358957503287787, 'K': 4611686018427387904, 'L': 226267027688376192080197927193400943822503936, 'M': 1, 'N': 2251799813685248, 'P': 1208925819614629174706176, 'Q': 590295810358705651712, 'R': 8145612996781542914887125378962433977610141696, 'S': 17324272922341479351919144385642496, 'T': 5192296858534827628530496329220096, 'V': 4951760157141521099596496896, 'W': 1, 'Y': 137438953472, 'Stop': 3}\n",
      "\n",
      "(1 x 324518553658426726783156020576256) mod 1000000 = 576256\n",
      "(576256 x 72057594037927936) mod 1000000 = 687616\n",
      "(687616 x 70368744177664) mod 1000000 = 609024\n",
      "(609024 x 8796093022208) mod 1000000 = 204992\n",
      "(204992 x 17592186044416) mod 1000000 = 924672\n",
      "(924672 x 1237940039285380274899124224) mod 1000000 = 454528\n",
      "(454528 x 17592186044416) mod 1000000 = 315648\n",
      "(315648 x 26588814358957503287787) mod 1000000 = 390976\n",
      "(390976 x 4611686018427387904) mod 1000000 = 154304\n",
      "(154304 x 226267027688376192080197927193400943822503936) mod 1000000 = 340544\n",
      "(340544 x 1) mod 1000000 = 340544\n",
      "(340544 x 2251799813685248) mod 1000000 = 94912\n",
      "(94912 x 1208925819614629174706176) mod 1000000 = 576512\n",
      "(576512 x 590295810358705651712) mod 1000000 = 788544\n",
      "(788544 x 8145612996781542914887125378962433977610141696) mod 1000000 = 530624\n",
      "(530624 x 17324272922341479351919144385642496) mod 1000000 = 797504\n",
      "(797504 x 5192296858534827628530496329220096) mod 1000000 = 440384\n",
      "(440384 x 4951760157141521099596496896) mod 1000000 = 48064\n",
      "(48064 x 1) mod 1000000 = 48064\n",
      "(48064 x 137438953472) mod 1000000 = 678208\n",
      "(678208 x 3) mod 1000000 = 34624\n",
      "34624\n",
      "Program execution time: 0.00906\n",
      "--------------------------------------------------\n",
      "999 residues in length\n",
      "MFKICVIFAGWQHAFTEWLLEYNQDYKWFYFQYDHRINYFDWNGVHRDQFFGPVRGEVSQNPWTMSLGPGKPDYMPGYEQSNYGGCALAEALAKCMNNHEMCALHPSTIDEYHWMVYHTLETISYSKYRVTPLSEFHWVCDVHWNQTDHWISKCKMEYFDGFVLSGDVFINAVWMQETGGYPDEDQTPTQIMSLLQAQKFCNGRSPLQAVLFYGEHTLVKYTGTNQCENGSNVPVTPLMVHYWHIYAWIQSRLDFPDTHIFGMELSASCNSVINQNVNCYPASIRVASGDKPCHASKGCTAVEHQSHSGIADMLTEQETQSFTVKWGQMFYPNYESMCLEGNTVCCNRFLTIKPCADQREPFEDCMAVHIYWHKPVDNDLTRYDAHRNYCDYSLNKDKALFLQDAFFWTVMGMCIPIGQPHYVVLQNEDYVCTGHMNLVPMSQRYRLSIMMFGQLPMCPLNTFAINWTMLGEPQNFWMAIHGHEWVAKHRMCCWFMKKTLASYQDQDNYTYNFSYVHAQWSRARCKYMKGRDFFIRVKHSWDWRDAPRTWWGVRVLESHPMVFRNDGDTFPGIHNDAIHQPACSIYKRWCSWTDESCIDGEYHSMCAHHDRDWAAWQCIEWAWYNELLGSVTGAAWCKSKKNNFHHIMENFTSDCWLFVGMWCDIQDNDCTREARTPQNSVSKKCWKWIKFENENCRMSQGILMMPTKWCAFLNATAGVPLVTFMQDLDKTLRPAHQEGGDYNSHLVNKESFVNHKHYKLPSTWGTGSFVQIKSVKMIYIFQSAHIYWNMMAPVCMMLTVSFNMPGRGAHEKVRIIEWPVFHPCFWMARVGDSDRSDIIFMRGLNPWLTAEWICMVFVFLFAITWAQPRLLRLITDVTAGPLWDVQADSSNGLIRPDFCWPEYSNMFQHMLHTMMHQVQTWKIYHFMGYCRGRGKVQCWDHQQWSCQMCMGDANVWIMFCYKECCEGGKGDKITAWSPMVWGQHTGWHHKMWTMFSITK\n",
      "\n",
      "AAAAAAAAAAAAAAAAAAAAAAAAAAAAAAAAAAAAAAAAAAAAAAAAAAAAACCCCCCCCCCCCCCCCCCCCCCCCCCCCCCCCCCCCCCCCCCCCCCCDDDDDDDDDDDDDDDDDDDDDDDDDDDDDDDDDDDDDDDDDDDDDDDDDDDDDDEEEEEEEEEEEEEEEEEEEEEEEEEEEEEEEEEEEEEEEEEEFFFFFFFFFFFFFFFFFFFFFFFFFFFFFFFFFFFFFFFFFFFFFFFFFFFFFGGGGGGGGGGGGGGGGGGGGGGGGGGGGGGGGGGGGGGGGGGGGGGGGGGGGGGGGGGHHHHHHHHHHHHHHHHHHHHHHHHHHHHHHHHHHHHHHHHHHHHHHHHHHIIIIIIIIIIIIIIIIIIIIIIIIIIIIIIIIIIIIIIIIIIIIIIIKKKKKKKKKKKKKKKKKKKKKKKKKKKKKKKKKKKKKKKKKKKKKLLLLLLLLLLLLLLLLLLLLLLLLLLLLLLLLLLLLLLLLLLLLLLLLLLLLMMMMMMMMMMMMMMMMMMMMMMMMMMMMMMMMMMMMMMMMMMMMMMMMMMMMMMMNNNNNNNNNNNNNNNNNNNNNNNNNNNNNNNNNNNNNNNNNNNNNNNNNNPPPPPPPPPPPPPPPPPPPPPPPPPPPPPPPPPPPPPPPPPPPPQQQQQQQQQQQQQQQQQQQQQQQQQQQQQQQQQQQQQQQQQQQQQQQQQRRRRRRRRRRRRRRRRRRRRRRRRRRRRRRRRRRRRRRSSSSSSSSSSSSSSSSSSSSSSSSSSSSSSSSSSSSSSSSSSSSSSSSSSSSSSSSTTTTTTTTTTTTTTTTTTTTTTTTTTTTTTTTTTTTTTTTTTTTTTTTTTTTVVVVVVVVVVVVVVVVVVVVVVVVVVVVVVVVVVVVVVVVVVVVVVVVVVVVVVVVVWWWWWWWWWWWWWWWWWWWWWWWWWWWWWWWWWWWWWWWWWWWWWWWWWWWWWYYYYYYYYYYYYYYYYYYYYYYYYYYYYYYYYYYYYYYYYYYYY\n",
      "\n",
      "Frequency of each residue in sequence:\t {'A': 53, 'C': 47, 'D': 54, 'E': 42, 'F': 53, 'G': 58, 'H': 50, 'I': 47, 'K': 45, 'L': 52, 'M': 55, 'N': 50, 'P': 44, 'Q': 49, 'R': 38, 'S': 56, 'T': 52, 'V': 57, 'W': 53, 'Y': 44}\n",
      "Count of mRNA codons/aa-residue:\t {'A': 4, 'C': 2, 'D': 2, 'E': 2, 'F': 2, 'G': 4, 'H': 2, 'I': 3, 'K': 2, 'L': 6, 'M': 1, 'N': 2, 'P': 4, 'Q': 2, 'R': 6, 'S': 6, 'T': 4, 'V': 4, 'W': 1, 'Y': 2}\n",
      "Frequency of potential mRNA codons in sequence:\t {'A': 81129638414606681695789005144064, 'C': 140737488355328, 'D': 18014398509481984, 'E': 4398046511104, 'F': 9007199254740992, 'G': 83076749736557242056487941267521536, 'H': 1125899906842624, 'I': 26588814358957503287787, 'K': 35184372088832, 'L': 29098125988731506183153025616435306561536, 'M': 1, 'N': 1125899906842624, 'P': 309485009821345068724781056, 'Q': 562949953421312, 'R': 371319292745659279662190166016, 'S': 37711171281396032013366321198900157303750656, 'T': 20282409603651670423947251286016, 'V': 20769187434139310514121985316880384, 'W': 1, 'Y': 17592186044416, 'Stop': 3}\n",
      "\n",
      "(1 x 81129638414606681695789005144064) mod 1000000 = 144064\n",
      "(144064 x 140737488355328) mod 1000000 = 972992\n",
      "(972992 x 18014398509481984) mod 1000000 = 576128\n",
      "(576128 x 4398046511104) mod 1000000 = 325312\n",
      "(325312 x 9007199254740992) mod 1000000 = 589504\n",
      "(589504 x 83076749736557242056487941267521536) mod 1000000 = 558144\n",
      "(558144 x 1125899906842624) mod 1000000 = 529856\n",
      "(529856 x 26588814358957503287787) mod 1000000 = 668672\n",
      "(668672 x 35184372088832) mod 1000000 = 471104\n",
      "(471104 x 29098125988731506183153025616435306561536) mod 1000000 = 855744\n",
      "(855744 x 1) mod 1000000 = 855744\n",
      "(855744 x 1125899906842624) mod 1000000 = 432256\n",
      "(432256 x 309485009821345068724781056) mod 1000000 = 142336\n",
      "(142336 x 562949953421312) mod 1000000 = 864832\n",
      "(864832 x 371319292745659279662190166016) mod 1000000 = 949312\n",
      "(949312 x 37711171281396032013366321198900157303750656) mod 1000000 = 748672\n",
      "(748672 x 20282409603651670423947251286016) mod 1000000 = 170752\n",
      "(170752 x 20769187434139310514121985316880384) mod 1000000 = 328768\n",
      "(328768 x 1) mod 1000000 = 328768\n",
      "(328768 x 17592186044416) mod 1000000 = 559488\n",
      "(559488 x 3) mod 1000000 = 678464\n",
      "678464\n",
      "Program execution time: 0.00886\n",
      "--------------------------------------------------\n",
      "997 residues in length\n",
      "MVMAFQFHQWDKSWDKKIFAIDPCIDVVYCILHDNNWLHFMDAYHYECQWHNVGHAEGHWTYPVTNEMCVMSTCCVHDECEWNCRSIMSTFVVRDGYKNEQIRAATKDTIGHRWPELRRTKYTFWRRDLDNSPRITCLVYLARVQEMQDHADCLVPHQIMFYWPEFHMHKWTTNMKKCRCGDGQHPFPQNNPHTSQTKAQCKMERYCSCCYNNIHNPSEWIKCWKSFEECKESRKAYLSEHIYQIRRAGVIVCPQDHYVYVIWIIIHTAWIKDYYMPAGTTADNWQCEREYKMNTDYHMLQVRSDRRHQVCTAAAFHHSRNIIVMKQKAEWELIAGRQYAERREMTGTGAHFSGFVNKICCDYSKDDHLHGRRLANRTWRVGLMQIYLENVGLMNVWWPWDCFPSVLLLHLWIQLLIKATMCHQLAFVWNVMDCRCDVHQRSMQYWGPQWVTTREFCWDWTMPQIVMFTEDPMGAFKAFEPYCSREPPGQMQNAYQDPYTRCVTDSSYYILKQTAMCETHYSPACCSTVSWCRIPFDDNLFGPEFWKCSGRWSWQEMSWETLSEGLTPPMQGLRLQCMNMQKSNFRFSYANPNNPAELKRYQVHSVRLEGLMVWHLHMGMQGRACMLRYNNCKNMRQKQKNFTMRSFWRYGYHTTVMHCSYWPDGRPPKCIVMSKNPWSIPVTWMAHDATFELSFCKMEREIEFNLMLQLMAIDVTPRWGQQQNIRYTCQCSPWETHRCISHDQTNHGPTGGFWNWKFNQSAPCQTFQRFTYHKWCSFARIFMQCYHLLRNHKQTIGKDQHHNHMFMTVMMEQVTSADGTGSQSWNYFECRWKAYAWWSRVSLQENFAPYRFLLSGFETHLSWSWFAFRSEVCTDTYSHMYLCSIDICCNCLRFFNGCITDRYWRYKSQQECMMGDEHTPWIIDPDCNPDSGHPWQPQHGCTDRFNGPPTSHTTWCAWQFTFCCIQWQQSYHLPIQKNGQTNSMPAYEKHDQWYKYD\n",
      "\n",
      "AAAAAAAAAAAAAAAAAAAAAAAAAAAAAAAAAAAAAAAAAAAACCCCCCCCCCCCCCCCCCCCCCCCCCCCCCCCCCCCCCCCCCCCCCCCCCCCCCCCCCCCDDDDDDDDDDDDDDDDDDDDDDDDDDDDDDDDDDDDDDDDDDDDDDDEEEEEEEEEEEEEEEEEEEEEEEEEEEEEEEEEEEEEEEEEEEEEEFFFFFFFFFFFFFFFFFFFFFFFFFFFFFFFFFFFFFFFFFFFFFFFGGGGGGGGGGGGGGGGGGGGGGGGGGGGGGGGGGGGGGGGGHHHHHHHHHHHHHHHHHHHHHHHHHHHHHHHHHHHHHHHHHHHHHHHHHHHHHIIIIIIIIIIIIIIIIIIIIIIIIIIIIIIIIIIIIIIIIIIIIKKKKKKKKKKKKKKKKKKKKKKKKKKKKKKKKKKKKKKKKKKLLLLLLLLLLLLLLLLLLLLLLLLLLLLLLLLLLLLLLLLLLLLLLMMMMMMMMMMMMMMMMMMMMMMMMMMMMMMMMMMMMMMMMMMMMMMMMMMMNNNNNNNNNNNNNNNNNNNNNNNNNNNNNNNNNNNNNNNNNNNNNNNNPPPPPPPPPPPPPPPPPPPPPPPPPPPPPPPPPPPPPPPPPPPPPPPQQQQQQQQQQQQQQQQQQQQQQQQQQQQQQQQQQQQQQQQQQQQQQQQQQQQQQQQQQQQQQQRRRRRRRRRRRRRRRRRRRRRRRRRRRRRRRRRRRRRRRRRRRRRRRRRRRRRRRRRRRSSSSSSSSSSSSSSSSSSSSSSSSSSSSSSSSSSSSSSSSSSSSSSSSSSSSSSSTTTTTTTTTTTTTTTTTTTTTTTTTTTTTTTTTTTTTTTTTTTTTTTTTTTTTTTTTTTTVVVVVVVVVVVVVVVVVVVVVVVVVVVVVVVVVVVVVVVVVVWWWWWWWWWWWWWWWWWWWWWWWWWWWWWWWWWWWWWWWWWWWWWWWWWWWWWWYYYYYYYYYYYYYYYYYYYYYYYYYYYYYYYYYYYYYYYYYYYYYYYY\n",
      "\n",
      "Frequency of each residue in sequence:\t {'A': 44, 'C': 60, 'D': 47, 'E': 46, 'F': 47, 'G': 41, 'H': 53, 'I': 44, 'K': 42, 'L': 46, 'M': 51, 'N': 48, 'P': 47, 'Q': 63, 'R': 59, 'S': 55, 'T': 60, 'V': 42, 'W': 54, 'Y': 48}\n",
      "Count of mRNA codons/aa-residue:\t {'A': 4, 'C': 2, 'D': 2, 'E': 2, 'F': 2, 'G': 4, 'H': 2, 'I': 3, 'K': 2, 'L': 6, 'M': 1, 'N': 2, 'P': 4, 'Q': 2, 'R': 6, 'S': 6, 'T': 4, 'V': 4, 'W': 1, 'Y': 2}\n",
      "Frequency of potential mRNA codons in sequence:\t {'A': 309485009821345068724781056, 'C': 1152921504606846976, 'D': 140737488355328, 'E': 70368744177664, 'F': 140737488355328, 'G': 4835703278458516698824704, 'H': 9007199254740992, 'I': 984770902183611232881, 'K': 4398046511104, 'L': 623673825204293256669089197883129856, 'M': 1, 'N': 281474976710656, 'P': 19807040628566084398385987584, 'Q': 9223372036854775808, 'R': 8145612996781542914887125378962433977610141696, 'S': 6285195213566005335561053533150026217291776, 'T': 1329227995784915872903807060280344576, 'V': 19342813113834066795298816, 'W': 1, 'Y': 281474976710656, 'Stop': 3}\n",
      "\n",
      "(1 x 309485009821345068724781056) mod 1000000 = 781056\n",
      "(781056 x 1152921504606846976) mod 1000000 = 686656\n",
      "(686656 x 140737488355328) mod 1000000 = 103168\n",
      "(103168 x 70368744177664) mod 1000000 = 239552\n",
      "(239552 x 140737488355328) mod 1000000 = 533056\n",
      "(533056 x 4835703278458516698824704) mod 1000000 = 415424\n",
      "(415424 x 9007199254740992) mod 1000000 = 860608\n",
      "(860608 x 984770902183611232881) mod 1000000 = 251648\n",
      "(251648 x 4398046511104) mod 1000000 = 299392\n",
      "(299392 x 623673825204293256669089197883129856) mod 1000000 = 847552\n",
      "(847552 x 1) mod 1000000 = 847552\n",
      "(847552 x 281474976710656) mod 1000000 = 914112\n",
      "(914112 x 19807040628566084398385987584) mod 1000000 = 385408\n",
      "(385408 x 9223372036854775808) mod 1000000 = 609664\n",
      "(609664 x 8145612996781542914887125378962433977610141696) mod 1000000 = 950144\n",
      "(950144 x 6285195213566005335561053533150026217291776) mod 1000000 = 215744\n",
      "(215744 x 1329227995784915872903807060280344576) mod 1000000 = 204544\n",
      "(204544 x 19342813113834066795298816) mod 1000000 = 19904\n",
      "(19904 x 1) mod 1000000 = 19904\n",
      "(19904 x 281474976710656) mod 1000000 = 897024\n",
      "(897024 x 3) mod 1000000 = 691072\n",
      "691072\n",
      "Program execution time: 0.00879\n",
      "--------------------------------------------------\n",
      "998 residues in length\n",
      "MFIPSVDTWMQLKCDCCDHCYSPWHPKRSYHNRCHAWWYQELNAINAGPWLCFHFPCYWNYRTVATWHCQPCIIWMDSKKKLMIPAMTQKPVWIHFHCQAIKQMTRYASMPDPEWWYMCFEHKKLQLCSSEEAASEMYAHEYQMSWVECDNYSQRYEKQDMRPYVGHWDFYYKMVNLSQHEVAILIHRVSFSCGKHPKLLKIGTRYRQKLADADFNMIPEQIITTCKGDVSCTFPWFRDSQCWKMDVFDCWHCWPLPCDKRVGIPFTCSVSEMPQAFIWCAFRHASDWIGKLEQRRPMVFGKCLVLVMVHAAYEIWQLNLQCEHRVTSWVTPLCVDHHWCNMLMPGHSLIVFLETCHENFNDGNVNNQWAVTLICLKKHCELPLKWFKCLAIFNRVDQQGEWVLNLNDYENPDWMEKWGIVVWSLLELPWTDWMINDMIEVHTNNPPEVQWLHMAMKWPQKINNSITCIDMLDHNNINEEEYPAWMMWSCVCPSHCFRLSCPHPRVYTIMEFCTADEPFGLKMIGKNGFASCKKKNAFTRERSAPAPLNAQMFCQLLWQFAGVRPPGDSSHVLMAGECTLAAHIWDQRLFEPKMTHSWFLFVHMFMWIMLHPSSSGGRCNSQQSLESKDTLEKTGECSWRCHKSLYATSRYTYINEICNTGIYRVSDDSNGTSCSWPSMVLQANGCLMSIQQPAWLQGEEFYFCEWCSIKPWCLYQPISYVRWTCITYLCSSAYDEDFSTNMTFCCSANNAWPRYNYPKSRSDSAMHMPAKRNGAFANCLSCLERSNKEHRIQPDVPQVIFEKRVQNPKTGMLHDTIENGHGQGLFHWQCHHAIPWEGAMFSSLWWNTGEHKSQDLDSKMKYHGCLTRMIMFAHMQSGYNMSIQKLFACNPSFQSFWITSEGPKMHALTQGHVWRDGPMSSYQQQWPGRCWTQTLMLKWIGSPNTQQCARDWCILCFTAGVYCNATPDCPYIQEIPPNEGWGLANKRTNENWYYERAS\n",
      "\n",
      "AAAAAAAAAAAAAAAAAAAAAAAAAAAAAAAAAAAAAAAAAAAAAAAAAAAACCCCCCCCCCCCCCCCCCCCCCCCCCCCCCCCCCCCCCCCCCCCCCCCCCCCCCCCCCCCCCCDDDDDDDDDDDDDDDDDDDDDDDDDDDDDDDDDDDDDDDDDEEEEEEEEEEEEEEEEEEEEEEEEEEEEEEEEEEEEEEEEEEEEEEEEEEEFFFFFFFFFFFFFFFFFFFFFFFFFFFFFFFFFFFFFFFFFFFGGGGGGGGGGGGGGGGGGGGGGGGGGGGGGGGGGGGGGGGGGHHHHHHHHHHHHHHHHHHHHHHHHHHHHHHHHHHHHHHHHHHHHHHIIIIIIIIIIIIIIIIIIIIIIIIIIIIIIIIIIIIIIIIIIIIIIIIIKKKKKKKKKKKKKKKKKKKKKKKKKKKKKKKKKKKKKKKKKKKKKKKKKLLLLLLLLLLLLLLLLLLLLLLLLLLLLLLLLLLLLLLLLLLLLLLLLLLLLLLLLLLLLLLLLMMMMMMMMMMMMMMMMMMMMMMMMMMMMMMMMMMMMMMMMMMMMMMMMMMNNNNNNNNNNNNNNNNNNNNNNNNNNNNNNNNNNNNNNNNNNNNNNNNNNNNPPPPPPPPPPPPPPPPPPPPPPPPPPPPPPPPPPPPPPPPPPPPPPPPPPPPPPPPPPQQQQQQQQQQQQQQQQQQQQQQQQQQQQQQQQQQQQQQQQQQQQQQQQQQQRRRRRRRRRRRRRRRRRRRRRRRRRRRRRRRRRRRRRRRSSSSSSSSSSSSSSSSSSSSSSSSSSSSSSSSSSSSSSSSSSSSSSSSSSSSSSSSSSSSSSSSSSSSSTTTTTTTTTTTTTTTTTTTTTTTTTTTTTTTTTTTTTTTTTTTTVVVVVVVVVVVVVVVVVVVVVVVVVVVVVVVVVVVVVVVVVWWWWWWWWWWWWWWWWWWWWWWWWWWWWWWWWWWWWWWWWWWWWWWWWWWWWWWWWWYYYYYYYYYYYYYYYYYYYYYYYYYYYYYYYYYYYYY\n",
      "\n",
      "Frequency of each residue in sequence:\t {'A': 52, 'C': 63, 'D': 41, 'E': 51, 'F': 43, 'G': 42, 'H': 46, 'I': 49, 'K': 49, 'L': 64, 'M': 50, 'N': 52, 'P': 58, 'Q': 51, 'R': 39, 'S': 69, 'T': 44, 'V': 41, 'W': 57, 'Y': 37}\n",
      "Count of mRNA codons/aa-residue:\t {'A': 4, 'C': 2, 'D': 2, 'E': 2, 'F': 2, 'G': 4, 'H': 2, 'I': 3, 'K': 2, 'L': 6, 'M': 1, 'N': 2, 'P': 4, 'Q': 2, 'R': 6, 'S': 6, 'T': 4, 'V': 4, 'W': 1, 'Y': 2}\n",
      "Frequency of potential mRNA codons in sequence:\t {'A': 20282409603651670423947251286016, 'C': 9223372036854775808, 'D': 2199023255552, 'E': 2251799813685248, 'F': 8796093022208, 'G': 19342813113834066795298816, 'H': 70368744177664, 'I': 239299329230617529590083, 'K': 562949953421312, 'L': 63340286662973277706162286946811886609896461828096, 'M': 1, 'N': 4503599627370496, 'P': 83076749736557242056487941267521536, 'Q': 2251799813685248, 'R': 2227915756473955677973140996096, 'S': 492534069091280207443117943298409230278554887175274496, 'T': 309485009821345068724781056, 'V': 4835703278458516698824704, 'W': 1, 'Y': 137438953472, 'Stop': 3}\n",
      "\n",
      "(1 x 20282409603651670423947251286016) mod 1000000 = 286016\n",
      "(286016 x 9223372036854775808) mod 1000000 = 500928\n",
      "(500928 x 2199023255552) mod 1000000 = 152256\n",
      "(152256 x 2251799813685248) mod 1000000 = 119488\n",
      "(119488 x 8796093022208) mod 1000000 = 589504\n",
      "(589504 x 19342813113834066795298816) mod 1000000 = 227264\n",
      "(227264 x 70368744177664) mod 1000000 = 631296\n",
      "(631296 x 239299329230617529590083) mod 1000000 = 37568\n",
      "(37568 x 562949953421312) mod 1000000 = 849216\n",
      "(849216 x 63340286662973277706162286946811886609896461828096) mod 1000000 = 372736\n",
      "(372736 x 1) mod 1000000 = 372736\n",
      "(372736 x 4503599627370496) mod 1000000 = 197056\n",
      "(197056 x 83076749736557242056487941267521536) mod 1000000 = 798016\n",
      "(798016 x 2251799813685248) mod 1000000 = 867968\n",
      "(867968 x 2227915756473955677973140996096) mod 1000000 = 452928\n",
      "(452928 x 492534069091280207443117943298409230278554887175274496) mod 1000000 = 924288\n",
      "(924288 x 309485009821345068724781056) mod 1000000 = 688128\n",
      "(688128 x 4835703278458516698824704) mod 1000000 = 914112\n",
      "(914112 x 1) mod 1000000 = 914112\n",
      "(914112 x 137438953472) mod 1000000 = 196864\n",
      "(196864 x 3) mod 1000000 = 590592\n",
      "590592\n",
      "Program execution time: 0.00812\n",
      "--------------------------------------------------\n"
     ]
    }
   ],
   "source": [
    "for XX in ['01','02','03','04','05','06']:\n",
    "    starttime = time.time()\n",
    "    print(protein_mrna_combinations(sequence_from_file(datapath + \"/datasets/rosalind_mrna_attempt\"+XX+\".txt\"), \n",
    "                                    1000000,\n",
    "                                    mrna_codon_frequency_table(mrna_codon_table(std_path)),\n",
    "                                    verbose=True))\n",
    "    \n",
    "    print(\"Program execution time:\", str( round(time.time() - starttime, 5)))\n",
    "    print('-'*50)\n",
    "    del starttime"
   ]
  },
  {
   "cell_type": "code",
   "execution_count": null,
   "metadata": {},
   "outputs": [],
   "source": []
  }
 ],
 "metadata": {
  "kernelspec": {
   "display_name": "Python 3 (ipykernel)",
   "language": "python",
   "name": "python3"
  },
  "language_info": {
   "codemirror_mode": {
    "name": "ipython",
    "version": 3
   },
   "file_extension": ".py",
   "mimetype": "text/x-python",
   "name": "python",
   "nbconvert_exporter": "python",
   "pygments_lexer": "ipython3",
   "version": "3.10.13"
  }
 },
 "nbformat": 4,
 "nbformat_minor": 4
}
