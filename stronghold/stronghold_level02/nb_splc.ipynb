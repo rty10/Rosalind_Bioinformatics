{
 "cells": [
  {
   "cell_type": "markdown",
   "metadata": {},
   "source": [
    "## 'RNA Splicing'\n",
    "\n",
    "**Connections**: `PROT`, `SUBS`\n",
    "\n",
    "---"
   ]
  },
  {
   "cell_type": "markdown",
   "metadata": {},
   "source": [
    "\n",
    "**Given**: A DNA string *s* (of length at most 1 kbp) and a collection of substrings of *s* acting as introns.\n",
    "\n",
    "**Return**: A protein string resulting from transcribing and translating the exons of *s*.\n",
    "\n",
    "\n",
    "*Notes*:\n",
    "- *Input*: All strings are given in FASTA format.\n",
    "- Only one solution will exist for the dataset provided."
   ]
  },
  {
   "cell_type": "code",
   "execution_count": 1,
   "metadata": {},
   "outputs": [],
   "source": [
    "# Libraries to load:\n",
    "import os, math, random\n"
   ]
  },
  {
   "cell_type": "code",
   "execution_count": 19,
   "metadata": {},
   "outputs": [],
   "source": [
    "# Previous functions generated\n",
    "\n",
    "def fasta_dictionary(path_to_filename):\n",
    "    '''\n",
    "    Open a FASTA file and keep only the identifier and the sequence (ignoring any additional information).\n",
    "    Convert into a dictionary.\n",
    "    Output: a dictionary where the key-value pairs are sequence IDs and sequences, respectively\n",
    "    '''\n",
    "    with open(path_to_filename, 'r') as f:\n",
    "        lst  = f.readlines()\n",
    "    f.close()\n",
    "    for i in range(len(lst)):\n",
    "        if lst[i].startswith('>'):\n",
    "            lst[i] = lst[i].split(' ')[0]+'\\n'\n",
    "    lst  = [i.replace('\\n', ' ') for i in lst]\n",
    "    str1 = ''.join(lst)  \n",
    "    lst2 = str1.split('>')\n",
    "    lst2 = lst2[1:]\n",
    "    seq_dict = {lst2[i].split(' ')[0]:''.join(lst2[i].split(' ')[1:]) for i in range(len(lst2))}\n",
    "    del lst, lst2\n",
    "    return seq_dict\n",
    "\n",
    "\n",
    "def dna_rna_transcribe(dna_string: str) -> str:\n",
    "    '''\n",
    "    Load in a string of DNA nucleotides and transcribe into RNA nucleotides,\n",
    "       replacing thymine 'T' with uracil 'U'\n",
    "    Result will be a output of the transcribed RNA string text\n",
    "    '''\n",
    "    rna_string = ''\n",
    "    for i in dna_string:\n",
    "        if i!='T':\n",
    "            rna_string += i\n",
    "        else:\n",
    "            rna_string += 'U'\n",
    "    return rna_string\n",
    "\n",
    "\n",
    "def rna_prot_translate(rna_seq: str) -> str:\n",
    "    '''\n",
    "    For the RNA nucleotide string, translate into an amino acid (AA) residue string.\n",
    "    Step 1: load RNA codon table\n",
    "        Using data found at https://rosalind.info/glossary/rna-codon-table/\n",
    "        Result in a dictionary where the 3-nt RNA codon is the key and the 1-aa residue is the value \n",
    "    Step 2: begin translation \n",
    "        Make sure that is the RNA codon translate 'Stop' that one does not include 'Stop' in the residue string\n",
    "    Result: string of AA residues\n",
    "    '''\n",
    "    with open(os.getcwd() + \"/datasets/rosalind_RNA_codon_table.txt\", \"r\") as f:\n",
    "        text = f.read().replace('\\n', ' ').split()\n",
    "    codon_dict = {text[i]:text[i+1] for i in range(len(text)) if i%2==0}\n",
    "    del text\n",
    "    aa_seq = ''\n",
    "    for i in range(len(rna_seq)):\n",
    "        if (i%3 == 0):\n",
    "            codon = rna_seq[i:i+3]\n",
    "            if len(codon) == 3:\n",
    "                if codon_dict[codon] == 'Stop':\n",
    "                    break\n",
    "                else:\n",
    "                    aa_seq += codon_dict[ codon ]\n",
    "            del codon\n",
    "    del codon_dict\n",
    "    return aa_seq\n",
    "\n"
   ]
  },
  {
   "cell_type": "code",
   "execution_count": 20,
   "metadata": {},
   "outputs": [
    {
     "data": {
      "text/plain": [
       "{'Rosalind_10': 'ATGGTCTACATAGCTGACAAACAGCACGTAGCAATCGGTCGAATCTCGAGAGGCATATGGTCACATGATCGGTCGAGCGTGTTTCAAAGTTTGCGCCTAG',\n",
       " 'Rosalind_12': 'ATCGGTCGAA',\n",
       " 'Rosalind_15': 'ATCGGTCGAGCGTGT'}"
      ]
     },
     "execution_count": 20,
     "metadata": {},
     "output_type": "execute_result"
    }
   ],
   "source": [
    "seqs_dict = fasta_dictionary(os.getcwd() + '/datasets/rosalind_sample_dataset.txt')\n",
    "\n",
    "seqs_dict"
   ]
  },
  {
   "cell_type": "code",
   "execution_count": 36,
   "metadata": {},
   "outputs": [
    {
     "name": "stdout",
     "output_type": "stream",
     "text": [
      "ATGGTCTACATAGCTGACAAACAGCACGTAGCAATCGGTCGAATCTCGAGAGGCATATGGTCACATGATCGGTCGAGCGTGTTTCAAAGTTTGCGCCTAG\n",
      "AUGGUCUACAUAGCUGACAAACAGCACGUAGCAAUCGGUCGAAUCUCGAGAGGCAUAUGGUCACAUGAUCGGUCGAGCGUGUUUCAAAGUUUGCGCCUAG\n",
      "MVYIADKQHVAIGRISRGIWSHDRSSVFQSLRL\n",
      "\n"
     ]
    }
   ],
   "source": [
    "seq_names = list(seqs_dict.keys())\n",
    "dna_test1 = seqs_dict[ seq_names[0] ]\n",
    "\n",
    "rna_test1 = dna_rna_transcribe(dna_test1)\n",
    "pro_test1 = rna_prot_translate(rna_test1)\n",
    "\n",
    "print(dna_test1)\n",
    "print(rna_test1)\n",
    "print(pro_test1)\n",
    "print()\n",
    "\n",
    "del dna_test1, rna_test1, pro_test1"
   ]
  },
  {
   "cell_type": "code",
   "execution_count": 51,
   "metadata": {},
   "outputs": [],
   "source": [
    "def dna_to_protein_with_splicing(sequence_dictionary) -> str:\n",
    "    '''\n",
    "    '''\n",
    "    seq_names  = list(sequence_dictionary.keys())\n",
    "    dna_exon   = sequence_dictionary[ seq_names[0] ]\n",
    "    intron_lst = [sequence_dictionary[seq_names[i]] for i in range(1, len(seq_names))]\n",
    "    \n",
    "    for intron in intron_lst:\n",
    "        if intron in dna_exon:\n",
    "            dna_exon = ''.join(dna_exon.split(intron))\n",
    "    \n",
    "    pro_trans = rna_prot_translate(dna_rna_transcribe(dna_exon))\n",
    "    del seq_names, dna_exon, intron_lst\n",
    "    return pro_trans\n",
    "\n"
   ]
  },
  {
   "cell_type": "code",
   "execution_count": 54,
   "metadata": {},
   "outputs": [],
   "source": [
    "with open(os.getcwd() + '/answer_submissions/rosalind_sample_dataset_submission.txt', 'w') as outfile:\n",
    "    outfile.write(dna_to_protein_with_splicing( fasta_dictionary(os.getcwd() + '/datasets/rosalind_sample_dataset.txt') ) +'\\n')\n",
    "outfile.close()\n"
   ]
  },
  {
   "cell_type": "markdown",
   "metadata": {},
   "source": [
    "---\n",
    "\n",
    "### Problem Attempt:"
   ]
  },
  {
   "cell_type": "code",
   "execution_count": 55,
   "metadata": {},
   "outputs": [],
   "source": [
    "with open(os.getcwd() + '/answer_submissions/rosalind_splc_submission.txt', 'w') as outfile:\n",
    "    outfile.write(dna_to_protein_with_splicing( fasta_dictionary(os.getcwd() + '/datasets/rosalind_splc.txt') ) +'\\n')\n",
    "outfile.close()\n"
   ]
  },
  {
   "cell_type": "code",
   "execution_count": null,
   "metadata": {},
   "outputs": [],
   "source": []
  }
 ],
 "metadata": {
  "kernelspec": {
   "display_name": "Python 3 (ipykernel)",
   "language": "python",
   "name": "python3"
  },
  "language_info": {
   "codemirror_mode": {
    "name": "ipython",
    "version": 3
   },
   "file_extension": ".py",
   "mimetype": "text/x-python",
   "name": "python",
   "nbconvert_exporter": "python",
   "pygments_lexer": "ipython3",
   "version": "3.10.13"
  }
 },
 "nbformat": 4,
 "nbformat_minor": 4
}
