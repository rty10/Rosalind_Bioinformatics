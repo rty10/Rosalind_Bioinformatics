{
 "cells": [
  {
   "cell_type": "markdown",
   "metadata": {},
   "source": [
    "## 'Finding a Shared Motif'\n",
    "\n",
    "**Connections**: `SUBS`, `HAMM`\n",
    "\n",
    "---"
   ]
  },
  {
   "cell_type": "markdown",
   "metadata": {},
   "source": [
    "\n",
    "**Given**: A collection of *k* (*k*≤100) DNA strings of length at most 1 kbp each in FASTA format.\n",
    "\n",
    "**Return**: A longest common substring of the collection. (*If multiple solutions exist, you may return any single solution*)\n",
    "\n",
    "\n",
    "*Notes*:\n"
   ]
  },
  {
   "cell_type": "code",
   "execution_count": 1,
   "metadata": {},
   "outputs": [],
   "source": [
    "# Libraries to load:\n",
    "\n",
    "import random\n"
   ]
  },
  {
   "cell_type": "code",
   "execution_count": 2,
   "metadata": {},
   "outputs": [],
   "source": [
    "# Previous functions generated\n",
    "\n",
    "def fasta_dictionary(path_to_filename):\n",
    "    '''\n",
    "    A more robust function that in the `nb_gc` notebook. Here, open a FASTA file and keep only the identifier and the sequence (ignoring any additional information).\n",
    "    Convert into a dictionary.\n",
    "    Output: a dictionary where the key-value pairs are sequence IDs and sequences, respectively\n",
    "    '''\n",
    "    with open(path_to_filename, 'r') as f:\n",
    "        lst  = f.readlines()\n",
    "    f.close()\n",
    "    for i in range(len(lst)):\n",
    "        if lst[i].startswith('>'):\n",
    "            lst[i] = lst[i].split(' ')[0]+'\\n'\n",
    "    lst  = [i.replace('\\n', ' ') for i in lst]\n",
    "    str1 = ''.join(lst)  \n",
    "    lst2 = str1.split('>')\n",
    "    lst2 = lst2[1:]\n",
    "    seq_dict = {lst2[i].split(' ')[0]:''.join(lst2[i].split(' ')[1:]) for i in range(len(lst2))}\n",
    "    del lst, lst2\n",
    "    return seq_dict\n",
    "\n"
   ]
  },
  {
   "cell_type": "code",
   "execution_count": 3,
   "metadata": {},
   "outputs": [
    {
     "name": "stdout",
     "output_type": "stream",
     "text": [
      "{'Rosalind_1': 'GATTACA', 'Rosalind_2': 'TAGACCA', 'Rosalind_3': 'ATACA'}\n"
     ]
    }
   ],
   "source": [
    "seq_dict = fasta_dictionary(\"datasets/rosalind_sample_dataset.txt\")\n",
    "print(seq_dict)\n",
    "del seq_dict"
   ]
  },
  {
   "cell_type": "code",
   "execution_count": 4,
   "metadata": {},
   "outputs": [
    {
     "name": "stdout",
     "output_type": "stream",
     "text": [
      "{'Taxon1': 'CCTGCGGAAGATCGGCACTAGAATAGCCAGAACCGTTTCTCTGAGGCTTCCGGCCTTCCCTCCCACTAATAATTCTGAGGACGCAAT', 'Taxon2': 'CCATCGGTAGCGCATCCTTAGTCCAATTAAGTCCCTATCCAGGCGCTCCGCCGAAGGTCTATATCCATTTGTCAGCAGACACGCAAT', 'Taxon3': 'CCACCCTCGTGGTATGGCTAGGCATTCAGGAACCGGAGAACGCTTCAGACCAGCCCGGACTGGGAACCTGCGGGCAGTAGGTGGAAT'}\n",
      "\n",
      "Taxon1 87\n",
      "Taxon2 87\n",
      "Taxon3 87\n"
     ]
    }
   ],
   "source": [
    "seq_dict = fasta_dictionary(\"datasets/rosalind_fasta_sample.txt\")\n",
    "print(seq_dict)\n",
    "print()\n",
    "for key in seq_dict.keys():\n",
    "    print(key, len(seq_dict[key]))\n",
    "del seq_dict"
   ]
  },
  {
   "cell_type": "code",
   "execution_count": 104,
   "metadata": {},
   "outputs": [],
   "source": [
    "def common_motif_checker(path_to_fasta):\n",
    "    '''\n",
    "    Load in the path to FASTA document and generate a sequence dictionary.\n",
    "    First, determine all unique substrings found in every sequence of document, ranging in size from 2-nt to\n",
    "     a maximum length of L-1, where L is the length of that sequence.\n",
    "    Second, for each item in the unique substrings list, determine if found in every sequence in dictionary.\n",
    "    Third, determine the largest length of substing in the common substrings list, and then keep substrings with only that length.\n",
    "    Return: list of substrings of longest length\n",
    "    '''\n",
    "    seq_dict        = fasta_dictionary(path_to_fasta)\n",
    "\n",
    "    full_substrings   = []\n",
    "    for key in list(seq_dict.keys()):\n",
    "        check_list=[]\n",
    "        maxlength = len(seq_dict[key])\n",
    "        if maxlength >= 250:\n",
    "            maxlength = 250\n",
    "        for i in range(2, maxlength):\n",
    "            for j in range(0, len(seq_dict[key])):\n",
    "                substring = seq_dict[key][j:j+i]\n",
    "                if len(substring)==i:\n",
    "                    check_list.append(substring)\n",
    "                del substring\n",
    "        check_list = list(set(check_list))\n",
    "        if len(check_list) > len(full_substrings):\n",
    "            full_substrings = check_list[:]\n",
    "            std_key = key\n",
    "        del maxlength, check_list\n",
    "    print(\"All possible uniques substrings between n=2 & n=(L-1) with standard key \"+std_key+\":\", len(full_substrings))\n",
    "\n",
    "    common_substrings    = []\n",
    "    max_substring_length = 2\n",
    "    for substring in full_substrings:\n",
    "        if len(substring) >= max_substring_length:\n",
    "            counter_seqs = 1\n",
    "            for key in [K for K in list(seq_dict.keys()) if K != std_key]:\n",
    "                if substring in seq_dict[key]:\n",
    "                    counter_seqs += 1\n",
    "            if counter_seqs == (len(list(seq_dict.keys()))):\n",
    "                common_substrings.append(substring)\n",
    "                max_substring_length = len(substring)\n",
    "            del counter_seqs     \n",
    "    print(\"All possible uniques and common substrings in file:\", len(common_substrings))\n",
    "    \n",
    "    # Prune substrings list, keeping only those who share the highest substring length\n",
    "    max_substring_length = 0\n",
    "    \n",
    "    for item in common_substrings:\n",
    "        if len(item) > max_substring_length:\n",
    "            max_substring_length = len(item)  \n",
    "    common_substrings = [i for i in common_substrings\n",
    "                         if len(i) == max_substring_length]\n",
    "    print(\"All possible common substrings at maximum substring length n=\"+str(max_substring_length)+\":\", len(common_substrings))\n",
    "    \n",
    "    del max_substring_length, full_substrings, std_key\n",
    "    return common_substrings\n",
    "\n",
    "\n",
    "def rosalind_random_solution(substring_list):\n",
    "    if len(substring_list)==1:\n",
    "        return substring_list[0]\n",
    "    elif len(substring_list)>=1:\n",
    "        idx = random.randrange(len(substring_list))\n",
    "        return substring_list[idx]\n",
    "\n"
   ]
  },
  {
   "cell_type": "code",
   "execution_count": 94,
   "metadata": {},
   "outputs": [
    {
     "name": "stdout",
     "output_type": "stream",
     "text": [
      "All possible uniques substrings between n=2 & n=(L-1) with standard key Taxon2: 3614\n",
      "All possible uniques and common substrings in file: 12\n",
      "All possible common substrings at maximum substring length n=4: 5\n"
     ]
    },
    {
     "data": {
      "text/plain": [
       "['CCCT', 'ACGC', 'CAGA', 'CCAG', 'AGGC']"
      ]
     },
     "execution_count": 94,
     "metadata": {},
     "output_type": "execute_result"
    }
   ],
   "source": [
    "common_motif_checker(\"datasets/rosalind_fasta_sample.txt\")\n"
   ]
  },
  {
   "cell_type": "code",
   "execution_count": 95,
   "metadata": {},
   "outputs": [
    {
     "name": "stdout",
     "output_type": "stream",
     "text": [
      "All possible uniques substrings between n=2 & n=(L-1) with standard key Rosalind_3115: 175133\n",
      "All possible uniques and common substrings in file: 6\n",
      "All possible common substrings at maximum substring length n=73: 1\n"
     ]
    },
    {
     "data": {
      "text/plain": [
       "['TTTGCTTAGGATTCAAGTTCTATATAGGCCACTCGCCCGGCTTCCGGAGCACTTAATTCGTCTTCCGCAACCA']"
      ]
     },
     "execution_count": 95,
     "metadata": {},
     "output_type": "execute_result"
    }
   ],
   "source": [
    "common_motif_checker(\"datasets/rosalind_lcsm_attempt01b.txt\")"
   ]
  },
  {
   "cell_type": "code",
   "execution_count": 96,
   "metadata": {},
   "outputs": [
    {
     "name": "stdout",
     "output_type": "stream",
     "text": [
      "All possible uniques substrings between n=2 & n=(L-1) with standard key Taxon2: 3614\n",
      "All possible uniques and common substrings in file: 12\n",
      "All possible common substrings at maximum substring length n=4: 5\n"
     ]
    },
    {
     "data": {
      "text/plain": [
       "'CCAG'"
      ]
     },
     "execution_count": 96,
     "metadata": {},
     "output_type": "execute_result"
    }
   ],
   "source": [
    "rosalind_random_solution(common_motif_checker(\"datasets/rosalind_fasta_sample.txt\"))"
   ]
  },
  {
   "cell_type": "markdown",
   "metadata": {},
   "source": [
    "---\n",
    "\n",
    "### Problem Attempt:"
   ]
  },
  {
   "cell_type": "code",
   "execution_count": 98,
   "metadata": {},
   "outputs": [
    {
     "name": "stdout",
     "output_type": "stream",
     "text": [
      "All possible uniques substrings between n=2 & n=(L-1) with standard key Rosalind_8132: 175200\n",
      "All possible uniques and common substrings in file: 6\n",
      "All possible common substrings at maximum substring length n=73: 1\n"
     ]
    },
    {
     "data": {
      "text/plain": [
       "'TTTGCTTAGGATTCAAGTTCTATATAGGCCACTCGCCCGGCTTCCGGAGCACTTAATTCGTCTTCCGCAACCA'"
      ]
     },
     "execution_count": 98,
     "metadata": {},
     "output_type": "execute_result"
    }
   ],
   "source": [
    "rosalind_random_solution(common_motif_checker(\"datasets/rosalind_lcsm_attempt01.txt\"))"
   ]
  },
  {
   "cell_type": "code",
   "execution_count": 99,
   "metadata": {},
   "outputs": [
    {
     "name": "stdout",
     "output_type": "stream",
     "text": [
      "All possible uniques substrings between n=2 & n=(L-1) with standard key Rosalind_5678: 175213\n",
      "All possible uniques and common substrings in file: 10\n",
      "All possible common substrings at maximum substring length n=199: 1\n"
     ]
    },
    {
     "data": {
      "text/plain": [
       "'TCCCTGTCTAATCGTATTCTGGTTACGGATATAATCTGAACCGCAAAAGTCCATAATCATGTAGGCGCGCAGTTCCACCCTCTGTGCTGGTAGCATCCAGAACCATATATCAATACAACCCCTCCGCCCCCCCTGGCAAGCATAGATCCGATCCGTTTGCACGGGCGTAAGAATGGGAGCTGCTGTCCACAGTCTGTCA'"
      ]
     },
     "execution_count": 99,
     "metadata": {},
     "output_type": "execute_result"
    }
   ],
   "source": [
    "rosalind_random_solution(common_motif_checker(\"datasets/rosalind_lcsm_attempt02.txt\"))"
   ]
  },
  {
   "cell_type": "code",
   "execution_count": 100,
   "metadata": {},
   "outputs": [
    {
     "name": "stdout",
     "output_type": "stream",
     "text": [
      "All possible uniques substrings between n=2 & n=(L-1) with standard key Rosalind_0488: 175209\n",
      "All possible uniques and common substrings in file: 10\n",
      "All possible common substrings at maximum substring length n=100: 1\n"
     ]
    },
    {
     "data": {
      "text/plain": [
       "'CAATCCCCGTTGGACAAGGGGGGTGCCATTACAACATACTTGATTGACCAGGAGATCGGCCTTTGAAGATTACACATTACAATTCCATGCCTCTGACACA'"
      ]
     },
     "execution_count": 100,
     "metadata": {},
     "output_type": "execute_result"
    }
   ],
   "source": [
    "rosalind_random_solution(common_motif_checker(\"datasets/rosalind_lcsm_attempt03.txt\"))"
   ]
  },
  {
   "cell_type": "code",
   "execution_count": 101,
   "metadata": {},
   "outputs": [
    {
     "name": "stdout",
     "output_type": "stream",
     "text": [
      "All possible uniques substrings between n=2 & n=(L-1) with standard key Rosalind_3727: 175188\n",
      "All possible uniques and common substrings in file: 8\n",
      "All possible common substrings at maximum substring length n=167: 1\n"
     ]
    },
    {
     "data": {
      "text/plain": [
       "'GTGATGGTGAAGCTATGCAAGCTTCAGAGCTAGTTTACATCGCCTTTCTAACACGGTAGCAAATGGCGTTAAGTCTGGTCTTCGTCCGCCGCGCGAGAATGGGTGACTGAGATATACGCTGGAGGAGCGTTGAACATGTCCGACCCCGACTTTATAAAGGCGTCTTC'"
      ]
     },
     "execution_count": 101,
     "metadata": {},
     "output_type": "execute_result"
    }
   ],
   "source": [
    "rosalind_random_solution(common_motif_checker(\"datasets/rosalind_lcsm_attempt04.txt\"))"
   ]
  },
  {
   "cell_type": "code",
   "execution_count": 105,
   "metadata": {},
   "outputs": [
    {
     "name": "stdout",
     "output_type": "stream",
     "text": [
      "All possible uniques substrings between n=2 & n=(L-1) with standard key Rosalind_2235: 213994\n",
      "All possible uniques and common substrings in file: 10\n",
      "All possible common substrings at maximum substring length n=210: 1\n",
      "['GTAATGCGCGAACGCGCTGTTCCAGAAGATTTAGAGAGAAGGCCATGCGTTAGAGTTCTTGGAGGAGTTCCAAGGCAGGCTCTGGTAGATAGCCAGACCCACCCCTCCCTGTTATACATACATTGCTGTTGCCAAGCTAACAAAGTATCCCTCCTTCTACATCACGCGCTAGATTCACGATTCGTAAAAGTGGTATCCTTGAAAAATCAG']\n"
     ]
    }
   ],
   "source": [
    "lst = common_motif_checker(\"datasets/rosalind_lcsm.txt\")\n",
    "\n",
    "print(lst)"
   ]
  },
  {
   "cell_type": "code",
   "execution_count": 106,
   "metadata": {},
   "outputs": [
    {
     "data": {
      "text/plain": [
       "'GTAATGCGCGAACGCGCTGTTCCAGAAGATTTAGAGAGAAGGCCATGCGTTAGAGTTCTTGGAGGAGTTCCAAGGCAGGCTCTGGTAGATAGCCAGACCCACCCCTCCCTGTTATACATACATTGCTGTTGCCAAGCTAACAAAGTATCCCTCCTTCTACATCACGCGCTAGATTCACGATTCGTAAAAGTGGTATCCTTGAAAAATCAG'"
      ]
     },
     "execution_count": 106,
     "metadata": {},
     "output_type": "execute_result"
    }
   ],
   "source": [
    "rosalind_random_solution(lst)\n"
   ]
  },
  {
   "cell_type": "code",
   "execution_count": 107,
   "metadata": {},
   "outputs": [],
   "source": [
    "del lst"
   ]
  },
  {
   "cell_type": "code",
   "execution_count": null,
   "metadata": {},
   "outputs": [],
   "source": []
  }
 ],
 "metadata": {
  "kernelspec": {
   "display_name": "Python 3 (ipykernel)",
   "language": "python",
   "name": "python3"
  },
  "language_info": {
   "codemirror_mode": {
    "name": "ipython",
    "version": 3
   },
   "file_extension": ".py",
   "mimetype": "text/x-python",
   "name": "python",
   "nbconvert_exporter": "python",
   "pygments_lexer": "ipython3",
   "version": "3.10.13"
  }
 },
 "nbformat": 4,
 "nbformat_minor": 4
}
