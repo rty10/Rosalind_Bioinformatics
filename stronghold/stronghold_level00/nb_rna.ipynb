{
 "cells": [
  {
   "cell_type": "markdown",
   "metadata": {},
   "source": [
    "## 'Transcribing DNA into RNA'\n",
    "\n",
    "**Given**: A DNA string *t* having length at most 1000 nt.\n",
    "\n",
    "**Return**: The transcribed RNA string of *t*.\n"
   ]
  },
  {
   "cell_type": "code",
   "execution_count": 1,
   "metadata": {},
   "outputs": [],
   "source": [
    "import os\n"
   ]
  },
  {
   "cell_type": "code",
   "execution_count": 7,
   "metadata": {},
   "outputs": [],
   "source": [
    "def dna_rna_transcribe(dna_string: str) -> str:\n",
    "    '''\n",
    "    Load in a string of DNA nucleotides and transcribe into RNA nucleotides,\n",
    "       replacing thymine 'T' with uracil 'U'\n",
    "    Result will be a output of the transcribed RNA string text\n",
    "    '''\n",
    "    return ''.join( [i for i in dna_string] ).replace('T','U')\n",
    "\n"
   ]
  },
  {
   "cell_type": "code",
   "execution_count": 12,
   "metadata": {},
   "outputs": [
    {
     "name": "stdout",
     "output_type": "stream",
     "text": [
      "GATGGAACTTGACTACGTAAATT\n",
      "GAUGGAACUUGACUACGUAAAUU\n"
     ]
    }
   ],
   "source": [
    "sample = 'GATGGAACTTGACTACGTAAATT'\n",
    "\n",
    "print(sample)\n",
    "print(dna_rna_transcribe(sample))\n",
    "\n",
    "del sample"
   ]
  },
  {
   "cell_type": "code",
   "execution_count": 11,
   "metadata": {},
   "outputs": [
    {
     "name": "stdout",
     "output_type": "stream",
     "text": [
      "GATGGAACTTGACTACGTAAATT\n",
      "GAUGGAACUUGACUACGUAAAUU\n"
     ]
    }
   ],
   "source": [
    "with open( os.getcwd() +'/datasets/rosalind_sample_dataset_rna.txt', 'r') as infile:\n",
    "    data = infile.read().rstrip('\\n')\n",
    "\n",
    "print(data)\n",
    "print(dna_rna_transcribe(data))\n",
    "\n",
    "del data\n"
   ]
  },
  {
   "cell_type": "markdown",
   "metadata": {},
   "source": [
    "---"
   ]
  },
  {
   "cell_type": "code",
   "execution_count": 13,
   "metadata": {},
   "outputs": [
    {
     "name": "stdout",
     "output_type": "stream",
     "text": [
      "UCUUACGUUGACUGCUUCGUGAUCGGGACCCUAACUUCCCCAUUUGCACCUGACGAGCAGCUGCUUACCGCCUCUGCAUAUAUUAAGCUUAAACAACGUUGAGCUACCAAUUCUCCCACGCUUGCGUCCGAGGAAGAUUGGUUCGCUGGACCAGGCCUUGGUAUGCGUUAUGCAAGAUCGCUAUGUGGGAGCAACGGACUCUAGUCGGGAUGAUACCUCCUCUGUUCAGAUGGCUGUAACUCAGCUCACCGUCCCGCAGGGUGCUGGGUUCCGAUGGUGCGUCGCUGAGUUCCACAUGGUACAGGCUGACACUUAACACCCCGAGAUCUUCCGCUUCGGUCCCCUCAAAGGGAGAUCAUAAUGGCUGAUUCGCUCAGAGCGCCAUACACCACCGAGCAAACGUUCCCUUAGACGGCCACCACGUGCGUUAACGAUGAGUACCAAGAGCACUCUAUACUCAGGGAUAAUUUCUUAGUGUAGAGGACCUUCUGAGCACAUGCCACGGGAGAAUUCCGCCGUUGCUCACGUAUACGACCAUUAACCGAGAGCGCCCAACAGUUCGCACGUAUAAACUCUUCGUACCUCUGUGGAAAGUAACAUUAACUCCAACGUUUGAAGUCGCGAAUCGAUCGAUACGUAAUCUUCCUAUCCCUGGGGUGCUGGCACUCACAUAUUUGCUGAACCAAUGGUUCAGCAUCGGGACAGCGAGCCCCUCCCCUGCGGAACCGCCAAGCGUCCGGAAAGACCCACGGCUUACGGAGGCAGUGUUUGAACGCAUCGUCAAGAAUGGUGUGAGACUCAUCACUUCCCGCGUAGUGCCCGUAAGAUCGGCCCCGUGUAUCAACGGUAUAUUAGAUAAACUACCUAUGGUUAGUUGAAUUGGGACACUAAAGCGAGGAAUACCUAUGCAUUUUAUGUCGGCUUGUAACUCUUUCGGCAAAGACCCUGCUGAGUUA\n",
      "\n"
     ]
    }
   ],
   "source": [
    "infile = open(os.getcwd() + '/datasets/rosalind_rna.txt')\n",
    "text = infile.readline()\n",
    "infile.close()\n",
    "\n",
    "print(dna_rna_transcribe(text))\n",
    "\n",
    "del text"
   ]
  },
  {
   "cell_type": "code",
   "execution_count": null,
   "metadata": {},
   "outputs": [],
   "source": []
  }
 ],
 "metadata": {
  "kernelspec": {
   "display_name": "Python 3 (ipykernel)",
   "language": "python",
   "name": "python3"
  },
  "language_info": {
   "codemirror_mode": {
    "name": "ipython",
    "version": 3
   },
   "file_extension": ".py",
   "mimetype": "text/x-python",
   "name": "python",
   "nbconvert_exporter": "python",
   "pygments_lexer": "ipython3",
   "version": "3.10.13"
  }
 },
 "nbformat": 4,
 "nbformat_minor": 4
}
