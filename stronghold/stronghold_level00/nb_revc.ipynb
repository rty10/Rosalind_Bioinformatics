{
 "cells": [
  {
   "cell_type": "markdown",
   "metadata": {},
   "source": [
    "## 'Complementing a Strand of DNA'\n",
    "\n",
    "**Given**: A DNA string *s* of length at most 1000 bp.\n",
    "\n",
    "**Return**: The reverse complement $s^c$ of *s*\n"
   ]
  },
  {
   "cell_type": "code",
   "execution_count": 1,
   "metadata": {},
   "outputs": [],
   "source": [
    "import os\n"
   ]
  },
  {
   "cell_type": "code",
   "execution_count": 1,
   "metadata": {},
   "outputs": [],
   "source": [
    "sample = 'AAAACCCGGT'"
   ]
  },
  {
   "cell_type": "code",
   "execution_count": 5,
   "metadata": {},
   "outputs": [],
   "source": [
    "def dna_complement(string: str) -> str:\n",
    "    '''\n",
    "    Load in string text of DNA nucleotides ('coding strand').\n",
    "    Return a string of complementary bases ('complementary strand').\n",
    "    The string text is read 5` to 3`, so the complement will also be 5`-3`.\n",
    "    Notes: \n",
    "       A-T, T-A, C-G, and G-C\n",
    "    '''\n",
    "    nt_dict = {'A':'T', 'T':'A', 'G':'C', 'C':'G'}\n",
    "    return ''.join( [nt_dict[i] for i in string] )\n",
    "\n"
   ]
  },
  {
   "cell_type": "code",
   "execution_count": 8,
   "metadata": {},
   "outputs": [
    {
     "name": "stdout",
     "output_type": "stream",
     "text": [
      "AAAACCCGGT\n",
      "TTTTGGGCCA\n"
     ]
    }
   ],
   "source": [
    "sample = 'AAAACCCGGT'\n",
    "\n",
    "print(sample)\n",
    "\n",
    "print(dna_complement(sample))\n",
    "\n",
    "del sample"
   ]
  },
  {
   "cell_type": "code",
   "execution_count": 10,
   "metadata": {},
   "outputs": [
    {
     "name": "stdout",
     "output_type": "stream",
     "text": [
      "AAAACCCGGT\n",
      "TTTTGGGCCA\n"
     ]
    }
   ],
   "source": [
    "with open( os.getcwd() +'/datasets/rosalind_sample_dataset_revc.txt', 'r') as infile:\n",
    "    data = infile.read().rstrip('\\n')\n",
    "\n",
    "print(data)\n",
    "print(dna_complement(data))\n",
    "\n",
    "del data"
   ]
  },
  {
   "cell_type": "markdown",
   "metadata": {},
   "source": [
    "---"
   ]
  },
  {
   "cell_type": "code",
   "execution_count": 12,
   "metadata": {},
   "outputs": [
    {
     "name": "stdout",
     "output_type": "stream",
     "text": [
      "ATATGTGGTACCGCAGACCTCCGGCGTAGACAAACAGGATCGCGAAGTAGCATGCCTCCGGAGAGCCACCCTCTTACATGTTCGATATTCCGTACTACTGTGTAGAGGGGAATGACACCATAATTAAAACACGTCTGTTTCTCTAGAGGTCCCTTAACCGTTGTTGACGTACATATTGAACATGCCATTAACTATAGCCTAGAATTCCCCGCGTGAGCTCCGCCTTTGTTGCGTAGTTACATCCTGAAGTTTCACTGAGTGTTTATGTACGAGGAGTCCGTTCAGGGCTCTGACACTACCCATGGAACGCGGAGCTAATTTCCTATGCTGGAATCGGCGAATTTTCTCGATGTGTGCGCCGAGTCCCGATGCCCCCAGCCTGAGCGAGCACTAATTCCAACTCAGCGGCCGCCATACATCCTCGGACAAGCGCGTCATATCTATATCCCCTGACCGCATTGTCAGGCAGCCAGAAGCCGCCCAGGTCTTTTGAGTTGGTCCTGATAGTCTGACAATCGTTGCATAGTTCTGGTCTCTGCCTGGTTTAGACCCTATACAATTGTAAGTGAGACACCATCCAACATGGTTAGTCAGCTTGACTCTGGAGCGGGACTATAACCCCCGTTGTGTGCGCCCCCATTCTAGCTCAGGCACTTTTCAAAACGCTCACAAGGTCTTCGGGCGAGTCAGATTCTCATCCTCAGTCAGCCTACCGAACTTTTTGGAGGATTTCGGGATGCTGCCTTACCTTGTAGTTCTCATCCAGTAACTTGGCGCGAGCTCGACGTGAGTAGATCCAATGTCAGGTCGAATCTTAAAGTAAAAGACAGGACGCGAAGTACCATAGAGGCTCGACTCAAAGTGTGTTGCTAGTGGGTTCGAGTAATGATGGCGTCTGAGCCAGCAGGGTTAGGCATGAGAGTAGGATCATAAAGTGTAGATGCACAAAATTACACAAGAACGACGTAGGGTAAAGTAGACG\n"
     ]
    }
   ],
   "source": [
    "with open(os.getcwd() + '/datasets/rosalind_revc.txt') as infile:\n",
    "    text = infile.read().rstrip('\\n')\n",
    "\n",
    "print(dna_complement(text))\n",
    "\n",
    "del text\n"
   ]
  },
  {
   "cell_type": "code",
   "execution_count": null,
   "metadata": {},
   "outputs": [],
   "source": []
  }
 ],
 "metadata": {
  "kernelspec": {
   "display_name": "Python 3 (ipykernel)",
   "language": "python",
   "name": "python3"
  },
  "language_info": {
   "codemirror_mode": {
    "name": "ipython",
    "version": 3
   },
   "file_extension": ".py",
   "mimetype": "text/x-python",
   "name": "python",
   "nbconvert_exporter": "python",
   "pygments_lexer": "ipython3",
   "version": "3.10.13"
  }
 },
 "nbformat": 4,
 "nbformat_minor": 4
}
