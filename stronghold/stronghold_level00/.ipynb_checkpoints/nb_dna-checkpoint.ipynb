{
 "cells": [
  {
   "cell_type": "markdown",
   "metadata": {},
   "source": [
    "## 'Counting DNA Nucleotides'\n",
    "\n",
    "**Given**: A DNA string *s* of length at most 1000 nt.\n",
    "\n",
    "**Return**: Four integers (separated by spaces) counting the respective number of times that the symbols 'A', 'C', 'G', and 'T' occur in *s*."
   ]
  },
  {
   "cell_type": "code",
   "execution_count": 1,
   "metadata": {},
   "outputs": [],
   "source": [
    "import os\n"
   ]
  },
  {
   "cell_type": "code",
   "execution_count": 2,
   "metadata": {},
   "outputs": [
    {
     "name": "stdout",
     "output_type": "stream",
     "text": [
      "20 12 17 12\n"
     ]
    }
   ],
   "source": [
    "sample = 'AGCTTTTCATTCTGACTGCAACGGGCAATATGTCTCTGTGTGGATTAAAAAAAGAGTGTCTGATAGCAGC'\n",
    "\n",
    "a, t, g, c = 0,0,0,0\n",
    "\n",
    "for i in sample:\n",
    "    if i == 'A':\n",
    "        a+=1\n",
    "    elif i == 'C':\n",
    "        c+=1\n",
    "    elif i == 'G':\n",
    "        g+=1\n",
    "    elif i == 'T':\n",
    "        t+=1\n",
    "\n",
    "print(a, c, g, c)\n",
    "\n",
    "del a, c, g, t, sample"
   ]
  },
  {
   "cell_type": "code",
   "execution_count": 3,
   "metadata": {},
   "outputs": [],
   "source": [
    "def dna_nt_count(string: str):\n",
    "    '''\n",
    "    Load in a string of DNA nucleotides and counts the number of A, C, G, and T bases.\n",
    "    Returns a TUPLE of order ('A', 'C', 'G', 'T')\n",
    "    '''\n",
    "    a, t, g, c = 0,0,0,0\n",
    "    for i in string:\n",
    "        if i == 'A':\n",
    "            a+=1\n",
    "        elif i == 'C':\n",
    "            c+=1\n",
    "        elif i == 'G':\n",
    "            g+=1\n",
    "        elif i == 'T':\n",
    "            t+=1\n",
    "    return (a, c, g, t)\n",
    "\n"
   ]
  },
  {
   "cell_type": "code",
   "execution_count": 4,
   "metadata": {},
   "outputs": [
    {
     "data": {
      "text/plain": [
       "(20, 12, 17, 21)"
      ]
     },
     "execution_count": 4,
     "metadata": {},
     "output_type": "execute_result"
    }
   ],
   "source": [
    "with open( os.getcwd() +'/datasets/rosalind_sample_dataset_dna.txt', 'r') as infile:\n",
    "    data = infile.read().rstrip('\\n')\n",
    "\n",
    "dna_nt_count(data)"
   ]
  },
  {
   "cell_type": "code",
   "execution_count": 5,
   "metadata": {},
   "outputs": [],
   "source": [
    "del data"
   ]
  },
  {
   "cell_type": "markdown",
   "metadata": {},
   "source": [
    "----"
   ]
  },
  {
   "cell_type": "markdown",
   "metadata": {},
   "source": [
    "### Problem Attempt"
   ]
  },
  {
   "cell_type": "code",
   "execution_count": 6,
   "metadata": {},
   "outputs": [
    {
     "name": "stdout",
     "output_type": "stream",
     "text": [
      "249 230 215 230\n"
     ]
    }
   ],
   "source": [
    "infile = open(os.getcwd() + '/datasets/rosalind_dna.txt')\n",
    "text   = infile.readline()\n",
    "infile.close()\n",
    "\n",
    "print( ' '.join( (str(i) for i in dna_nt_count(text)) ) )\n",
    "\n",
    "del text"
   ]
  },
  {
   "cell_type": "code",
   "execution_count": null,
   "metadata": {},
   "outputs": [],
   "source": []
  }
 ],
 "metadata": {
  "kernelspec": {
   "display_name": "Python 3 (ipykernel)",
   "language": "python",
   "name": "python3"
  },
  "language_info": {
   "codemirror_mode": {
    "name": "ipython",
    "version": 3
   },
   "file_extension": ".py",
   "mimetype": "text/x-python",
   "name": "python",
   "nbconvert_exporter": "python",
   "pygments_lexer": "ipython3",
   "version": "3.10.13"
  }
 },
 "nbformat": 4,
 "nbformat_minor": 4
}
