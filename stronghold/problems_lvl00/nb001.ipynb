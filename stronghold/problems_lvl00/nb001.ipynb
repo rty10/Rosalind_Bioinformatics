{
 "cells": [
  {
   "cell_type": "markdown",
   "metadata": {},
   "source": [
    "## 'Counting DNA Nucleotides'\n",
    "\n",
    "Given: A DNA string *s* of length at most 1000 nt.\n",
    "\n",
    "Return: Four integers (separated by spaces) counting the respective number of times that the symbols 'A', 'C', 'G', and 'T' occur in *s*."
   ]
  },
  {
   "cell_type": "code",
   "execution_count": 1,
   "metadata": {},
   "outputs": [],
   "source": [
    "sample = 'AGCTTTTCATTCTGACTGCAACGGGCAATATGTCTCTGTGTGGATTAAAAAAAGAGTGTCTGATAGCAGC'"
   ]
  },
  {
   "cell_type": "code",
   "execution_count": 3,
   "metadata": {},
   "outputs": [
    {
     "name": "stdout",
     "output_type": "stream",
     "text": [
      "20 12 17 12\n"
     ]
    }
   ],
   "source": [
    "a, t, g, c = 0,0,0,0\n",
    "\n",
    "for i in sample:\n",
    "    if i == 'A':\n",
    "        a+=1\n",
    "    elif i == 'C':\n",
    "        c+=1\n",
    "    elif i == 'G':\n",
    "        g+=1\n",
    "    elif i == 'T':\n",
    "        t+=1\n",
    "\n",
    "print(a, c, g, c)\n",
    "\n",
    "del a, c, g, t"
   ]
  },
  {
   "cell_type": "markdown",
   "metadata": {},
   "source": [
    "---"
   ]
  },
  {
   "cell_type": "code",
   "execution_count": 9,
   "metadata": {},
   "outputs": [
    {
     "name": "stdout",
     "output_type": "stream",
     "text": [
      "249 230 215 230\n"
     ]
    }
   ],
   "source": [
    "def print_nt_count(string):\n",
    "    '''\n",
    "    Load in a string of DNA nucleotides and print the number of A, C, G, and T base\n",
    "    '''\n",
    "    a, t, g, c = 0,0,0,0\n",
    "    for i in string:\n",
    "        if i == 'A':\n",
    "            a+=1\n",
    "        elif i == 'C':\n",
    "            c+=1\n",
    "        elif i == 'G':\n",
    "            g+=1\n",
    "        elif i == 'T':\n",
    "            t+=1\n",
    "    print(a, c, g, t)\n",
    "\n",
    "infile = open('datasets/rosalind_dna.txt')\n",
    "text = infile.readline()\n",
    "infile.close()\n",
    "print_nt_count(text)\n",
    "del text"
   ]
  },
  {
   "cell_type": "markdown",
   "metadata": {},
   "source": []
  }
 ],
 "metadata": {
  "kernelspec": {
   "display_name": "dnalab",
   "language": "python",
   "name": "python3"
  },
  "language_info": {
   "codemirror_mode": {
    "name": "ipython",
    "version": 3
   },
   "file_extension": ".py",
   "mimetype": "text/x-python",
   "name": "python",
   "nbconvert_exporter": "python",
   "pygments_lexer": "ipython3",
   "version": "3.10.9"
  }
 },
 "nbformat": 4,
 "nbformat_minor": 2
}
