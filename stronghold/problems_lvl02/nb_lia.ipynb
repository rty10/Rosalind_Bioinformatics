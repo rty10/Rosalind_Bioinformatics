{
 "cells": [
  {
   "cell_type": "markdown",
   "metadata": {},
   "source": [
    "## 'Independent Alleles'\n",
    "\n",
    "**Connections**: `IPRB`\n",
    "\n",
    "---"
   ]
  },
  {
   "cell_type": "markdown",
   "metadata": {},
   "source": [
    "\n",
    "**Given**: Two positive integers *k* (*k*≤7) and *N* (*N*≤2k). \n",
    "In this problem, we begin with Tom, who in the *0*-th generation has genotype AaBb. Tom has two children in the *1*-st generation, each of whom has two children, and so on. Each organism always mates with an organism having genotype AaBb.\n",
    "\n",
    "**Return**: The probability that at least *N* AaBb organisms will belong to the *k*-th generation of Tom's family tree (don't count the AaBb mates at each level). \n",
    "*Assume that Mendel's second law holds for the factors.*\n",
    "\n",
    "\n",
    "*Notes*:\n"
   ]
  },
  {
   "cell_type": "code",
   "execution_count": 28,
   "metadata": {},
   "outputs": [],
   "source": [
    "# Libraries to load:\n",
    "import math"
   ]
  },
  {
   "cell_type": "code",
   "execution_count": 42,
   "metadata": {},
   "outputs": [],
   "source": [
    "def dict_M2L(k:int):\n",
    "    '''\n",
    "    Generate a dictionary of counts.\n",
    "    '''\n",
    "    par_00           = 'AaBb'\n",
    "    par_00a, par_00b = par_00[0:2],par_00[2:]\n",
    "    \n",
    "    new_parent   = 'AaBb'\n",
    "    parna, parnb = new_parent[0:2],new_parent[2:]\n",
    "    \n",
    "    lst = [a+b+c+d \n",
    "           for a in par_00a \n",
    "           for b in parna \n",
    "           for c in par_00b \n",
    "           for d in parnb]\n",
    "\n",
    "    gen_cts = {r+s+t+u:0 \n",
    "               for r in par_00a \n",
    "               for s in parna \n",
    "               for t in par_00b \n",
    "               for u in parnb}\n",
    "    \n",
    "    val, counter = k, 1\n",
    "    if val == 1:\n",
    "        for item in lst:\n",
    "            if item in gen_cts.keys():\n",
    "                gen_cts[item] += 1\n",
    "    while counter < val:\n",
    "        for i in lst:\n",
    "            parfa, parfb = i[0:2],i[2:]\n",
    "            new_lst = [a+b+c+d \n",
    "                       for a in parfa \n",
    "                       for b in parna \n",
    "                       for c in parfb \n",
    "                       for d in parnb]\n",
    "            for item in new_lst:\n",
    "                if item in gen_cts.keys():\n",
    "                    gen_cts[item] += 1\n",
    "            del parfa, parfb, new_lst\n",
    "        counter += 1\n",
    "    del val, counter\n",
    "    return gen_cts\n",
    "\n",
    "\n",
    "def evaluate_genotypes(ct_dict):\n",
    "    '''\n",
    "    For loaded dictionary, determine number of AaBb.\n",
    "    Output: a tuple of (prob of genotype, prob of not genotype)\n",
    "    '''\n",
    "    counter = 0\n",
    "    full_counter = 0\n",
    "    \n",
    "    for key in ct_dict.keys():\n",
    "        full_counter += ct_dict[key]\n",
    "        if (key[0]!=key[1]) and (key[2]!=key[3]):\n",
    "            counter += ct_dict[key]\n",
    "    \n",
    "    return (counter/full_counter, 1-counter/full_counter)\n",
    "\n",
    "\n",
    "def generational_genotypes(probability_tuple, number_of_generations: int, number_of_likelihood: int) -> float:\n",
    "    '''\n",
    "    Load in a 2-tuple of probabilities and the number of generations if every generation results in 2 offspring/parent.\n",
    "    Output: likelihood\n",
    "    '''\n",
    "    prob_y, prob_n = probability_tuple\n",
    "    total_sum = 0\n",
    "    for k in range((2**number_of_generations+1)-number_of_likelihood):\n",
    "        n = (2**number_of_generations)-k\n",
    "        m = (2**number_of_generations) - ((2**number_of_generations)-k)\n",
    "        combin = (math.factorial(2**number_of_generations)/(math.factorial(n)*math.factorial(m)))\n",
    "        total_sum += combin * (prob_y)**(n) * (prob_n)**(m)\n",
    "        del n, m, combin\n",
    "    return total_sum\n",
    "\n"
   ]
  },
  {
   "cell_type": "code",
   "execution_count": 46,
   "metadata": {},
   "outputs": [
    {
     "name": "stdout",
     "output_type": "stream",
     "text": [
      "0.4375\n",
      "\n",
      "0.68359375\n",
      "\n",
      "0.8998870849609375\n",
      "\n"
     ]
    }
   ],
   "source": [
    "for i in range(1, 4):\n",
    "\n",
    "    test_dict = dict_M2L(i)\n",
    "    test_tup  = evaluate_genotypes(test_dict)\n",
    "    #print(i)\n",
    "    #print(test_dict)\n",
    "    #print(test_tup)\n",
    "    print(generational_genotypes(test_tup, i, 1))\n",
    "    print()\n",
    "    del test_dict, test_tup\n"
   ]
  },
  {
   "cell_type": "code",
   "execution_count": 53,
   "metadata": {
    "collapsed": true,
    "jupyter": {
     "outputs_hidden": true
    },
    "scrolled": true
   },
   "outputs": [
    {
     "name": "stdout",
     "output_type": "stream",
     "text": [
      "0.68359375\n"
     ]
    }
   ],
   "source": [
    "with open('datasets/rosalind_sample_dataset.txt', 'r') as infile:\n",
    "    data = infile.read().rstrip('\\n').split()\n",
    "    data = [int(item) for item in data]\n",
    "infile.close()\n",
    "\n",
    "probability_dictionary = dict_M2L(int(data[0]))\n",
    "probability_tuple      = evaluate_genotypes(probability_dictionary)\n",
    "\n",
    "print(generational_genotypes(probability_tuple,\n",
    "                             data[0],\n",
    "                             data[1]))\n",
    "\n",
    "del data, probability_dictionary, probability_tuple\n"
   ]
  },
  {
   "cell_type": "markdown",
   "metadata": {},
   "source": [
    "---\n",
    "\n",
    "### Problem Attempt:"
   ]
  },
  {
   "cell_type": "code",
   "execution_count": 55,
   "metadata": {},
   "outputs": [
    {
     "name": "stdout",
     "output_type": "stream",
     "text": [
      "0.232\n"
     ]
    }
   ],
   "source": [
    "with open('datasets/rosalind_lia.txt', 'r') as infile:\n",
    "    data = infile.read().rstrip('\\n').split()\n",
    "    data = [int(item) for item in data]\n",
    "infile.close()\n",
    "\n",
    "probability_dictionary = dict_M2L(int(data[0]))\n",
    "probability_tuple      = evaluate_genotypes(probability_dictionary)\n",
    "\n",
    "print(round(generational_genotypes(probability_tuple,\n",
    "                             data[0],\n",
    "                             data[1]), 3))\n",
    "\n",
    "del data, probability_dictionary, probability_tuple\n"
   ]
  },
  {
   "cell_type": "code",
   "execution_count": null,
   "metadata": {},
   "outputs": [],
   "source": []
  },
  {
   "cell_type": "code",
   "execution_count": null,
   "metadata": {},
   "outputs": [],
   "source": []
  }
 ],
 "metadata": {
  "kernelspec": {
   "display_name": "Python 3 (ipykernel)",
   "language": "python",
   "name": "python3"
  },
  "language_info": {
   "codemirror_mode": {
    "name": "ipython",
    "version": 3
   },
   "file_extension": ".py",
   "mimetype": "text/x-python",
   "name": "python",
   "nbconvert_exporter": "python",
   "pygments_lexer": "ipython3",
   "version": "3.10.13"
  }
 },
 "nbformat": 4,
 "nbformat_minor": 4
}
