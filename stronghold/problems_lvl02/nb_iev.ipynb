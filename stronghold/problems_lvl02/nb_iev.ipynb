{
 "cells": [
  {
   "cell_type": "markdown",
   "metadata": {},
   "source": [
    "## 'Calculating Expected Offspring'\n",
    "\n",
    "**Connections**: `IPRB`\n",
    "\n",
    "---"
   ]
  },
  {
   "cell_type": "markdown",
   "metadata": {},
   "source": [
    "\n",
    "**Given**: Six nonnegative integers, each of which does not exceed 20,000. The integers correspond to the number of couples in a population possessing each genotype pairing for a given factor. In order, the six given integers represent the number of couples having the following genotypes:\n",
    "\n",
    "- AA-AA\n",
    "- AA-Aa\n",
    "- AA-aa\n",
    "- Aa-Aa\n",
    "- Aa-aa\n",
    "- aa-aa\n",
    "\n",
    "**Return**: The expected number of offspring displaying the dominant phenotype in the next generation, under the assumption that every couple has exactly two offspring.\n",
    "\n",
    "*Notes*:\n"
   ]
  },
  {
   "cell_type": "code",
   "execution_count": 19,
   "metadata": {},
   "outputs": [],
   "source": [
    "# Libraries to load\n",
    "\n",
    "import numpy as np\n"
   ]
  },
  {
   "cell_type": "code",
   "execution_count": 24,
   "metadata": {},
   "outputs": [],
   "source": [
    "def progeny_distribution_matrix():\n",
    "    '''\n",
    "    3x6 matrix with rows as either DD, Dd, or dd for progeny, and columns the six parental pairs:\n",
    "            _DD-DD_|_DD-Dd_|_DD-dd_|_Dd-Dd_|_Dd-dd_|_dd-dd_|\n",
    "        DD |       |       |       |       |       |       |\n",
    "        Dd |       |       |       |       |       |       |\n",
    "        dd |       |       |       |       |       |       |\n",
    "           -------------------------------------------------\n",
    "    '''\n",
    "    return np.array([\n",
    "        [1.00, 0.50, 0.00, 0.25, 0.00, 0.00],\n",
    "        [0.00, 0.50, 1.00, 0.50, 0.50, 0.00],\n",
    "        [0.00, 0.00, 0.00, 0.25, 0.50, 1.00]\n",
    "    ])\n",
    "\n",
    "\n",
    "def progeny_genotype_distribution(parent_list, pgmatrix):\n",
    "    '''\n",
    "    text\n",
    "    '''\n",
    "    return np.matmul(pgmatrix, 2*np.transpose(np.array(parent_list)))\n",
    "\n",
    "    "
   ]
  },
  {
   "cell_type": "code",
   "execution_count": 25,
   "metadata": {},
   "outputs": [
    {
     "data": {
      "text/plain": [
       "array([2.5, 1. , 2.5])"
      ]
     },
     "execution_count": 25,
     "metadata": {},
     "output_type": "execute_result"
    }
   ],
   "source": [
    "progeny_genotype_distribution([1, 0, 0, 1, 0, 1], \n",
    "                              progeny_distribution_matrix())\n"
   ]
  },
  {
   "cell_type": "code",
   "execution_count": 26,
   "metadata": {},
   "outputs": [
    {
     "data": {
      "text/plain": [
       "array([ 7.5, 11. ,  9.5])"
      ]
     },
     "execution_count": 26,
     "metadata": {},
     "output_type": "execute_result"
    }
   ],
   "source": [
    "progeny_genotype_distribution([2, 3, 1, 1, 5, 2], \n",
    "                              progeny_distribution_matrix())\n"
   ]
  },
  {
   "cell_type": "code",
   "execution_count": 29,
   "metadata": {},
   "outputs": [
    {
     "name": "stdout",
     "output_type": "stream",
     "text": [
      "215770\n",
      "[64232.5 91120.  60417.5]\n",
      "215770.0\n",
      "155352.5\n"
     ]
    }
   ],
   "source": [
    "infile = open('datasets/rosalind_iev_attempt01.txt','r')\n",
    "lst    = infile.read().rstrip('\\n').split(' ')\n",
    "lst    = [int(i) for i in lst]\n",
    "infile.close()\n",
    "\n",
    "print(2*sum(lst))\n",
    "X = progeny_genotype_distribution(lst, progeny_distribution_matrix())\n",
    "print(X)\n",
    "print(sum(X))\n",
    "print(X[0]+X[1])\n",
    "\n",
    "del lst, X"
   ]
  },
  {
   "cell_type": "markdown",
   "metadata": {},
   "source": [
    "---\n",
    "\n",
    "### Problem Attempt:"
   ]
  },
  {
   "cell_type": "markdown",
   "metadata": {
    "jp-MarkdownHeadingCollapsed": true
   },
   "source": [
    "#### Attempt 1"
   ]
  },
  {
   "cell_type": "code",
   "execution_count": null,
   "metadata": {},
   "outputs": [],
   "source": [
    "infile = open('datasets/rosalind_iev.txt','r')\n",
    "lst    = infile.read().rstrip('\\n').split(' ')\n",
    "lst    = [int(i) for i in lst]\n",
    "infile.close()\n"
   ]
  },
  {
   "cell_type": "code",
   "execution_count": null,
   "metadata": {},
   "outputs": [],
   "source": [
    "print( progeny_phenotype(progeny_genotype(lst), output_type='dom') )\n"
   ]
  },
  {
   "cell_type": "code",
   "execution_count": null,
   "metadata": {},
   "outputs": [],
   "source": [
    "progeny_genotype(lst)"
   ]
  },
  {
   "cell_type": "code",
   "execution_count": null,
   "metadata": {},
   "outputs": [],
   "source": [
    "x = 0\n",
    "for i in lst:\n",
    "    x+=i\n",
    "print('Total parent population: ', x)\n",
    "print('Expected offspring population: ', int(2*x))\n",
    "\n",
    "print('Current number of expected dominant phenotypes: ', int(2*x)*progeny_phenotype(progeny_genotype(lst), output_type='dom'))\n",
    "\n",
    "del x"
   ]
  },
  {
   "cell_type": "markdown",
   "metadata": {},
   "source": [
    "---\n",
    "\n",
    "#### Attempt 2"
   ]
  },
  {
   "cell_type": "code",
   "execution_count": 31,
   "metadata": {},
   "outputs": [
    {
     "name": "stdout",
     "output_type": "stream",
     "text": [
      "152627.5\n"
     ]
    }
   ],
   "source": [
    "infile = open('datasets/rosalind_iev.txt','r')\n",
    "lst    = infile.read().rstrip('\\n').split(' ')\n",
    "lst    = [int(i) for i in lst]\n",
    "infile.close()\n",
    "\n",
    "X = progeny_genotype_distribution(lst, progeny_distribution_matrix())\n",
    "\n",
    "print(X[0]+X[1])\n",
    "\n",
    "del lst, X"
   ]
  }
 ],
 "metadata": {
  "kernelspec": {
   "display_name": "Python 3 (ipykernel)",
   "language": "python",
   "name": "python3"
  },
  "language_info": {
   "codemirror_mode": {
    "name": "ipython",
    "version": 3
   },
   "file_extension": ".py",
   "mimetype": "text/x-python",
   "name": "python",
   "nbconvert_exporter": "python",
   "pygments_lexer": "ipython3",
   "version": "3.10.13"
  }
 },
 "nbformat": 4,
 "nbformat_minor": 4
}
