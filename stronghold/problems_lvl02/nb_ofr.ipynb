{
 "cells": [
  {
   "cell_type": "markdown",
   "metadata": {},
   "source": [
    "## 'Open Reading Frame'\n",
    "\n",
    "**Connections**: `PROT`, `SUBS`\n",
    "\n",
    "---"
   ]
  },
  {
   "cell_type": "markdown",
   "metadata": {},
   "source": [
    "\n",
    "**Given**: A DNA string *s* of length at most 1 kbp in FASTA format.\n",
    "\n",
    "**Return**: Every distinct candidate protein string that can be translated from ORFs of *s*. Strings can be returned in any order.\n",
    "\n",
    "\n",
    "*Notes*:\n"
   ]
  },
  {
   "cell_type": "code",
   "execution_count": 1,
   "metadata": {},
   "outputs": [],
   "source": [
    "# Libraries to load:\n",
    "import os\n"
   ]
  },
  {
   "cell_type": "code",
   "execution_count": 15,
   "metadata": {},
   "outputs": [],
   "source": [
    "# Previous functions generated\n",
    "\n",
    "def dna_complement(string):\n",
    "    '''\n",
    "    Load in string text of DNA nucleotides and return a string of complementary bases.\n",
    "    The string text is read 5` to 3`, so the initial complement will be 3`-5`. The output must be 5` to 3`.\n",
    "    Notes: \n",
    "       A-T, T-A, C-G, and G-C\n",
    "    '''\n",
    "    nt_dict = {'A':'T', 'T':'A', 'G':'C', 'C':'G'}\n",
    "    comp = ''\n",
    "    for i in string:\n",
    "        comp += nt_dict[i]\n",
    "    return comp[::-1]\n",
    "\n",
    "\n",
    "def fasta_dictionary(path_to_filename):\n",
    "    '''\n",
    "    A more robust function that in the `nb_gc` notebook. Here, open a FASTA file and keep only the identifier and the sequence (ignoring any additional information).\n",
    "    Convert into a dictionary.\n",
    "    Output: a dictionary where the key-value pairs are sequence IDs and sequences, respectively\n",
    "    '''\n",
    "    with open(path_to_filename, 'r') as f:\n",
    "        lst  = f.readlines()\n",
    "    f.close()\n",
    "    for i in range(len(lst)):\n",
    "        if lst[i].startswith('>'):\n",
    "            lst[i] = lst[i].split(' ')[0]+'\\n'\n",
    "    lst  = [i.replace('\\n', ' ') for i in lst]\n",
    "    str1 = ''.join(lst)  \n",
    "    lst2 = str1.split('>')\n",
    "    lst2 = lst2[1:]\n",
    "    seq_dict = {lst2[i].split(' ')[0]:''.join(lst2[i].split(' ')[1:]) for i in range(len(lst2))}\n",
    "    del lst, lst2\n",
    "    return seq_dict\n",
    "\n",
    "\n",
    "with open(os.getcwd() + \"/datasets/rosalind_DNA_codon_table.txt\", \"r\") as f:\n",
    "    text = f.read().replace('\\n', ' ').split()\n",
    "dnacodon_dict = {text[i]:text[i+1] for i in range(len(text)) if i%2==0}\n",
    "del text\n",
    "\n",
    "dnacodon_start = 'ATG'\n"
   ]
  },
  {
   "cell_type": "code",
   "execution_count": 16,
   "metadata": {},
   "outputs": [
    {
     "name": "stdout",
     "output_type": "stream",
     "text": [
      "M\n",
      "MGMTPRLGLESLLE\n",
      "MLLGSFRLIPKETLIQVAGSSPCNLS\n",
      "MTPRLGLESLLE\n"
     ]
    }
   ],
   "source": [
    "coding     = 'AGCCATGTAGCTAACTCAGGTTACATGGGGATGACCCCGCGACTTGGATTAGAGTCTCTTTTGGAATAAGCCTGAATGATCCGAGTAGCATCTCAG'\n",
    "complement = dna_complement(coding)\n",
    "\n",
    "translations = []\n",
    "for string in [coding, complement]:\n",
    "    for i in range(0, len(string)-2):\n",
    "        if i == 0:\n",
    "            start  = False\n",
    "            stop   = False\n",
    "        codon = string[i:i+3]\n",
    "        seq = ''\n",
    "        if codon == dnacodon_start:\n",
    "            start = True\n",
    "            translating = True\n",
    "            j,k = i, i+3\n",
    "            while (stop==False)&(start==True):\n",
    "                if string[j:k] in ['TAA','TAG','TGA']:\n",
    "                    stop = True\n",
    "                    translating = False\n",
    "                else:\n",
    "                    try:\n",
    "                        seq += dnacodon_dict[string[j:k]]\n",
    "                        j += 3\n",
    "                        k += 3\n",
    "                    except KeyError:\n",
    "                        break\n",
    "            if (stop == True)&(translating == False):\n",
    "                translations.append(seq)\n",
    "                start = False\n",
    "                stop  = False\n",
    "            del j,k\n",
    "        del codon, seq\n",
    "    del start, stop\n",
    "translations = sorted(list(set(translations)))\n",
    "\n",
    "for item in translations:\n",
    "    print(item)"
   ]
  },
  {
   "cell_type": "code",
   "execution_count": 22,
   "metadata": {},
   "outputs": [
    {
     "name": "stdout",
     "output_type": "stream",
     "text": [
      "M\n",
      "MGMTPRLGLESLLE\n",
      "MLLGSFRLIPKETLIQVAGSSPCNLS\n",
      "MTPRLGLESLLE\n",
      "----------\n"
     ]
    }
   ],
   "source": [
    "seqs       = fasta_dictionary(os.getcwd() + '/datasets/rosalind_sample_dataset.txt')\n",
    "for key, val in seqs.items():\n",
    "    coding     = val\n",
    "    complement = dna_complement(coding)\n",
    "\n",
    "    translations = []\n",
    "    for string in [coding, complement]:\n",
    "        for i in range(0, len(string)-2):\n",
    "            if i == 0:\n",
    "                start  = False\n",
    "                stop   = False\n",
    "            codon = string[i:i+3]\n",
    "            seq = ''\n",
    "            if codon == dnacodon_start:\n",
    "                start = True\n",
    "                translating = True\n",
    "                j,k = i, i+3\n",
    "                while (stop==False)&(start==True):\n",
    "                    if string[j:k] in ['TAA','TAG','TGA']:\n",
    "                        stop = True\n",
    "                        translating = False\n",
    "                    else:\n",
    "                        try:\n",
    "                            seq += dnacodon_dict[string[j:k]]\n",
    "                            j += 3\n",
    "                            k += 3\n",
    "                        except KeyError:\n",
    "                            break\n",
    "                if (stop == True)&(translating == False):\n",
    "                    translations.append(seq)\n",
    "                    start = False\n",
    "                    stop  = False\n",
    "                del j,k\n",
    "            del codon, seq\n",
    "        del start, stop\n",
    "    translations = sorted(list(set(translations)))\n",
    "    \n",
    "    for item in translations:\n",
    "        print(item)\n",
    "    print('-'*10)"
   ]
  },
  {
   "cell_type": "code",
   "execution_count": null,
   "metadata": {},
   "outputs": [],
   "source": []
  },
  {
   "cell_type": "code",
   "execution_count": null,
   "metadata": {},
   "outputs": [],
   "source": []
  },
  {
   "cell_type": "markdown",
   "metadata": {},
   "source": [
    "---\n",
    "\n",
    "### Problem Attempt:"
   ]
  },
  {
   "cell_type": "code",
   "execution_count": 23,
   "metadata": {},
   "outputs": [],
   "source": [
    "seqs = fasta_dictionary(os.getcwd() + '/datasets/rosalind_orf.txt')\n",
    "\n",
    "for key, val in seqs.items():\n",
    "    coding       = val\n",
    "    complement   = dna_complement(coding)\n",
    "    translations = []\n",
    "    for string in [coding, complement]:\n",
    "        for i in range(0, len(string)-2):\n",
    "            if i == 0:\n",
    "                start  = False\n",
    "                stop   = False\n",
    "            codon = string[i:i+3]\n",
    "            seq = ''\n",
    "            if codon == dnacodon_start:\n",
    "                start = True\n",
    "                translating = True\n",
    "                j,k = i, i+3\n",
    "                while (stop==False)&(start==True):\n",
    "                    if string[j:k] in ['TAA','TAG','TGA']:\n",
    "                        stop = True\n",
    "                        translating = False\n",
    "                    else:\n",
    "                        try:\n",
    "                            seq += dnacodon_dict[string[j:k]]\n",
    "                            j += 3\n",
    "                            k += 3\n",
    "                        except KeyError:\n",
    "                            break\n",
    "                if (stop == True)&(translating == False):\n",
    "                    translations.append(seq)\n",
    "                    start = False\n",
    "                    stop  = False\n",
    "                del j,k\n",
    "            del codon, seq\n",
    "        del start, stop\n",
    "    translations = sorted(list(set(translations)))\n",
    "    outfile = open(os.getcwd() + '/answer_submissions/rosalind_orf_submission.txt', \"w\")\n",
    "    for item in translations:\n",
    "        outfile.write(item + '\\n')\n",
    "    outfile.close()\n",
    "    del coding, complement, translations\n",
    "\n",
    "del seqs"
   ]
  },
  {
   "cell_type": "code",
   "execution_count": null,
   "metadata": {},
   "outputs": [],
   "source": []
  }
 ],
 "metadata": {
  "kernelspec": {
   "display_name": "Python 3 (ipykernel)",
   "language": "python",
   "name": "python3"
  },
  "language_info": {
   "codemirror_mode": {
    "name": "ipython",
    "version": 3
   },
   "file_extension": ".py",
   "mimetype": "text/x-python",
   "name": "python",
   "nbconvert_exporter": "python",
   "pygments_lexer": "ipython3",
   "version": "3.10.13"
  }
 },
 "nbformat": 4,
 "nbformat_minor": 4
}
