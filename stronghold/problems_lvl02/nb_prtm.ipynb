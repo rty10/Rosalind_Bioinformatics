{
 "cells": [
  {
   "cell_type": "markdown",
   "metadata": {},
   "source": [
    "## 'Calculating Protein Mass'\n",
    "\n",
    "**Connections**: `PROT`\n",
    "\n",
    "---"
   ]
  },
  {
   "cell_type": "markdown",
   "metadata": {},
   "source": [
    "\n",
    "**Given**: A protein string *P* of length at most 1000 aa.\n",
    "\n",
    "**Return**: The total weight of *P*. \n",
    "\n",
    "\n",
    "*Notes*:\n",
    "\n",
    "- Consult the monoisotopic mass table.\n"
   ]
  },
  {
   "cell_type": "code",
   "execution_count": 1,
   "metadata": {},
   "outputs": [],
   "source": [
    "# Libraries to load:\n",
    "import os\n"
   ]
  },
  {
   "cell_type": "code",
   "execution_count": 2,
   "metadata": {},
   "outputs": [],
   "source": [
    "def protein_molar_mass(aa_residue_seq: str) -> float:\n",
    "    '''\n",
    "    '''\n",
    "    mm_water = 18.01056\n",
    "    with open( os.getcwd() + '/datasets/rosalind_monoisotopic_mass_table.txt', 'r') as infile:\n",
    "        data = infile.read().replace('\\n',' ').split()\n",
    "        mass_dict = {data[i]:float(data[i+1]) for i in range(len(data)) if i%2==0}\n",
    "        del data\n",
    "    mm = 0\n",
    "    for a in aa_residue_seq:\n",
    "        mm += mass_dict[a]\n",
    "    return round(mm,3)\n",
    "\n"
   ]
  },
  {
   "cell_type": "code",
   "execution_count": 3,
   "metadata": {},
   "outputs": [
    {
     "name": "stdout",
     "output_type": "stream",
     "text": [
      "SKADYEK\n",
      "\n",
      "821.392\n"
     ]
    }
   ],
   "source": [
    "with open( os.getcwd() + '/datasets/rosalind_sample_dataset.txt', 'r') as infile:\n",
    "    seq = infile.read().rstrip('\\n')\n",
    "print(seq)\n",
    "print()\n",
    "\n",
    "print(protein_molar_mass(seq))\n",
    "\n",
    "with open( os.getcwd() + '/answer_submissions/rosalind_sample_dataset_answer.txt', 'w') as outfile:\n",
    "    outfile.write( str(protein_molar_mass(seq)) + '\\n' )\n",
    "infile.close()\n",
    "outfile.close()\n"
   ]
  },
  {
   "cell_type": "markdown",
   "metadata": {},
   "source": [
    "---\n",
    "\n",
    "### Problem Attempt:"
   ]
  },
  {
   "cell_type": "code",
   "execution_count": 5,
   "metadata": {},
   "outputs": [
    {
     "name": "stdout",
     "output_type": "stream",
     "text": [
      "GYNKYPFIFKLFNFCQNSQWHSGVPQCGLMFTDTNKYGTVWPLYDNWPQNIGKSFQESNAPDHWQFHHQVHDFPRKWESHMPNMHYEDAEMSRPAINCKVVQSSLYANFDAVTDEYAKLNLWADLKRYEDVVQVYQPKFVAQLMQTHFEKNTQTEHYRYELRICGCIARYMMYHTAYVFECCKDTEDISVIWLPQDWMNPIGVVWIQWFARMQKRGDMYDVTNQSDPTKAIMIFAYRKVMRANFEYEMEGQTFVGFSLDVVETFRLEPMYNDCQYRRGHRVIRTSLHAVVHHPPVARTPMFQKIEFQSKTVNCHNTMAESRKYFRAWVSSVAHAMSNFILYHIELAFFKATYPLMMSGAPKDQSNKLRHKNYPICFAFAWEAYRARIPCTKQPFVKSHGCGWEHSAHQYAGYYKQHCHQIGMIGALSCITIHIDSTLLKYTTESFRAGYFTRRNKLEVDGLEDALVHSQHMALETLAPNVYSLHKTEPLRFDLNLCQQKSHICDWVRNFCAMVSIINASMKDLNKHDCPPHIIMPDINRYRRTCSLWYSVVLLLMMLQYLNECSQHMFFYEWPDWPPSTCERMAPEGDADRAWDEHYMTQPAREGHNKCVDKEVQFVEIYAPNPVDNYKEPCWWDSMQRATCDWKPTNFYEGLQGWECQRHYRRGNEVKSKNCLMVCMRTCRATQQKDSDTGQGNSNSMRGRWELNVAGAKLLIYHSRHEQDTLSLVIQTYHHYANCAISRWDSLFYMYFEERGYDVHYNMQKLGCQWAIHHYECVMWIGCHTLWDLLFDQKGCGSRRGYLDGQKLVGKMPKHADNGYGIGRCILWSSKEIGGNSYPNPILAYNWLWFWFDHIYHWNCWSQKWKKPICFNV\n",
      "\n",
      "103215.144\n"
     ]
    }
   ],
   "source": [
    "with open( os.getcwd() + '/datasets/rosalind_prtm.txt', 'r') as infile:\n",
    "    seq = infile.read().rstrip('\\n')\n",
    "print(seq)\n",
    "print()\n",
    "\n",
    "print(protein_molar_mass(seq))\n",
    "\n",
    "with open( os.getcwd() + '/answer_submissions/rosalind_prtm_submission.txt', 'w') as outfile:\n",
    "    outfile.write( str(protein_molar_mass(seq)) + '\\n' )\n",
    "infile.close()\n",
    "outfile.close()"
   ]
  },
  {
   "cell_type": "code",
   "execution_count": null,
   "metadata": {},
   "outputs": [],
   "source": []
  }
 ],
 "metadata": {
  "kernelspec": {
   "display_name": "Python 3 (ipykernel)",
   "language": "python",
   "name": "python3"
  },
  "language_info": {
   "codemirror_mode": {
    "name": "ipython",
    "version": 3
   },
   "file_extension": ".py",
   "mimetype": "text/x-python",
   "name": "python",
   "nbconvert_exporter": "python",
   "pygments_lexer": "ipython3",
   "version": "3.10.13"
  }
 },
 "nbformat": 4,
 "nbformat_minor": 4
}
