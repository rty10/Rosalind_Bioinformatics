{
 "cells": [
  {
   "cell_type": "markdown",
   "metadata": {},
   "source": [
    "## 'Computing GC Content'\n",
    "\n",
    "**Given**: At most 10 DNA strings in FASTA format (of length at most 1 kbp each).\n",
    "\n",
    "**Return**: The ID of the string having the highest GC-content, followed by the GC-content of that string. Rosalind allows for a default error of 0.001 in all decimal answers unless otherwise stated; please see the note on absolute error below.\n"
   ]
  },
  {
   "cell_type": "code",
   "execution_count": 83,
   "metadata": {},
   "outputs": [],
   "source": [
    "def nt_gc_counter(text_string: str):\n",
    "    '''\n",
    "    For the loaded string of nucleotides, determine 'G' and 'C' content.\n",
    "    Output: frequency (ratio) of 'G' and 'C' nucleotides\n",
    "    '''\n",
    "    ct = 0\n",
    "    for nt in text_string:\n",
    "        if nt=='G' or nt=='C':\n",
    "            ct+=1  \n",
    "    return 100*(ct/len(text_string))\n",
    "\n",
    "\n",
    "def fasta_dict_generator(filepath) -> dict:\n",
    "    '''\n",
    "    For _filepath_ provided, \n",
    "       1. open file and read\n",
    "       2. replace all new line characters\n",
    "       3. split at each '>'\n",
    "       4. remove empty dictionary entry\n",
    "    Output: a dictionary with a key:value pair such that each key is 'Rosalind_XXXX' and each value its sequence\n",
    "    '''\n",
    "    with open(filepath, \"r\") as infile:\n",
    "        text = infile.read().replace('\\n', '').split('>')\n",
    "        seq_dict = {s[:13]:s[13:] for s in text}\n",
    "        del seq_dict['']\n",
    "    return seq_dict\n",
    "\n",
    "\n",
    "def gc_content_comp(dictionary) -> tuple:\n",
    "    '''\n",
    "    For loaded _dictionary_ of sequence labels (keys) and nucleotide sequences (value), determine \n",
    "        which key:value pair has the greatest GC content.\n",
    "    Output:\n",
    "    '''\n",
    "    best_seq = ''\n",
    "    gc_cont = 0\n",
    "    for key in dictionary.keys():\n",
    "        if nt_gc_counter(dictionary[key]) > gc_cont:\n",
    "            best_seq = key\n",
    "            gc_cont = nt_gc_counter(dictionary[key])\n",
    "    return (best_seq, gc_cont)\n",
    "\n"
   ]
  },
  {
   "cell_type": "code",
   "execution_count": 84,
   "metadata": {},
   "outputs": [
    {
     "name": "stdout",
     "output_type": "stream",
     "text": [
      "37.5\n"
     ]
    }
   ],
   "source": [
    "# Test code\n",
    "test = 'AGCTATAG'\n",
    "l = nt_gc_counter(test)\n",
    "print(l)\n",
    "del test, l"
   ]
  },
  {
   "cell_type": "code",
   "execution_count": 85,
   "metadata": {},
   "outputs": [
    {
     "name": "stdout",
     "output_type": "stream",
     "text": [
      "{'Rosalind_6404': 'CCTGCGGAAGATCGGCACTAGAATAGCCAGAACCGTTTCTCTGAGGCTTCCGGCCTTCCCTCCCACTAATAATTCTGAGG', 'Rosalind_5959': 'CCATCGGTAGCGCATCCTTAGTCCAATTAAGTCCCTATCCAGGCGCTCCGCCGAAGGTCTATATCCATTTGTCAGCAGACACGC', 'Rosalind_0808': 'CCACCCTCGTGGTATGGCTAGGCATTCAGGAACCGGAGAACGCTTCAGACCAGCCCGGACTGGGAACCTGCGGGCAGTAGGTGGAAT'}\n",
      "\n",
      "Rosalind_0808\n",
      "60.91954\n"
     ]
    }
   ],
   "source": [
    "seq_dict = fasta_dict_generator(\"datasets/rosalind_sample_dataset.txt\")\n",
    "\n",
    "print(seq_dict)\n",
    "print()\n",
    "\n",
    "test_cont = gc_content_comp(seq_dict)\n",
    "print(test_cont[0])\n",
    "print(round(test_cont[1],6))\n",
    "\n",
    "del seq_dict, test_cont\n"
   ]
  },
  {
   "cell_type": "markdown",
   "metadata": {},
   "source": [
    "---"
   ]
  },
  {
   "cell_type": "code",
   "execution_count": 86,
   "metadata": {},
   "outputs": [
    {
     "name": "stdout",
     "output_type": "stream",
     "text": [
      "Rosalind_6581\n",
      "51.515152\n"
     ]
    }
   ],
   "source": [
    "seq_dict = fasta_dict_generator(\"datasets/rosalind_gc.txt\")\n",
    "\n",
    "content = gc_content_comp(seq_dict)\n",
    "print(content[0])\n",
    "print(round(content[1],6))\n",
    "\n",
    "del seq_dict, content"
   ]
  },
  {
   "cell_type": "code",
   "execution_count": null,
   "metadata": {},
   "outputs": [],
   "source": []
  }
 ],
 "metadata": {
  "kernelspec": {
   "display_name": "dnalab",
   "language": "python",
   "name": "python3"
  },
  "language_info": {
   "codemirror_mode": {
    "name": "ipython",
    "version": 3
   },
   "file_extension": ".py",
   "mimetype": "text/x-python",
   "name": "python",
   "nbconvert_exporter": "python",
   "pygments_lexer": "ipython3",
   "version": "3.10.13"
  }
 },
 "nbformat": 4,
 "nbformat_minor": 2
}
