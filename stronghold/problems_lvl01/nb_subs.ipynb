{
 "cells": [
  {
   "cell_type": "markdown",
   "metadata": {},
   "source": [
    "## 'Finding a Motif in DNA'\n",
    "\n",
    "**Given**: Two DNA strings *s* and *t* (each of length at most 1 kbp).\n",
    "\n",
    "**Return**: All locations of *t* as a substring of *s*.\n"
   ]
  },
  {
   "cell_type": "code",
   "execution_count": 22,
   "metadata": {},
   "outputs": [],
   "source": [
    "def motif_loci(sequence:str, motif:str) -> str:\n",
    "    '''\n",
    "    For nucleotide _sequence_ and _motif_, determine the position(s) where the motif is/are located.\n",
    "    Output: string of starting positions in _sequence_ where _motif_ is located \n",
    "    '''\n",
    "    loci = []\n",
    "    for i in range(len(sequence)-len(motif)):\n",
    "        if sequence[i:i+len(motif)] == motif:\n",
    "            loci.append(i+1)\n",
    "    return ' '.join(str(l) for l in loci)\n",
    "\n"
   ]
  },
  {
   "cell_type": "code",
   "execution_count": 23,
   "metadata": {},
   "outputs": [
    {
     "name": "stdout",
     "output_type": "stream",
     "text": [
      "GATATATGCATATACTT\n",
      "\n",
      "ATAT\n"
     ]
    }
   ],
   "source": [
    "with open('datasets/rosalind_sample_dataset.txt', 'r') as f:\n",
    "    text = f.readlines()\n",
    "    text = [t.rstrip('\\n') for t in text]\n",
    "    seq = text[0]\n",
    "    motif = text[1]\n",
    "    del text\n",
    "\n",
    "print(seq)\n",
    "print()\n",
    "print(motif)\n"
   ]
  },
  {
   "cell_type": "code",
   "execution_count": 25,
   "metadata": {},
   "outputs": [
    {
     "data": {
      "text/plain": [
       "'2 5 6 15 17 18'"
      ]
     },
     "execution_count": 25,
     "metadata": {},
     "output_type": "execute_result"
    }
   ],
   "source": [
    "motif_loci('AUGCUUCAGAAAGGUCUUACG', 'U')"
   ]
  },
  {
   "cell_type": "code",
   "execution_count": 24,
   "metadata": {},
   "outputs": [
    {
     "data": {
      "text/plain": [
       "'2 4 10'"
      ]
     },
     "execution_count": 24,
     "metadata": {},
     "output_type": "execute_result"
    }
   ],
   "source": [
    "motif_loci(seq, motif)"
   ]
  },
  {
   "cell_type": "markdown",
   "metadata": {},
   "source": [
    "---"
   ]
  },
  {
   "cell_type": "code",
   "execution_count": 27,
   "metadata": {},
   "outputs": [
    {
     "name": "stdout",
     "output_type": "stream",
     "text": [
      "25 32 60 134 149 173 204 214 274 328 447 470 527 570 602 609 626 642 695 796 945\n"
     ]
    }
   ],
   "source": [
    "with open('datasets/rosalind_subs.txt', 'r') as f:\n",
    "    text = f.readlines()\n",
    "    text = [t.rstrip('\\n') for t in text]\n",
    "    seq = text[0]\n",
    "    motif = text[1]\n",
    "    del text\n",
    "\n",
    "print(motif_loci(seq, motif))\n",
    "\n",
    "del seq, motif"
   ]
  },
  {
   "cell_type": "code",
   "execution_count": null,
   "metadata": {},
   "outputs": [],
   "source": []
  }
 ],
 "metadata": {
  "kernelspec": {
   "display_name": "dnalab",
   "language": "python",
   "name": "python3"
  },
  "language_info": {
   "codemirror_mode": {
    "name": "ipython",
    "version": 3
   },
   "file_extension": ".py",
   "mimetype": "text/x-python",
   "name": "python",
   "nbconvert_exporter": "python",
   "pygments_lexer": "ipython3",
   "version": "3.10.13"
  }
 },
 "nbformat": 4,
 "nbformat_minor": 2
}
