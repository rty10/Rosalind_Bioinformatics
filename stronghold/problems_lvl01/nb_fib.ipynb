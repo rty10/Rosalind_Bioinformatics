{
 "cells": [
  {
   "cell_type": "markdown",
   "metadata": {},
   "source": [
    "## 'Rabbits and Recurrence Relations'\n",
    "\n",
    "When finding the *n*-th term of a sequence defined by a recurrence relation, we can simply use the recurrence relation to generate terms for progressively larger values of *n*. This problem introduces us to the computational technique of dynamic programming, which successively builds up solutions by using the answers to smaller cases.\n",
    "\n",
    "\n",
    "Given: Positive integers *n*≤40 and *k*≤5.\n",
    "\n",
    "Return: The total number of rabbit pairs that will be present after *n* months, if we begin with 1 pair and in each generation, every pair of reproduction-age rabbits produces a litter of *k* rabbit pairs (instead of only 1 pair).\n",
    "\n",
    "Notes:\n",
    "- \"any given month will contain the rabbits that were alive the previous month, plus any new offspring\"\n",
    "- A key observation is that the number of offspring in any month is equal to the number of rabbits that were alive two months prior.\n",
    "\n"
   ]
  },
  {
   "cell_type": "code",
   "execution_count": 6,
   "metadata": {},
   "outputs": [],
   "source": [
    "def rabbit_recurrence(months: int, pairs: int) -> int:\n",
    "    '''\n",
    "    Function that replicates the Fibonacci rabbit problem.\n",
    "    Given an integer number of _months_ (n) and an integer litter size for each mature _pairs_ (k),\n",
    "        determine population size after n-number of months\n",
    "    Formula: f_(n) = f_(n-1) + k*f_(n-2)\n",
    "    Output: integer-valued population size\n",
    "    '''\n",
    "    fib = [1,1]\n",
    "    for i in range(months):\n",
    "        if i > 1:\n",
    "            fib.append(fib[i-1]+pairs*fib[i-2])\n",
    "    return fib[months-1]\n",
    "\n"
   ]
  },
  {
   "cell_type": "code",
   "execution_count": 7,
   "metadata": {},
   "outputs": [
    {
     "name": "stdout",
     "output_type": "stream",
     "text": [
      "1 1 1\n",
      "1 1 1\n",
      "2 3 4\n",
      "3 5 7\n",
      "5 11 19\n",
      "8 21 40\n",
      "13 43 97\n",
      "21 85 217\n",
      "34 171 508\n",
      "55 341 1159\n",
      "89 683 2683\n"
     ]
    }
   ],
   "source": [
    "# Test code\n",
    "\n",
    "for n in range(1, 12):\n",
    "    try_1 = rabbit_recurrence(n, 1)\n",
    "    try_2 = rabbit_recurrence(n, 2)\n",
    "    try_3 = rabbit_recurrence(n, 3)\n",
    "\n",
    "    print(try_1, try_2, try_3)\n",
    "    del try_1, try_2, try_3\n",
    "del n\n"
   ]
  },
  {
   "cell_type": "code",
   "execution_count": 17,
   "metadata": {},
   "outputs": [
    {
     "name": "stdout",
     "output_type": "stream",
     "text": [
      "n = 5 , k = 3,\n",
      " output = 19\n"
     ]
    }
   ],
   "source": [
    "with open(\"datasets/rosalind_sample_dataset.txt\", \"r\") as infile:\n",
    "    text = infile.readline().rstrip('\\n')\n",
    "    n, k = text.split()\n",
    "infile.close()\n",
    "\n",
    "print(\"n = \"+str(n), \", k = \"+str(k)+\",\\n\", \n",
    "      \"output =\",rabbit_recurrence(int(n), int(k)))\n",
    "\n",
    "del n,k"
   ]
  },
  {
   "cell_type": "markdown",
   "metadata": {},
   "source": [
    "---"
   ]
  },
  {
   "cell_type": "code",
   "execution_count": 18,
   "metadata": {},
   "outputs": [
    {
     "name": "stdout",
     "output_type": "stream",
     "text": [
      "n = 30 , k = 3,\n",
      " output = 20444528200\n"
     ]
    }
   ],
   "source": [
    "with open(\"datasets/rosalind_fib.txt\", \"r\") as infile:\n",
    "    text = infile.readline().rstrip('\\n')\n",
    "    n, k = text.split()\n",
    "infile.close()\n",
    "\n",
    "print(\"n = \"+str(n), \", k = \"+str(k)+\",\\n\", \n",
    "      \"output =\",rabbit_recurrence(int(n), int(k)))\n",
    "\n",
    "del n,k"
   ]
  },
  {
   "cell_type": "code",
   "execution_count": null,
   "metadata": {},
   "outputs": [],
   "source": []
  }
 ],
 "metadata": {
  "kernelspec": {
   "display_name": "dnalab",
   "language": "python",
   "name": "python3"
  },
  "language_info": {
   "codemirror_mode": {
    "name": "ipython",
    "version": 3
   },
   "file_extension": ".py",
   "mimetype": "text/x-python",
   "name": "python",
   "nbconvert_exporter": "python",
   "pygments_lexer": "ipython3",
   "version": "3.10.13"
  }
 },
 "nbformat": 4,
 "nbformat_minor": 2
}
