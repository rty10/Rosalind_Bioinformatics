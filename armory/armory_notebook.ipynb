{
 "cells": [
  {
   "cell_type": "markdown",
   "metadata": {},
   "source": [
    "## The Bioinformatics Armory\n",
    "\n",
    "Source: rosalind.info\n",
    "\n",
    "Access: Dec 2024\n"
   ]
  },
  {
   "cell_type": "markdown",
   "metadata": {},
   "source": [
    "---\n",
    "\n",
    "### Introduction (\"INI\")"
   ]
  },
  {
   "cell_type": "code",
   "execution_count": 1,
   "metadata": {},
   "outputs": [],
   "source": [
    "from Bio.Seq import Seq"
   ]
  },
  {
   "cell_type": "code",
   "execution_count": 3,
   "metadata": {},
   "outputs": [
    {
     "name": "stdout",
     "output_type": "stream",
     "text": [
      "20 12 17 21\n"
     ]
    }
   ],
   "source": [
    "with open(\"rosalind_armory_sample_dataset.txt\", \"r\") as f:\n",
    "    sample = f.read().rstrip('\\n')\n",
    "\n",
    "sequence = Seq(sample)\n",
    "\n",
    "print(sequence.count('A'),\n",
    "      sequence.count('C'),\n",
    "      sequence.count('G'),\n",
    "      sequence.count('T'))\n",
    "\n",
    "del sequence, sample"
   ]
  },
  {
   "cell_type": "code",
   "execution_count": 4,
   "metadata": {},
   "outputs": [
    {
     "name": "stdout",
     "output_type": "stream",
     "text": [
      "195 200 211 215\n"
     ]
    }
   ],
   "source": [
    "with open(\"rosalind_ini.txt\", \"r\") as f:\n",
    "    sample = f.read().rstrip('\\n')\n",
    "\n",
    "sequence = Seq(sample)\n",
    "\n",
    "print(sequence.count('A'),\n",
    "      sequence.count('C'),\n",
    "      sequence.count('G'),\n",
    "      sequence.count('T'))\n",
    "\n",
    "del sequence, sample"
   ]
  },
  {
   "cell_type": "code",
   "execution_count": null,
   "metadata": {},
   "outputs": [],
   "source": []
  },
  {
   "cell_type": "markdown",
   "metadata": {},
   "source": [
    "---\n",
    "\n",
    "### GenBank Introduction (GBK)"
   ]
  },
  {
   "cell_type": "code",
   "execution_count": 6,
   "metadata": {},
   "outputs": [],
   "source": [
    "from Bio import Entrez"
   ]
  },
  {
   "cell_type": "code",
   "execution_count": null,
   "metadata": {},
   "outputs": [
    {
     "data": {
      "text/plain": [
       "'39'"
      ]
     },
     "execution_count": 7,
     "metadata": {},
     "output_type": "execute_result"
    }
   ],
   "source": [
    "# Access example\n",
    "\n",
    "Entrez.email = \"robb.young.2011@gmail.com\"\n",
    "\n",
    "handle = Entrez.esearch(\n",
    "    db='nucleotide', # for 'GenBank' use `nucleotide`, for 'PubMed' use `pubmed`\n",
    "    term='\"Zea mays\"[Organism] AND rbcl[Gene]' # items in a Query field\n",
    ")\n",
    "\n",
    "record = Entrez.read(handle)\n",
    "\n",
    "record['Count']"
   ]
  },
  {
   "cell_type": "code",
   "execution_count": 11,
   "metadata": {},
   "outputs": [
    {
     "name": "stdout",
     "output_type": "stream",
     "text": [
      "7\n"
     ]
    }
   ],
   "source": [
    "# Access example from Sample Dataset\n",
    "\n",
    "with open(\"rosalind_armory_sample_dataset.txt\", \"r\") as f:\n",
    "    sample = f.readlines()\n",
    "    sample = [s.rstrip('\\n') for s in sample]\n",
    "\n",
    "Entrez.email = \"robb.young.2011@gmail.com\"\n",
    "handle = Entrez.esearch(\n",
    "    db='nucleotide', \n",
    "    term=sample[0]+'[Organism] AND '+sample[1]+':'+sample[2]+'[Publication Date]'\n",
    ")\n",
    "record = Entrez.read(handle)\n",
    "\n",
    "print(int(record['Count']))\n",
    "del record, handle, sample"
   ]
  },
  {
   "cell_type": "code",
   "execution_count": 12,
   "metadata": {},
   "outputs": [
    {
     "name": "stdout",
     "output_type": "stream",
     "text": [
      "67\n"
     ]
    }
   ],
   "source": [
    "with open(\"rosalind_gbk.txt\", \"r\") as f:\n",
    "    sample = f.readlines()\n",
    "    sample = [s.rstrip('\\n') for s in sample]\n",
    "\n",
    "Entrez.email = \"robb.young.2011@gmail.com\"\n",
    "handle = Entrez.esearch(\n",
    "    db='nucleotide', \n",
    "    term=sample[0]+'[Organism] AND '+sample[1]+':'+sample[2]+'[Publication Date]'\n",
    ")\n",
    "record = Entrez.read(handle)\n",
    "\n",
    "print(int(record['Count']))\n",
    "del record, handle, sample"
   ]
  },
  {
   "cell_type": "markdown",
   "metadata": {},
   "source": [
    "---\n",
    "\n",
    "### Data Formats (FRMT)"
   ]
  },
  {
   "cell_type": "code",
   "execution_count": 17,
   "metadata": {},
   "outputs": [],
   "source": [
    "from Bio import Entrez, SeqIO"
   ]
  },
  {
   "cell_type": "code",
   "execution_count": 18,
   "metadata": {},
   "outputs": [
    {
     "name": "stdout",
     "output_type": "stream",
     "text": [
      ">FJ817486.1 Malus hybrid cultivar flavanone 3-hydroxylase protein (F3H) mRNA, complete cds\n",
      "CGCGTATTTCGTTTGAGCCAATACCAAGTAGACAGAACCAACAAATTCGACACCAAATATGGCTCCTGCT\n",
      "ACTACGCTCACATCCATAGCGCATGAGAAAACCCTGCAACAAAAATTTGTCCGAGACGAAGACGAGCGTC\n",
      "CAAAGGTTGCCTACAACGACTTCAGCAACGAAATTCCGATCATCTCGCTTGCCGGGATCGATGAGGTGGA\n",
      "AGGCCGCCGGGGCGAGATTTGCAAGAAGATTGTAGCGGCTTGTGAAGACTGGGGTATTTTCCAGATTGTT\n",
      "GACCATGGGGTTGATGCTGAGCTCATATCGGAAATGACCGGTCTCGCTAGAGAGTTCTTTGCTTTGCCAT\n",
      "CGGAGGAGAAGCTCCGCTTCGACATGTCCGGTGGCAAAAAGGGTGGCTTCATCGTGTCCAGTCATTTACA\n",
      "GGGAGAAGCTGTGCAAGATTGGCGTGAAATTGTGACCTACTTTTCATATCCGATTCGTCACCGGGACTAT\n",
      "TCGAGGTGGCCAGACAAGCCTGAGGCCTGGAGGGAGGTGACAAAGAAGTACAGTGACGAGTTGATGGGGC\n",
      "TGGCATGCAAGCTCTTGGGCGTTTTATCAGAAGCCATGGGGTTGGATACAGAGGCATTGACAAAGGCATG\n",
      "TGTGGACATGGACCAAAAAGTCGTCGTGAATTTCTACCCAAAATGCCCTCAGCCCGACCTAACCCTTGGC\n",
      "CTCAAGCGCCATACCGACCCGGGCACAATTACCCTTCTGCTTCAAGACCAAGTTGGGGGCCTCCAGGCTA\n",
      "CTCGGGATGATGGGAAAACGTGGATCACCGTTCAACCAGTGGAAGGAGCTTTTGTGGTCAATCTTGGAGA\n",
      "TCATGGTCATCTTCTGAGCAATGGGAGGTTCAAGAATGCTGATCACCAAGCAGTGGTGAACTCAAACAGC\n",
      "AGCAGGCTGTCCATAGCCACATTCCAGAACCCAGCGCAAGAAGCAATAGTGTATCCACTCAGTGTGAGGG\n",
      "AGGGAGAGAAGCCGATTCTCGAGGCGCCAATCACCTACACCGAGATGTACAAGAAGAAGATGAGCAAGGA\n",
      "TCTTGAGCTCGCCAGGCTGAAAAAACTGGCCAAGGAACAGCAATCGCAGGACTTGGAGAAAGCCAAAGTG\n",
      "GATACAAAGCCAGTGGACGACATTTTTGCTTAGACTTTTCCAGTCACTTGAAAGCTCTTTGTGGAACTAT\n",
      "AGCTACTTGTACCTTTTCCTTCCACTTCTTGTACTCGTAACTTCTTTTTGGTGTGCTGGTGGCTTCCCCC\n",
      "CTAATCTGTTTAAGATCCGTGGTTGTCAAGGGCCCTTATATCCCATATTTAGTTTTTGTTCTTGAATTTT\n",
      "CATATCAGTTTCTTATCCTCCAACTTAAAAAAAAAAAAAA\n",
      "\n",
      "\n"
     ]
    }
   ],
   "source": [
    "Entrez.email = \"robb.young.2011@gmail.com\"\n",
    "\n",
    "handle = Entrez.efetch(\n",
    "    db='nucleotide', \n",
    "    id=\"FJ817486\",\n",
    "    rettype='fasta'\n",
    ")\n",
    "\n",
    "record = handle.read()\n",
    "\n",
    "print(record)\n",
    "del handle, record"
   ]
  },
  {
   "cell_type": "code",
   "execution_count": 19,
   "metadata": {},
   "outputs": [
    {
     "name": "stdout",
     "output_type": "stream",
     "text": [
      ">FJ817486.1 Malus hybrid cultivar flavanone 3-hydroxylase protein (F3H) mRNA, complete cds\n",
      "CGCGTATTTCGTTTGAGCCAATACCAAGTAGACAGAACCAACAAATTCGACACCAAATATGGCTCCTGCT\n",
      "ACTACGCTCACATCCATAGCGCATGAGAAAACCCTGCAACAAAAATTTGTCCGAGACGAAGACGAGCGTC\n",
      "CAAAGGTTGCCTACAACGACTTCAGCAACGAAATTCCGATCATCTCGCTTGCCGGGATCGATGAGGTGGA\n",
      "AGGCCGCCGGGGCGAGATTTGCAAGAAGATTGTAGCGGCTTGTGAAGACTGGGGTATTTTCCAGATTGTT\n",
      "GACCATGGGGTTGATGCTGAGCTCATATCGGAAATGACCGGTCTCGCTAGAGAGTTCTTTGCTTTGCCAT\n",
      "CGGAGGAGAAGCTCCGCTTCGACATGTCCGGTGGCAAAAAGGGTGGCTTCATCGTGTCCAGTCATTTACA\n",
      "GGGAGAAGCTGTGCAAGATTGGCGTGAAATTGTGACCTACTTTTCATATCCGATTCGTCACCGGGACTAT\n",
      "TCGAGGTGGCCAGACAAGCCTGAGGCCTGGAGGGAGGTGACAAAGAAGTACAGTGACGAGTTGATGGGGC\n",
      "TGGCATGCAAGCTCTTGGGCGTTTTATCAGAAGCCATGGGGTTGGATACAGAGGCATTGACAAAGGCATG\n",
      "TGTGGACATGGACCAAAAAGTCGTCGTGAATTTCTACCCAAAATGCCCTCAGCCCGACCTAACCCTTGGC\n",
      "CTCAAGCGCCATACCGACCCGGGCACAATTACCCTTCTGCTTCAAGACCAAGTTGGGGGCCTCCAGGCTA\n",
      "CTCGGGATGATGGGAAAACGTGGATCACCGTTCAACCAGTGGAAGGAGCTTTTGTGGTCAATCTTGGAGA\n",
      "TCATGGTCATCTTCTGAGCAATGGGAGGTTCAAGAATGCTGATCACCAAGCAGTGGTGAACTCAAACAGC\n",
      "AGCAGGCTGTCCATAGCCACATTCCAGAACCCAGCGCAAGAAGCAATAGTGTATCCACTCAGTGTGAGGG\n",
      "AGGGAGAGAAGCCGATTCTCGAGGCGCCAATCACCTACACCGAGATGTACAAGAAGAAGATGAGCAAGGA\n",
      "TCTTGAGCTCGCCAGGCTGAAAAAACTGGCCAAGGAACAGCAATCGCAGGACTTGGAGAAAGCCAAAGTG\n",
      "GATACAAAGCCAGTGGACGACATTTTTGCTTAGACTTTTCCAGTCACTTGAAAGCTCTTTGTGGAACTAT\n",
      "AGCTACTTGTACCTTTTCCTTCCACTTCTTGTACTCGTAACTTCTTTTTGGTGTGCTGGTGGCTTCCCCC\n",
      "CTAATCTGTTTAAGATCCGTGGTTGTCAAGGGCCCTTATATCCCATATTTAGTTTTTGTTCTTGAATTTT\n",
      "CATATCAGTTTCTTATCCTCCAACTTAAAAAAAAAAAAAA\n",
      "\n",
      ">JX069768.1 Momordica charantia carotenoid cleavage dioxygenase 1 (CCD1) mRNA, complete cds\n",
      "ATGGCGGAGGAGAAGCAGAAGCTCAATGGCGGAGTTGTTGACCGCTCGTTGGTGGAGGTCAATCCCAAGC\n",
      "CAAGCAAAGGCCTGGCTTCGAAGGCCACGGATTTGTTGGAGAAGCTGTTTGTGAAGCTCATGTATGATGC\n",
      "TTCAAACCCTCAGCATTATCTTTCCGGTAATTTCGCTCCGGTTCGCGATGAGACGCCTCCGATTACCGAT\n",
      "CTCCCTGTTAAAGGGTATCTTCCGGAATGCTTAAATGGAGAGTTTGTTAGGGTGGGACCAAATCCGAAGT\n",
      "TTAGCCCAGTTGCTGGCTATCACTGGTTTGACGGAGATGGCATGATCCATGGACTGCGCATTAAAGATGG\n",
      "AAAAGCAACATATGTTTCCCGTTATGTGAAGACATCTCGACTTAAACAAGAAGAATATTTTGGAGGTGCT\n",
      "AAATTCATGAAGATTGGTGATCTCAAAGGGTTCTTTGGGTTAATAATGGTCAATATGCAAATGCTGAGAG\n",
      "CAAAGTTGAAAGTGTTGGATGTTTCATATGGAACTGGGACAGGTAACACGGCTCTCATATATCATCATGG\n",
      "GAAGCTGCTTGCACTATCGGAGGCAGATAAACCTTATGTTATAAAAGTGTTGGAGGATGGAGACCTGCAA\n",
      "ACACTTGGTCTGCTGGATTATGACAAGAGATTAACGCACTCCTTCACTGCTCACCCAAAGGTTGACCCAG\n",
      "TGACTGGCGAAATGTTTACATTTGGTTATTCCCATTCACCACCATATGTTACTTACAGAGTTATTTCCAA\n",
      "GGATGGTCTCATGCATGACCCAATACCAATCACAATACCAAACCCGGTCATGATGCATGACTTCGCCATT\n",
      "ACTGAAAATTATGCAATTTTTATGGATCTTCCTTTATATTTTAAACCCAAGGAATTGGTCAAAGAAAATA\n",
      "AGTTAATTTTCACATTTGATGCTACTAAAAGAGCACGGTTTGGCGTGCTTCCAAGATATGCAAGAGATGA\n",
      "TTTGCTTATCCGATGGTTTGAGCTTCCAAATTGTTTTATATTTCATAATGCTAATGCCTGGGAGGAAGGA\n",
      "GATGAAGTAGTTTTGATTACTTGCCGTCTTGAGAACCCAGACTTGGACATGGTCAGTGGGTCTGTCAAGG\n",
      "AGAAGCTTGAGAACTTCTCAAATGAGCTGTATGAGATGAGATTCAATCTTAAATCTGGTCGAGCTTCACA\n",
      "GAAGAAACTATCAGAATCTGCTGTAGATTTTCCTAGAGTGAACGAAAGCTACACTGGCAGGAAACAACAA\n",
      "TATGTATATGGAACTATACTGGACAGCATTGCAAAAGTCACGGGGATTGCCAAATTTGATCTGAATGCTA\n",
      "AACCAGAAACTGGAAAAACAAAGATTGAAGTTGGAGGAAATGTTCAGGGCCTCTATGACCCCGGACCTGG\n",
      "TAGATTTGGTTCTGAAGCTATCTTTGTTCCTCGCATACCTGGCACCACTTCAGAAGAAGATGATGGCTAC\n",
      "TTAATATTCTTCGTACATGATGAGAACACCGGAAAATCGTCGGTGAATGTCATTGATGCAAAAACTATGT\n",
      "CAACTGAGCCTGTTGCAGTCGTTGAACTGCCACACAGAGTTCCATACGGGTTTCATGCCTTCTTTGTAAC\n",
      "AGAGGAGCAACTTCAAGAACAAGAAAGGCTCTGA\n",
      "\n",
      "\n"
     ]
    }
   ],
   "source": [
    "Entrez.email = \"robb.young.2011@gmail.com\"\n",
    "\n",
    "handle = Entrez.efetch(\n",
    "    db='nucleotide', \n",
    "    id=[\"FJ817486\",\"JX069768\"],\n",
    "    rettype='fasta'\n",
    ")\n",
    "\n",
    "records = handle.read()\n",
    "\n",
    "print(records)\n",
    "del records, handle"
   ]
  },
  {
   "cell_type": "code",
   "execution_count": null,
   "metadata": {},
   "outputs": [
    {
     "name": "stdout",
     "output_type": "stream",
     "text": [
      "FJ817486.1\n",
      "1370\n"
     ]
    }
   ],
   "source": [
    "Entrez.email = \"robb.young.2011@gmail.com\"\n",
    "\n",
    "handle = Entrez.efetch(\n",
    "    db='nucleotide', \n",
    "    id=\"FJ817486\",\n",
    "    rettype='fasta'\n",
    ")\n",
    "\n",
    "record = list(SeqIO.parse(handle, \"fasta\"))\n",
    "print(record[0].id)\n",
    "print(len(record[0].seq))\n",
    "\n",
    "del handle, record"
   ]
  },
  {
   "cell_type": "code",
   "execution_count": null,
   "metadata": {},
   "outputs": [
    {
     "name": "stdout",
     "output_type": "stream",
     "text": [
      "Minimum:  JX469983.1 771\n",
      ">JX469983.1 Zea mays subsp. mays clone UT3343 G2-like transcription factor mRNA, partial cds\n",
      "ATGATGTATCATGCGAAGAATTTTTCTGTGCCCTTTGCTCCGCAGAGGGCACAGGATAATGAGCATGCAA\n",
      "GTAATATTGGAGGTATTGGTGGACCCAACATAAGCAACCCTGCTAATCCTGTAGGAAGTGGGAAACAACG\n",
      "GCTACGGTGGACATCGGATCTTCATAATCGCTTTGTGGATGCCATCGCCCAGCTTGGTGGACCAGACAGA\n",
      "GCTACACCTAAAGGGGTTCTCACTGTGATGGGTGTACCAGGGATCACAATTTATCATGTGAAGAGCCATC\n",
      "TGCAGAAGTATCGCCTTGCAAAGTATATACCCGACTCTCCTGCTGAAGGTTCCAAGGACGAAAAGAAAGA\n",
      "TTCGAGTGATTCCCTCTCGAACACGGATTCGGCACCAGGATTGCAAATCAATGAGGCACTAAAGATGCAA\n",
      "ATGGAGGTTCAGAAGCGACTACATGAGCAACTCGAGGTTCAAAGACAACTGCAACTAAGAATTGAAGCAC\n",
      "AAGGAAGATACTTGCAGATGATCATTGAGGAGCAACAAAAGCTTGGTGGATCAATTAAGGCTTCTGAGGA\n",
      "TCAGAAGCTTTCTGATTCACCTCCAAGCTTAGATGACTACCCAGAGAGCATGCAACCTTCTCCCAAGAAA\n",
      "CCAAGGATAGACGCATTATCACCAGATTCAGAGCGCGATACAACACAACCTGAATTCGAATCCCATTTGA\n",
      "TCGGTCCGTGGGATCACGGCATTGCATTCCCAGTGGAGGAGTTCAAAGCAGGCCCTGCTATGAGCAAGTC\n",
      "A\n",
      "\n",
      "\n"
     ]
    }
   ],
   "source": [
    "# Access example from Sample Dataset\n",
    "\n",
    "Entrez.email = \"robb.young.2011@gmail.com\"\n",
    "\n",
    "with open(\"rosalind_armory_sample_dataset.txt\", \"r\") as f:\n",
    "    sample = f.read().rstrip('\\n')\n",
    "del f\n",
    "\n",
    "handle = Entrez.efetch(\n",
    "    db='nucleotide', \n",
    "    id=[sample],\n",
    "    rettype='fasta'\n",
    ")\n",
    "records = list(SeqIO.parse(handle, \"fasta\"))\n",
    "\n",
    "min = 1e7\n",
    "min_label = ''\n",
    "for i in range(len(sample.split())):\n",
    "    if len(records[i].seq) < min:\n",
    "        min = len(records[i].seq)\n",
    "        min_label = records[i].id\n",
    "print('Minimum: ', min_label, str(min))\n",
    "del handle, records\n",
    "\n",
    "\n",
    "handle = Entrez.efetch(\n",
    "    db='nucleotide', \n",
    "    id=[min_label],\n",
    "    rettype='fasta'\n",
    ")\n",
    "records = handle.read()\n",
    "print(records)\n",
    "del records, handle\n",
    "\n",
    "del min, min_label, sample"
   ]
  },
  {
   "cell_type": "code",
   "execution_count": 36,
   "metadata": {},
   "outputs": [
    {
     "name": "stdout",
     "output_type": "stream",
     "text": [
      ">NM_001003102.2 Canis lupus familiaris ribosomal protein L27 (RPL27), mRNA\n",
      "CGTTTCTTCCTTTCTGCTGTAGGCTCGAGTGGCTGGTGTCGAGATGGGCAAGTTCATGAAACCCGGGAAG\n",
      "GTGGTGCTGGTCCTGGCCGGACGCTACTCCGGACGCAAAGCGGTCATCGTGAAGAACATTGATGATGGCA\n",
      "CCTCAGACCGTCCCTACAGCCATGCTCTGGTGGCCGGAATAGACCGCTATCCCCGAAAAGTGACAGCTGC\n",
      "CATGGGCAAGAAGAAAATCGCCAAGAGGTCAAAGATCAAGTCTTTTGTGAAAGTTTATAACTACAATCAC\n",
      "CTCATGCCCACAAGGTACTCTGTGGATATCCCTTTGGACAAAACTGTCGTCAACAAGGATGTCTTCAGAG\n",
      "ACCCTGCTCTTAAACGCAAGGCCCGACGAGAGGCCAAGGTCAAGTTCGAGGAGAGGTACAAGACTGGCAA\n",
      "GAATAAGTGGTTCTTCCAGAAGCTGCGGTTTTAGATTTCTTTCAGTCATTAAAAATAAATTAAAAAAAAA\n",
      "AAAAAGA\n",
      "\n",
      "\n"
     ]
    }
   ],
   "source": [
    "Entrez.email = \"robb.young.2011@gmail.com\"\n",
    "\n",
    "with open(\"rosalind_frmt.txt\", \"r\") as f:\n",
    "    sample = f.read().rstrip('\\n')\n",
    "del f\n",
    "\n",
    "handle = Entrez.efetch(\n",
    "    db='nucleotide', \n",
    "    id=[sample],\n",
    "    rettype='fasta'\n",
    ")\n",
    "records = list(SeqIO.parse(handle, \"fasta\"))\n",
    "\n",
    "min = 1e7\n",
    "min_label = ''\n",
    "for i in range(len(sample.split())):\n",
    "    if len(records[i].seq) < min:\n",
    "        min = len(records[i].seq)\n",
    "        min_label = records[i].id\n",
    "del handle, records, min, i\n",
    "\n",
    "\n",
    "handle = Entrez.efetch(\n",
    "    db='nucleotide', \n",
    "    id=[min_label],\n",
    "    rettype='fasta'\n",
    ")\n",
    "records = handle.read()\n",
    "print(records)\n",
    "del records, handle, min_label, sample"
   ]
  },
  {
   "cell_type": "markdown",
   "metadata": {},
   "source": [
    "---\n",
    "\n",
    "### Title (Abbrev)"
   ]
  },
  {
   "cell_type": "code",
   "execution_count": null,
   "metadata": {},
   "outputs": [],
   "source": []
  },
  {
   "cell_type": "code",
   "execution_count": null,
   "metadata": {},
   "outputs": [],
   "source": []
  },
  {
   "cell_type": "code",
   "execution_count": null,
   "metadata": {},
   "outputs": [],
   "source": []
  },
  {
   "cell_type": "code",
   "execution_count": null,
   "metadata": {},
   "outputs": [],
   "source": []
  }
 ],
 "metadata": {
  "kernelspec": {
   "display_name": "dnalab",
   "language": "python",
   "name": "python3"
  },
  "language_info": {
   "codemirror_mode": {
    "name": "ipython",
    "version": 3
   },
   "file_extension": ".py",
   "mimetype": "text/x-python",
   "name": "python",
   "nbconvert_exporter": "python",
   "pygments_lexer": "ipython3",
   "version": "3.10.13"
  }
 },
 "nbformat": 4,
 "nbformat_minor": 2
}
