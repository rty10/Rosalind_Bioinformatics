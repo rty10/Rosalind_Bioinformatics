{
 "cells": [
  {
   "cell_type": "markdown",
   "metadata": {},
   "source": [
    "## 'Complementing a Strand of DNA'\n",
    "\n",
    "Given: A DNA string *s* of length at most 1000 bp.\n",
    "\n",
    "Return: The reverse complement $s^c$ of *s*\n"
   ]
  },
  {
   "cell_type": "code",
   "execution_count": 1,
   "metadata": {},
   "outputs": [],
   "source": [
    "sample = 'AAAACCCGGT'"
   ]
  },
  {
   "cell_type": "code",
   "execution_count": 4,
   "metadata": {},
   "outputs": [],
   "source": [
    "def dna_complement(string):\n",
    "    '''\n",
    "    Load in string text of DNA nucleotides and return a string of complementary bases.\n",
    "    The string text is read 5` to 3`, so the initial complement will be 3`-5`. The output must be 5` to 3`.\n",
    "    Notes: \n",
    "       A-T, T-A, C-G, and G-C\n",
    "    '''\n",
    "    nt_dict = {'A':'T', 'T':'A', 'G':'C', 'C':'G'}\n",
    "    comp = ''\n",
    "    for i in string:\n",
    "        comp += nt_dict[i]\n",
    "    return comp[::-1]\n"
   ]
  },
  {
   "cell_type": "code",
   "execution_count": 6,
   "metadata": {},
   "outputs": [
    {
     "name": "stdout",
     "output_type": "stream",
     "text": [
      "AAAACCCGGT\n",
      "ACCGGGTTTT\n"
     ]
    }
   ],
   "source": [
    "print(sample)\n",
    "\n",
    "#test = dna_complement(sample)\n",
    "print(dna_complement(sample))\n",
    "#del test"
   ]
  },
  {
   "cell_type": "markdown",
   "metadata": {},
   "source": [
    "---"
   ]
  },
  {
   "cell_type": "code",
   "execution_count": 9,
   "metadata": {},
   "outputs": [
    {
     "name": "stdout",
     "output_type": "stream",
     "text": [
      "GCAGATGAAATGGGATGCAGCAAGAACACATTAAAACACGTAGATGTGAAATACTAGGATGAGAGTACGGATTGGGACGACCGAGTCTGCGGTAGTAATGAGCTTGGGTGATCGTTGTGTGAAACTCAGCTCGGAGATACCATGAAGCGCAGGACAGAAAATGAAATTCTAAGCTGGACTGTAACCTAGATGAGTGCAGCTCGAGCGCGGTTCAATGACCTACTCTTGATGTTCCATTCCGTCGTAGGGCTTTAGGAGGTTTTTCAAGCCATCCGACTGACTCCTACTCTTAGACTGAGCGGGCTTCTGGAACACTCGCAAAACTTTTCACGGACTCGATCTTACCCCCGCGTGTGTTGCCCCCAATATCAGGGCGAGGTCTCAGTTCGACTGATTGGTACAACCTACCACAGAGTGAATGTTAACATATCCCAGATTTGGTCCGTCTCTGGTCTTGATACGTTGCTAACAGTCTGATAGTCCTGGTTGAGTTTTCTGGACCCGCCGAAGACCGACGGACTGTTACGCCAGTCCCCTATATCTATACTGCGCGAACAGGCTCCTACATACCGCCGGCGACTCAACCTTAATCACGAGCGAGTCCGACCCCCGTAGCCCTGAGCCGCGTGTGTAGCTCTTTTAAGCGGCTAAGGTCGTATCCTTTAATCGAGGCGCAAGGTACCCATCACAGTCTCGGGACTTGCCTGAGGAGCATGTATTTGTGAGTCACTTTGAAGTCCTACATTGATGCGTTGTTTCCGCCTCGAGTGCGCCCCTTAAGATCCGATATCAATTACCGTACAAGTTATACATGCAGTTGTTGCCAATTCCCTGGAGATCTCTTTGTCTGCACAAAATTAATACCACAGTAAGGGGAGATGTGTCATCATGCCTTATAGCTTGTACATTCTCCCACCGAGAGGCCTCCGTACGATGAAGCGCTAGGACAAACAGATGCGGCCTCCAGACGCCATGGTGTATA\n"
     ]
    }
   ],
   "source": [
    "with open('datasets/rosalind_revc.txt') as infile:\n",
    "    text = infile.read()\n",
    "    text = text.rstrip('\\n')\n",
    "infile.close()\n",
    "\n",
    "print(dna_complement(text))\n",
    "\n",
    "del text\n"
   ]
  },
  {
   "cell_type": "code",
   "execution_count": null,
   "metadata": {},
   "outputs": [],
   "source": []
  }
 ],
 "metadata": {
  "kernelspec": {
   "display_name": "dnalab",
   "language": "python",
   "name": "python3"
  },
  "language_info": {
   "codemirror_mode": {
    "name": "ipython",
    "version": 3
   },
   "file_extension": ".py",
   "mimetype": "text/x-python",
   "name": "python",
   "nbconvert_exporter": "python",
   "pygments_lexer": "ipython3",
   "version": "3.10.9"
  }
 },
 "nbformat": 4,
 "nbformat_minor": 2
}
